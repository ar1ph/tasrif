{
 "cells": [
  {
   "cell_type": "code",
   "execution_count": 1,
   "id": "07aa6863",
   "metadata": {},
   "outputs": [],
   "source": [
    "import os\n",
    "from tasrif.processing_pipeline import SequenceOperator, ComposeOperator, MapIterableOperator\n",
    "from tasrif.data_readers.fitbit_interday_dataset import FitbitInterdayDataset\n",
    "from tasrif.processing_pipeline.pandas import ConvertToDatetimeOperator, SetIndexOperator, ConcatOperator, MergeOperator, \\\n",
    "AsTypeOperator, DropFeaturesOperator\n",
    "from tasrif.processing_pipeline.custom import CreateFeatureOperator, AggregateOperator, FlattenOperator"
   ]
  },
  {
   "cell_type": "code",
   "execution_count": 21,
   "id": "8df71867",
   "metadata": {},
   "outputs": [
    {
     "data": {
      "text/plain": [
       "'/Users/ahmad/mnt/data/fitbit-data/'"
      ]
     },
     "execution_count": 21,
     "metadata": {},
     "output_type": "execute_result"
    }
   ],
   "source": [
    "interday_folder_path = os.environ.get('FITBIT_INTERDAY_PATH', '/mnt/data/fitbit-data/')\n",
    "interday_folder_path"
   ]
  },
  {
   "cell_type": "code",
   "execution_count": 4,
   "id": "a88f210d",
   "metadata": {},
   "outputs": [],
   "source": [
    "import tasrif.yaml_parser as yaml_parser\n",
    "import yaml    "
   ]
  },
  {
   "cell_type": "code",
   "execution_count": 22,
   "id": "11748e69",
   "metadata": {},
   "outputs": [
    {
     "data": {
      "text/plain": [
       "'/Users/ahmad/mnt/data/fitbit-data/'"
      ]
     },
     "execution_count": 22,
     "metadata": {},
     "output_type": "execute_result"
    }
   ],
   "source": [
    "%env FITBIT_INTERDAY_PATH"
   ]
  },
  {
   "cell_type": "code",
   "execution_count": 23,
   "id": "c059bcb6",
   "metadata": {},
   "outputs": [],
   "source": [
    "with open(\"example.yaml\", \"r\") as stream:\n",
    "    try:\n",
    "        p = yaml_parser.from_yaml(stream)\n",
    "    except yaml.YAMLError as exc:\n",
    "        print(exc)"
   ]
  },
  {
   "cell_type": "code",
   "execution_count": 24,
   "id": "725a8bfa",
   "metadata": {},
   "outputs": [
    {
     "data": {
      "text/plain": [
       "[            Calories Burned  Steps  Distance  Minutes Sedentary  \\\n",
       " Date                                                              \n",
       " 2019-06-01             3406  13007      9.12                288   \n",
       " 2019-06-02             3541  13854      9.66                803   \n",
       " 2019-06-03             3866  15032     10.48                830   \n",
       " 2019-06-04             2896   7136      4.97                449   \n",
       " 2019-06-05             2838   7669      5.35                  0   \n",
       " 2019-06-06             3121   9451      6.59                109   \n",
       " 2019-06-07             3269   9271      6.46                 47   \n",
       " 2019-06-08             3960  14766     10.29                  0   \n",
       " 2019-06-09             3407  11197      7.80                359   \n",
       " 2019-06-10             3192   9395      6.55                161   \n",
       " 2019-06-11             3444  10538      7.34                204   \n",
       " 2019-06-12             4176  15100     10.52                472   \n",
       " 2019-06-13             4048  15731     10.96                501   \n",
       " 2019-06-14             2933  10341      7.21                659   \n",
       " 2019-06-15             3383  12306      8.86                  0   \n",
       " 2019-06-16             3391  11337      7.90                201   \n",
       " 2019-06-17             3835  15124     10.54                 96   \n",
       " 2019-06-18             3991  13878      9.72                 37   \n",
       " 2019-06-19             3841  12260      8.77                134   \n",
       " 2019-06-20             3795  13182      9.19                121   \n",
       " 2019-06-21             2813   7895      5.50                 39   \n",
       " 2019-06-22             3482  13297      9.48                  0   \n",
       " 2019-06-23             3781  16263     11.34                539   \n",
       " 2019-06-24             3537  13350      9.30                102   \n",
       " 2019-06-25             3621  12499      8.71                141   \n",
       " 2019-06-26             3757  15107     10.56                218   \n",
       " 2019-06-27             4306  18111     13.02                 82   \n",
       " 2019-06-28             3065  11798      8.22                  0   \n",
       " 2019-06-29             3112  11170      7.77                  6   \n",
       " 2019-06-30             3344  12234      8.53                277   \n",
       " \n",
       "             Minutes Asleep_sum  Minutes Non Sedentary  \n",
       " Date                                                   \n",
       " 2019-06-01                 436                  716.0  \n",
       " 2019-06-02                 291                  346.0  \n",
       " 2019-06-03                 198                  412.0  \n",
       " 2019-06-04                 220                  771.0  \n",
       " 2019-06-05                 745                  695.0  \n",
       " 2019-06-06                 456                  875.0  \n",
       " 2019-06-07                 534                  859.0  \n",
       " 2019-06-08                 503                  937.0  \n",
       " 2019-06-09                 394                  687.0  \n",
       " 2019-06-10                 399                  880.0  \n",
       " 2019-06-11                 380                  856.0  \n",
       " 2019-06-12                 312                  656.0  \n",
       " 2019-06-13                 327                  612.0  \n",
       " 2019-06-14                 487                  294.0  \n",
       " 2019-06-15                 522                  918.0  \n",
       " 2019-06-16                 378                  861.0  \n",
       " 2019-06-17                 430                  914.0  \n",
       " 2019-06-18                 437                  966.0  \n",
       " 2019-06-19                 388                  918.0  \n",
       " 2019-06-20                 409                  910.0  \n",
       " 2019-06-21                 527                  874.0  \n",
       " 2019-06-22                 509                  931.0  \n",
       " 2019-06-23                 263                  638.0  \n",
       " 2019-06-24                 428                  910.0  \n",
       " 2019-06-25                 443                  856.0  \n",
       " 2019-06-26                 379                  843.0  \n",
       " 2019-06-27                 367                  991.0  \n",
       " 2019-06-28                 548                  892.0  \n",
       " 2019-06-29                 514                  920.0  \n",
       " 2019-06-30                 353                  810.0  ]"
      ]
     },
     "execution_count": 24,
     "metadata": {},
     "output_type": "execute_result"
    }
   ],
   "source": [
    "df = p.process()\n",
    "df"
   ]
  }
 ],
 "metadata": {
  "kernelspec": {
   "display_name": "Python 3 (ipykernel)",
   "language": "python",
   "name": "python3"
  },
  "language_info": {
   "codemirror_mode": {
    "name": "ipython",
    "version": 3
   },
   "file_extension": ".py",
   "mimetype": "text/x-python",
   "name": "python",
   "nbconvert_exporter": "python",
   "pygments_lexer": "ipython3",
   "version": "3.9.8"
  }
 },
 "nbformat": 4,
 "nbformat_minor": 5
}
