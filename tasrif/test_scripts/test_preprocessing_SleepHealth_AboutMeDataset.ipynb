{
 "cells": [
  {
   "cell_type": "code",
   "execution_count": 49,
   "metadata": {
    "ExecuteTime": {
     "end_time": "2021-01-12T18:42:29.322800Z",
     "start_time": "2021-01-12T18:42:29.321037Z"
    }
   },
   "outputs": [
    {
     "name": "stdout",
     "output_type": "stream",
     "text": [
      "The autoreload extension is already loaded. To reload it, use:\n",
      "  %reload_ext autoreload\n"
     ]
    }
   ],
   "source": [
    "%load_ext autoreload\n",
    "%autoreload 2\n",
    "\n",
    "from tasrif.data_readers.sleep_health import AboutMeDataset\n",
    "from tasrif.processing_pipeline import ProcessingPipeline\n",
    "from tasrif.processing_pipeline.pandas import DropNAOperator\n",
    "from tasrif.processing_pipeline.pandas import DropDuplicatesOperator"
   ]
  },
  {
   "cell_type": "code",
   "execution_count": 50,
   "metadata": {
    "ExecuteTime": {
     "end_time": "2021-01-12T18:42:41.525740Z",
     "start_time": "2021-01-12T18:42:41.512641Z"
    }
   },
   "outputs": [
    {
     "name": "stdout",
     "output_type": "stream",
     "text": [
      "Full Shape: (3448, 21)\n"
     ]
    }
   ],
   "source": [
    "# Full AboutMeDataset\n",
    "aboutMe_full = AboutMeDataset(shc_folder=\"../../data/sleephealth/\",\n",
    "                         amd_filename=\"About Me.csv\",\n",
    "                         processing_pipeline=None)\n",
    "df_full = aboutMe_full.processed_dataframe()\n",
    "print(\"Full Shape:\", df_full.shape)"
   ]
  },
  {
   "cell_type": "code",
   "execution_count": 51,
   "outputs": [
    {
     "name": "stdout",
     "output_type": "stream",
     "text": [
      "Default Shape: (3019, 21)\n"
     ]
    }
   ],
   "source": [
    "# Default AboutMeDataset\n",
    "aboutMe_default = AboutMeDataset(shc_folder=\"../../data/sleephealth/\", amd_filename=\"About Me.csv\")\n",
    "df_default = aboutMe_default.processed_dataframe()\n",
    "print(\"Default Shape:\", df_default.shape)"
   ],
   "metadata": {
    "collapsed": false,
    "pycharm": {
     "name": "#%%\n"
    }
   }
  },
  {
   "cell_type": "code",
   "execution_count": 52,
   "outputs": [
    {
     "name": "stdout",
     "output_type": "stream",
     "text": [
      "- ``participantId`` has 0 NAs (0/3448 = 0.00%)\n",
      "- ``alcohol`` has 10 NAs (10/3448 = 0.29%)\n",
      "- ``basic_expenses`` has 20 NAs (20/3448 = 0.58%)\n",
      "- ``caffeine`` has 30 NAs (30/3448 = 0.87%)\n",
      "- ``daily_activities`` has 6 NAs (6/3448 = 0.17%)\n",
      "- ``daily_smoking`` has 11 NAs (11/3448 = 0.32%)\n",
      "- ``education`` has 17 NAs (17/3448 = 0.49%)\n",
      "- ``flexible_work_hours`` has 105 NAs (105/3448 = 3.05%)\n",
      "- ``gender`` has 8 NAs (8/3448 = 0.23%)\n",
      "- ``good_life`` has 10 NAs (10/3448 = 0.29%)\n",
      "- ``hispanic`` has 7 NAs (7/3448 = 0.20%)\n",
      "- ``income`` has 28 NAs (28/3448 = 0.81%)\n",
      "- ``marital`` has 7 NAs (7/3448 = 0.20%)\n",
      "- ``race`` has 8 NAs (8/3448 = 0.23%)\n",
      "- ``smoking_status`` has 21 NAs (21/3448 = 0.61%)\n",
      "- ``weight`` has 59 NAs (59/3448 = 1.71%)\n",
      "- ``menopause`` has 2340 NAs (2340/3448 = 67.87%)\n",
      "- ``recent_births`` has 2309 NAs (2309/3448 = 66.97%)\n",
      "- ``current_pregnant`` has 3438 NAs (3438/3448 = 99.71%)\n",
      "- ``work_schedule`` has 110 NAs (110/3448 = 3.19%)\n",
      "- ``timestamp`` has 0 NAs (0/3448 = 0.00%)\n"
     ]
    }
   ],
   "source": [
    "for key in df_full.keys():\n",
    "    aboutMe_tmp = AboutMeDataset(shc_folder=\"../../data/sleephealth/\",\n",
    "                             amd_filename=\"About Me.csv\",\n",
    "                             processing_pipeline=ProcessingPipeline([\n",
    "                                 DropNAOperator(subset=[key])\n",
    "                             ])\n",
    "                            )\n",
    "    df_tmp = aboutMe_tmp.processed_dataframe()\n",
    "    nNAs = df_full.shape[0] - df_tmp.shape[0]\n",
    "    ntotal = df_full.shape[0]\n",
    "    print(\"- ``%s`` has %d NAs (%d/%d = %.2f%%)\" % (key, nNAs, nNAs, ntotal, 100.*nNAs/ntotal))"
   ],
   "metadata": {
    "collapsed": false,
    "pycharm": {
     "name": "#%%\n"
    }
   }
  },
  {
   "cell_type": "code",
   "execution_count": 53,
   "metadata": {
    "ExecuteTime": {
     "end_time": "2021-01-12T18:44:47.299651Z",
     "start_time": "2021-01-12T18:44:47.296473Z"
    },
    "pycharm": {
     "name": "#%%\n"
    }
   },
   "outputs": [
    {
     "name": "stdout",
     "output_type": "stream",
     "text": [
      "Checking for duplicates?\n",
      "Original size: 3448, without duplicates 3262. Dropped 186 rows.\n"
     ]
    }
   ],
   "source": [
    "aboutMe_dropdup = AboutMeDataset(shc_folder=\"../../data/sleephealth/\",\n",
    "                              amd_filename=\"About Me.csv\",\n",
    "                              processing_pipeline=ProcessingPipeline([\n",
    "                                DropDuplicatesOperator(subset='participantId',\n",
    "                                                       keep='last')\n",
    "                                  ])\n",
    "                              )\n",
    "\n",
    "print(\"Checking for duplicates?\")\n",
    "original = df_full.shape[0]\n",
    "deduplicated = aboutMe_dropdup.processed_dataframe().shape[0]\n",
    "print(\"Original size: %d, without duplicates %d. Dropped %d rows.\" % (original, deduplicated, original - deduplicated))\n"
   ]
  }
 ],
 "metadata": {
  "kernelspec": {
   "name": "pycharm-5bd30262",
   "language": "python",
   "display_name": "PyCharm (tasrif)"
  },
  "language_info": {
   "codemirror_mode": {
    "name": "ipython",
    "version": 3
   },
   "file_extension": ".py",
   "mimetype": "text/x-python",
   "name": "python",
   "nbconvert_exporter": "python",
   "pygments_lexer": "ipython3",
   "version": "3.8.3"
  }
 },
 "nbformat": 4,
 "nbformat_minor": 4
}