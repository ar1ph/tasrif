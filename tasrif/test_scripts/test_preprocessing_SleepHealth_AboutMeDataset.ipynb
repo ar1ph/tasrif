{
 "cells": [
  {
   "cell_type": "code",
   "execution_count": 1,
   "metadata": {
    "ExecuteTime": {
     "end_time": "2021-01-12T18:42:29.322800Z",
     "start_time": "2021-01-12T18:42:29.321037Z"
    }
   },
   "outputs": [],
   "source": [
    "from tasrif.data_readers.sleep_health import AboutMeDataset"
   ]
  },
  {
   "cell_type": "code",
   "execution_count": 2,
   "metadata": {
    "ExecuteTime": {
     "end_time": "2021-01-12T18:42:41.525740Z",
     "start_time": "2021-01-12T18:42:41.512641Z"
    }
   },
   "outputs": [
    {
     "name": "stdout",
     "output_type": "stream",
     "text": [
      "Shape: (3448, 21)\n"
     ]
    }
   ],
   "source": [
    "# Full AboutMeDataset\n",
    "aboutMe = AboutMeDataset(shc_folder=\"../../data/sleephealth/\", amd_filename=\"About Me.csv\",\n",
    "                         drop_unanswered= False, drop_duplicates=False)\n",
    "df = aboutMe.aboutme_df.copy()\n",
    "print(\"Shape:\", df.shape)"
   ]
  },
  {
   "cell_type": "code",
   "execution_count": 3,
   "outputs": [
    {
     "data": {
      "text/plain": "                          participantId  alcohol  basic_expenses  caffeine  \\\n0  0c82c9d1-25ba-4cb2-95df-f79fca0b8464      1.0             3.0       4.0   \n1  20a71d11-3d78-4ee0-a172-5dd8f7e33bd2      0.0             4.0       5.0   \n2  f5aac809-fd16-4733-83ee-0991eaf7036f      0.0             3.0       3.0   \n3  5ceb42a9-cd99-4ba8-93d8-4fc4a5de5a4f      2.0             4.0       1.0   \n4  80bfb0f6-601c-47ed-9538-bedb8eb6c69f      1.0             2.0       3.0   \n\n   daily_activities  daily_smoking  education  flexible_work_hours  gender  \\\n0               1.0            1.0        4.0                  2.0     1.0   \n1               1.0            3.0        4.0                  1.0     2.0   \n2               1.0            3.0        4.0                  2.0     2.0   \n3               1.0            3.0        5.0                  2.0     2.0   \n4               4.0            3.0        5.0                  2.0     3.0   \n\n   good_life  ... income  marital  race smoking_status  weight menopause  \\\n0        3.0  ...    1.0      2.0     5            1.0   161.0       3.0   \n1        5.0  ...    5.0      1.0     5            4.0   340.0       NaN   \n2        3.0  ...    2.0      4.0     5            4.0   249.0       NaN   \n3        4.0  ...    4.0      1.0     5            4.0   235.0       NaN   \n4        2.0  ...    2.0      7.0     5            4.0   135.0       3.0   \n\n   recent_births  current_pregnant  work_schedule                  timestamp  \n0            4.0               NaN            1.0  2016-03-04T16:54:18-06:00  \n1            NaN               NaN            1.0  2016-03-04T16:59:09-06:00  \n2            NaN               NaN            1.0  2016-03-04T16:11:14-07:00  \n3            NaN               NaN            1.0  2016-03-04T17:22:08-06:00  \n4            4.0               NaN            4.0  2016-03-04T15:40:37-08:00  \n\n[5 rows x 21 columns]",
      "text/html": "<div>\n<style scoped>\n    .dataframe tbody tr th:only-of-type {\n        vertical-align: middle;\n    }\n\n    .dataframe tbody tr th {\n        vertical-align: top;\n    }\n\n    .dataframe thead th {\n        text-align: right;\n    }\n</style>\n<table border=\"1\" class=\"dataframe\">\n  <thead>\n    <tr style=\"text-align: right;\">\n      <th></th>\n      <th>participantId</th>\n      <th>alcohol</th>\n      <th>basic_expenses</th>\n      <th>caffeine</th>\n      <th>daily_activities</th>\n      <th>daily_smoking</th>\n      <th>education</th>\n      <th>flexible_work_hours</th>\n      <th>gender</th>\n      <th>good_life</th>\n      <th>...</th>\n      <th>income</th>\n      <th>marital</th>\n      <th>race</th>\n      <th>smoking_status</th>\n      <th>weight</th>\n      <th>menopause</th>\n      <th>recent_births</th>\n      <th>current_pregnant</th>\n      <th>work_schedule</th>\n      <th>timestamp</th>\n    </tr>\n  </thead>\n  <tbody>\n    <tr>\n      <th>0</th>\n      <td>0c82c9d1-25ba-4cb2-95df-f79fca0b8464</td>\n      <td>1.0</td>\n      <td>3.0</td>\n      <td>4.0</td>\n      <td>1.0</td>\n      <td>1.0</td>\n      <td>4.0</td>\n      <td>2.0</td>\n      <td>1.0</td>\n      <td>3.0</td>\n      <td>...</td>\n      <td>1.0</td>\n      <td>2.0</td>\n      <td>5</td>\n      <td>1.0</td>\n      <td>161.0</td>\n      <td>3.0</td>\n      <td>4.0</td>\n      <td>NaN</td>\n      <td>1.0</td>\n      <td>2016-03-04T16:54:18-06:00</td>\n    </tr>\n    <tr>\n      <th>1</th>\n      <td>20a71d11-3d78-4ee0-a172-5dd8f7e33bd2</td>\n      <td>0.0</td>\n      <td>4.0</td>\n      <td>5.0</td>\n      <td>1.0</td>\n      <td>3.0</td>\n      <td>4.0</td>\n      <td>1.0</td>\n      <td>2.0</td>\n      <td>5.0</td>\n      <td>...</td>\n      <td>5.0</td>\n      <td>1.0</td>\n      <td>5</td>\n      <td>4.0</td>\n      <td>340.0</td>\n      <td>NaN</td>\n      <td>NaN</td>\n      <td>NaN</td>\n      <td>1.0</td>\n      <td>2016-03-04T16:59:09-06:00</td>\n    </tr>\n    <tr>\n      <th>2</th>\n      <td>f5aac809-fd16-4733-83ee-0991eaf7036f</td>\n      <td>0.0</td>\n      <td>3.0</td>\n      <td>3.0</td>\n      <td>1.0</td>\n      <td>3.0</td>\n      <td>4.0</td>\n      <td>2.0</td>\n      <td>2.0</td>\n      <td>3.0</td>\n      <td>...</td>\n      <td>2.0</td>\n      <td>4.0</td>\n      <td>5</td>\n      <td>4.0</td>\n      <td>249.0</td>\n      <td>NaN</td>\n      <td>NaN</td>\n      <td>NaN</td>\n      <td>1.0</td>\n      <td>2016-03-04T16:11:14-07:00</td>\n    </tr>\n    <tr>\n      <th>3</th>\n      <td>5ceb42a9-cd99-4ba8-93d8-4fc4a5de5a4f</td>\n      <td>2.0</td>\n      <td>4.0</td>\n      <td>1.0</td>\n      <td>1.0</td>\n      <td>3.0</td>\n      <td>5.0</td>\n      <td>2.0</td>\n      <td>2.0</td>\n      <td>4.0</td>\n      <td>...</td>\n      <td>4.0</td>\n      <td>1.0</td>\n      <td>5</td>\n      <td>4.0</td>\n      <td>235.0</td>\n      <td>NaN</td>\n      <td>NaN</td>\n      <td>NaN</td>\n      <td>1.0</td>\n      <td>2016-03-04T17:22:08-06:00</td>\n    </tr>\n    <tr>\n      <th>4</th>\n      <td>80bfb0f6-601c-47ed-9538-bedb8eb6c69f</td>\n      <td>1.0</td>\n      <td>2.0</td>\n      <td>3.0</td>\n      <td>4.0</td>\n      <td>3.0</td>\n      <td>5.0</td>\n      <td>2.0</td>\n      <td>3.0</td>\n      <td>2.0</td>\n      <td>...</td>\n      <td>2.0</td>\n      <td>7.0</td>\n      <td>5</td>\n      <td>4.0</td>\n      <td>135.0</td>\n      <td>3.0</td>\n      <td>4.0</td>\n      <td>NaN</td>\n      <td>4.0</td>\n      <td>2016-03-04T15:40:37-08:00</td>\n    </tr>\n  </tbody>\n</table>\n<p>5 rows × 21 columns</p>\n</div>"
     },
     "execution_count": 3,
     "metadata": {},
     "output_type": "execute_result"
    }
   ],
   "source": [
    "df.head()"
   ],
   "metadata": {
    "collapsed": false,
    "pycharm": {
     "name": "#%%\n"
    }
   }
  },
  {
   "cell_type": "code",
   "execution_count": 4,
   "metadata": {
    "ExecuteTime": {
     "end_time": "2021-01-12T18:44:47.299651Z",
     "start_time": "2021-01-12T18:44:47.296473Z"
    },
    "pycharm": {
     "name": "#%%\n"
    }
   },
   "outputs": [
    {
     "name": "stdout",
     "output_type": "stream",
     "text": [
      "- ``alcohol`` has 10 NAs (10/3448 = 0.29%)\n",
      "- ``basic_expenses`` has 20 NAs (20/3448 = 0.58%)\n",
      "- ``caffeine`` has 30 NAs (30/3448 = 0.87%)\n",
      "- ``daily_activities`` has 6 NAs (6/3448 = 0.17%)\n",
      "- ``daily_smoking`` has 11 NAs (11/3448 = 0.32%)\n",
      "- ``education`` has 17 NAs (17/3448 = 0.49%)\n",
      "- ``flexible_work_hours`` has 105 NAs (105/3448 = 3.05%)\n",
      "- ``gender`` has 8 NAs (8/3448 = 0.23%)\n",
      "- ``good_life`` has 10 NAs (10/3448 = 0.29%)\n",
      "- ``hispanic`` has 7 NAs (7/3448 = 0.20%)\n",
      "- ``income`` has 28 NAs (28/3448 = 0.81%)\n",
      "- ``marital`` has 7 NAs (7/3448 = 0.20%)\n",
      "- ``race`` has 8 NAs (8/3448 = 0.23%)\n",
      "- ``smoking_status`` has 21 NAs (21/3448 = 0.61%)\n",
      "- ``weight`` has 59 NAs (59/3448 = 1.71%)\n",
      "- ``menopause`` has 2340 NAs (2340/3448 = 67.87%)\n",
      "- ``recent_births`` has 2309 NAs (2309/3448 = 66.97%)\n",
      "- ``current_pregnant`` has 3438 NAs (3438/3448 = 99.71%)\n",
      "- ``work_schedule`` has 110 NAs (110/3448 = 3.19%)\n"
     ]
    }
   ],
   "source": [
    "ntotal = df.shape[0]\n",
    "for key in df.keys():\n",
    "    nNAs = df[df[key].isnull()].shape[0]\n",
    "    if nNAs > 0:\n",
    "        print(\"- ``%s`` has %d NAs (%d/%d = %.2f%%)\" % (key, nNAs, nNAs, ntotal, 100.*nNAs/ntotal))"
   ]
  },
  {
   "cell_type": "code",
   "execution_count": 5,
   "outputs": [
    {
     "name": "stdout",
     "output_type": "stream",
     "text": [
      "Are there duplicates? Original size: 3448, without duplicates 3262. \n"
     ]
    }
   ],
   "source": [
    "print(\"Are there duplicates? Original size: %d, without duplicates %d. \" % (df.shape[0], df.drop_duplicates(\"participantId\").shape[0]))"
   ],
   "metadata": {
    "collapsed": false,
    "pycharm": {
     "name": "#%%\n"
    }
   }
  },
  {
   "cell_type": "code",
   "execution_count": 6,
   "metadata": {
    "pycharm": {
     "name": "#%%\n"
    }
   },
   "outputs": [
    {
     "name": "stdout",
     "output_type": "stream",
     "text": [
      "(3448, 21)\n"
     ]
    },
    {
     "data": {
      "text/plain": "(3181, 21)"
     },
     "execution_count": 6,
     "metadata": {},
     "output_type": "execute_result"
    }
   ],
   "source": [
    "print(df.shape)\n",
    "df_withoutna = df[df.alcohol.notnull() &\n",
    "                   df.basic_expenses.notnull() &\n",
    "                   df.caffeine.notnull() &\n",
    "                   df.daily_activities.notnull() &\n",
    "                   df.daily_smoking.notnull() &\n",
    "                   df.education.notnull() &\n",
    "                   df.flexible_work_hours.notnull() &\n",
    "                   df.gender.notnull() &\n",
    "                   df.good_life.notnull() &\n",
    "                   df.hispanic.notnull() &\n",
    "                   df.income.notnull() &\n",
    "                   df.marital.notnull() &\n",
    "                   df.race.notnull() &\n",
    "                   df.smoking_status.notnull() &\n",
    "                   df.weight.notnull() &\n",
    "                   # df.menopause.notnull() &\n",
    "                   # df.recent_births.notnull() &\n",
    "                   # df.current_pregnant.notnull() &\n",
    "                   df.work_schedule.notnull()\n",
    "                ]\n",
    "df_withoutna.shape"
   ]
  },
  {
   "cell_type": "code",
   "execution_count": 7,
   "outputs": [
    {
     "data": {
      "text/plain": "3019"
     },
     "execution_count": 7,
     "metadata": {},
     "output_type": "execute_result"
    }
   ],
   "source": [
    "# After removing NAs and dropping duplicates:\n",
    "df_withoutna.drop_duplicates(\"participantId\").shape[0]\n"
   ],
   "metadata": {
    "collapsed": false,
    "pycharm": {
     "name": "#%%\n"
    }
   }
  },
  {
   "cell_type": "code",
   "execution_count": 9,
   "outputs": [],
   "source": [
    "aboutMe = AboutMeDataset(shc_folder=\"../../data/sleephealth/\", amd_filename=\"About Me.csv\",\n",
    "                         drop_unanswered= False, drop_duplicates=False)\n",
    "assert aboutMe.processed_dataframe().shape[0] == 3448\n",
    "\n",
    "aboutMe = AboutMeDataset(shc_folder=\"../../data/sleephealth/\", amd_filename=\"About Me.csv\",\n",
    "                         drop_unanswered= True, drop_duplicates=False)\n",
    "assert aboutMe.processed_dataframe().shape[0] == 3181\n",
    "\n",
    "aboutMe = AboutMeDataset(shc_folder=\"../../data/sleephealth/\", amd_filename=\"About Me.csv\",\n",
    "                         drop_unanswered= False, drop_duplicates=True)\n",
    "assert aboutMe.processed_dataframe().shape[0] == 3262\n",
    "\n",
    "aboutMe = AboutMeDataset(shc_folder=\"../../data/sleephealth/\", amd_filename=\"About Me.csv\",\n",
    "                         drop_unanswered= True, drop_duplicates=True)\n",
    "assert aboutMe.processed_dataframe().shape[0] == 3019"
   ],
   "metadata": {
    "collapsed": false,
    "pycharm": {
     "name": "#%%\n"
    }
   }
  }
 ],
 "metadata": {
  "kernelspec": {
   "name": "python3",
   "language": "python",
   "display_name": "Python 3"
  },
  "language_info": {
   "codemirror_mode": {
    "name": "ipython",
    "version": 3
   },
   "file_extension": ".py",
   "mimetype": "text/x-python",
   "name": "python",
   "nbconvert_exporter": "python",
   "pygments_lexer": "ipython3",
   "version": "3.8.3"
  }
 },
 "nbformat": 4,
 "nbformat_minor": 4
}