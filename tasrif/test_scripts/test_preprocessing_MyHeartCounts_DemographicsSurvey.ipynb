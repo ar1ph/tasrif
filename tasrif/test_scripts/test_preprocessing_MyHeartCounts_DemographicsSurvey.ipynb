{
 "cells": [
  {
   "cell_type": "code",
   "execution_count": 1,
   "metadata": {},
   "outputs": [
    {
     "name": "stdout",
     "output_type": "stream",
     "text": [
      "Some important stats:\n",
      "Shape: (12439, 11)\n",
      "\t- This dataset contains unique data for  12439 participants.\n",
      "\t - ` recordId ` has 0 NAs ( 12439 / 12439 ) = 0.00 %\n",
      "\t - ` appVersion ` has 0 NAs ( 12439 / 12439 ) = 0.00 %\n",
      "\t - ` phoneInfo ` has 0 NAs ( 12439 / 12439 ) = 0.00 %\n",
      "\t - ` healthCode ` has 0 NAs ( 12439 / 12439 ) = 0.00 %\n",
      "\t - ` createdOn ` has 0 NAs ( 12439 / 12439 ) = 0.00 %\n",
      "\t - ` patientWeightPounds ` has 8066 NAs ( 4373 / 12439 ) = 64.84 %\n",
      "\t - ` patientBiologicalSex ` has 7655 NAs ( 4784 / 12439 ) = 61.54 %\n",
      "\t - ` patientHeightInches ` has 7952 NAs ( 4487 / 12439 ) = 63.93 %\n",
      "\t - ` patientWakeUpTime ` has 7666 NAs ( 4773 / 12439 ) = 61.63 %\n",
      "\t - ` patientCurrentAge ` has 9568 NAs ( 2871 / 12439 ) = 76.92 %\n",
      "\t - ` patientGoSleepTime ` has 7615 NAs ( 4824 / 12439 ) = 61.22 %\n"
     ]
    }
   ],
   "source": [
    "import pandas as pd\n",
    "\n",
    "df = pd.read_csv('E:\\\\Development\\\\siha\\\\Demographics Survey.csv')\n",
    "\n",
    "\n",
    "def col_stats(df):\n",
    "    print('Some important stats:')\n",
    "    print('Shape:', df.shape)\n",
    "    print('\\t- This dataset contains unique data for ', len(df) ,'participants.')\n",
    "    for col in df.columns:\n",
    "        null_percentage = \"{:.2f}\".format(df[col].isnull().sum()/len(df)*100)\n",
    "        print('\\t - `', col, '` has', df[col].isnull().sum(), 'NAs (', df[col].count().sum(), '/', len(df), ') =', \n",
    "              null_percentage, '%')\n",
    "        \n",
    "col_stats(df)\n",
    "\n",
    "from tasrif.data_readers.my_heart_counts import DemographicsSurveyDataset\n",
    "\n",
    "demo = DemographicsSurveyDataset(mhc_folder='E:\\\\Development\\\\siha\\\\')"
   ]
  },
  {
   "cell_type": "code",
   "execution_count": null,
   "metadata": {},
   "outputs": [],
   "source": [
    "demo.raw_dataframe()"
   ]
  },
  {
   "cell_type": "code",
   "execution_count": null,
   "metadata": {},
   "outputs": [],
   "source": [
    "demo.processed_dataframe()"
   ]
  },
  {
   "cell_type": "code",
   "execution_count": null,
   "metadata": {},
   "outputs": [],
   "source": [
    "demo.participant_count()"
   ]
  }
 ],
 "metadata": {
  "kernelspec": {
   "display_name": "Python 3",
   "language": "python",
   "name": "python3"
  },
  "language_info": {
   "codemirror_mode": {
    "name": "ipython",
    "version": 3
   },
   "file_extension": ".py",
   "mimetype": "text/x-python",
   "name": "python",
   "nbconvert_exporter": "python",
   "pygments_lexer": "ipython3",
   "version": "3.8.8"
  }
 },
 "nbformat": 4,
 "nbformat_minor": 4
}
