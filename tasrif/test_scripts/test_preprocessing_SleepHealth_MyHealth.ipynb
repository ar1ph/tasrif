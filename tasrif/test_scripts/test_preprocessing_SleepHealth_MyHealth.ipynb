{
 "cells": [
  {
   "cell_type": "code",
   "execution_count": 1,
   "metadata": {
    "ExecuteTime": {
     "end_time": "2021-02-28T12:09:56.778445Z",
     "start_time": "2021-02-28T12:09:56.760220Z"
    }
   },
   "outputs": [],
   "source": [
    "%load_ext autoreload\n",
    "%autoreload 2\n",
    "\n",
    "import numpy as np\n",
    "\n",
    "from tasrif.processing_pipeline import ProcessingPipeline\n",
    "from tasrif.processing_pipeline.pandas import ConvertToDatetimeOperator, SortOperator, ReplaceOperator\n",
    "from tasrif.processing_pipeline.pandas import DropDuplicatesOperator, DropNAOperator, DropFeaturesOperator\n",
    "from tasrif.processing_pipeline.custom import OneHotEncoderOperator\n",
    "\n",
    "from tasrif.data_readers.sleep_health import MyHealthDataset\n"
   ]
  },
  {
   "cell_type": "code",
   "execution_count": 2,
   "metadata": {
    "ExecuteTime": {
     "end_time": "2021-02-28T12:09:58.015948Z",
     "start_time": "2021-02-28T12:09:57.965665Z"
    }
   },
   "outputs": [],
   "source": [
    "def col_stats(df):\n",
    "    print('Some important stats:')\n",
    "    print('\\t- This dataset contains', len(df) ,' rows.')\n",
    "    for col in df.columns:\n",
    "        null_percentage = \"{:.2f}\".format(df[col].isnull().sum()/len(df)*100)\n",
    "        print('\\t - ``', col, '`` has', df[col].isnull().sum(), 'NAs (', df[col].count().sum(), '/', len(df), ') =',\n",
    "              null_percentage, '%')"
   ]
  },
  {
   "cell_type": "code",
   "execution_count": 3,
   "metadata": {
    "pycharm": {
     "name": "#%%\n"
    }
   },
   "outputs": [
    {
     "name": "stdout",
     "output_type": "stream",
     "text": [
      "Shape: (1551, 114)\n"
     ]
    },
    {
     "data": {
      "text/plain": "                          participantId  age_allergies  current_allergies  \\\n0  f2514967-9173-4834-96f7-0acdd0298e84            NaN                NaN   \n1  7a8e66eb-7c5d-4e55-8967-f3f46f781253            5.0                1.0   \n2  2b8a2d5f-f9b1-416d-84f5-a2d87384cc56           43.0                1.0   \n3  11599500-9817-47ff-b036-019d6fa85bbf           15.0                2.0   \n4  0eba3ad1-3fd1-46d3-9771-dfff5c477b96           50.0                1.0   \n\n   impactsleep_allergies  sleepimpact_allergies  allergies  anxiety  \\\n0                    NaN                    NaN        2.0      3.0   \n1                    1.0                    2.0        1.0      1.0   \n2                    2.0                    1.0        1.0      1.0   \n3                    1.0                    2.0        1.0      2.0   \n4                    1.0                    1.0        1.0      1.0   \n\n   age_anxiety  current_anxiety  impactsleep_anxiety  ...  risk  \\\n0          NaN              NaN                  NaN  ...     4   \n1         32.0              1.0                  1.0  ...   2,3   \n2         42.0              1.0                  1.0  ...     4   \n3          NaN              NaN                  NaN  ...     4   \n4         44.0              1.0                  1.0  ...     3   \n\n   sleep_trouble  social_activities  stressed  uars  age_uars  current_uars  \\\n0            2.0                4.0         3   3.0       NaN           NaN   \n1            3.0                5.0         5   2.0       NaN           NaN   \n2            3.0                3.0         4   2.0       NaN           NaN   \n3            2.0                3.0         3   2.0       NaN           NaN   \n4            2.0                1.0         1   2.0       NaN           NaN   \n\n   impactsleep_uars  sleepimpact_uars                  timestamp  \n0               NaN               NaN  2016-03-03T07:28:00-08:00  \n1               NaN               NaN  2016-09-17T23:05:39-05:00  \n2               NaN               NaN  2016-09-18T10:28:16-04:00  \n3               NaN               NaN  2016-03-04T01:25:44-06:00  \n4               NaN               NaN  2016-03-24T21:39:55+13:00  \n\n[5 rows x 114 columns]",
      "text/html": "<div>\n<style scoped>\n    .dataframe tbody tr th:only-of-type {\n        vertical-align: middle;\n    }\n\n    .dataframe tbody tr th {\n        vertical-align: top;\n    }\n\n    .dataframe thead th {\n        text-align: right;\n    }\n</style>\n<table border=\"1\" class=\"dataframe\">\n  <thead>\n    <tr style=\"text-align: right;\">\n      <th></th>\n      <th>participantId</th>\n      <th>age_allergies</th>\n      <th>current_allergies</th>\n      <th>impactsleep_allergies</th>\n      <th>sleepimpact_allergies</th>\n      <th>allergies</th>\n      <th>anxiety</th>\n      <th>age_anxiety</th>\n      <th>current_anxiety</th>\n      <th>impactsleep_anxiety</th>\n      <th>...</th>\n      <th>risk</th>\n      <th>sleep_trouble</th>\n      <th>social_activities</th>\n      <th>stressed</th>\n      <th>uars</th>\n      <th>age_uars</th>\n      <th>current_uars</th>\n      <th>impactsleep_uars</th>\n      <th>sleepimpact_uars</th>\n      <th>timestamp</th>\n    </tr>\n  </thead>\n  <tbody>\n    <tr>\n      <th>0</th>\n      <td>f2514967-9173-4834-96f7-0acdd0298e84</td>\n      <td>NaN</td>\n      <td>NaN</td>\n      <td>NaN</td>\n      <td>NaN</td>\n      <td>2.0</td>\n      <td>3.0</td>\n      <td>NaN</td>\n      <td>NaN</td>\n      <td>NaN</td>\n      <td>...</td>\n      <td>4</td>\n      <td>2.0</td>\n      <td>4.0</td>\n      <td>3</td>\n      <td>3.0</td>\n      <td>NaN</td>\n      <td>NaN</td>\n      <td>NaN</td>\n      <td>NaN</td>\n      <td>2016-03-03T07:28:00-08:00</td>\n    </tr>\n    <tr>\n      <th>1</th>\n      <td>7a8e66eb-7c5d-4e55-8967-f3f46f781253</td>\n      <td>5.0</td>\n      <td>1.0</td>\n      <td>1.0</td>\n      <td>2.0</td>\n      <td>1.0</td>\n      <td>1.0</td>\n      <td>32.0</td>\n      <td>1.0</td>\n      <td>1.0</td>\n      <td>...</td>\n      <td>2,3</td>\n      <td>3.0</td>\n      <td>5.0</td>\n      <td>5</td>\n      <td>2.0</td>\n      <td>NaN</td>\n      <td>NaN</td>\n      <td>NaN</td>\n      <td>NaN</td>\n      <td>2016-09-17T23:05:39-05:00</td>\n    </tr>\n    <tr>\n      <th>2</th>\n      <td>2b8a2d5f-f9b1-416d-84f5-a2d87384cc56</td>\n      <td>43.0</td>\n      <td>1.0</td>\n      <td>2.0</td>\n      <td>1.0</td>\n      <td>1.0</td>\n      <td>1.0</td>\n      <td>42.0</td>\n      <td>1.0</td>\n      <td>1.0</td>\n      <td>...</td>\n      <td>4</td>\n      <td>3.0</td>\n      <td>3.0</td>\n      <td>4</td>\n      <td>2.0</td>\n      <td>NaN</td>\n      <td>NaN</td>\n      <td>NaN</td>\n      <td>NaN</td>\n      <td>2016-09-18T10:28:16-04:00</td>\n    </tr>\n    <tr>\n      <th>3</th>\n      <td>11599500-9817-47ff-b036-019d6fa85bbf</td>\n      <td>15.0</td>\n      <td>2.0</td>\n      <td>1.0</td>\n      <td>2.0</td>\n      <td>1.0</td>\n      <td>2.0</td>\n      <td>NaN</td>\n      <td>NaN</td>\n      <td>NaN</td>\n      <td>...</td>\n      <td>4</td>\n      <td>2.0</td>\n      <td>3.0</td>\n      <td>3</td>\n      <td>2.0</td>\n      <td>NaN</td>\n      <td>NaN</td>\n      <td>NaN</td>\n      <td>NaN</td>\n      <td>2016-03-04T01:25:44-06:00</td>\n    </tr>\n    <tr>\n      <th>4</th>\n      <td>0eba3ad1-3fd1-46d3-9771-dfff5c477b96</td>\n      <td>50.0</td>\n      <td>1.0</td>\n      <td>1.0</td>\n      <td>1.0</td>\n      <td>1.0</td>\n      <td>1.0</td>\n      <td>44.0</td>\n      <td>1.0</td>\n      <td>1.0</td>\n      <td>...</td>\n      <td>3</td>\n      <td>2.0</td>\n      <td>1.0</td>\n      <td>1</td>\n      <td>2.0</td>\n      <td>NaN</td>\n      <td>NaN</td>\n      <td>NaN</td>\n      <td>NaN</td>\n      <td>2016-03-24T21:39:55+13:00</td>\n    </tr>\n  </tbody>\n</table>\n<p>5 rows × 114 columns</p>\n</div>"
     },
     "execution_count": 3,
     "metadata": {},
     "output_type": "execute_result"
    }
   ],
   "source": [
    "# Full MyFamilyDataset\n",
    "mf = MyHealthDataset(shc_folder=\"../../data/sleephealth/\", pipeline=None)\n",
    "df = mf.raw_df.copy()\n",
    "print(\"Shape:\", df.shape)\n",
    "df.head()"
   ]
  },
  {
   "cell_type": "code",
   "execution_count": 4,
   "metadata": {
    "pycharm": {
     "name": "#%%\n"
    }
   },
   "outputs": [
    {
     "name": "stdout",
     "output_type": "stream",
     "text": [
      "Some important stats:\n",
      "\t- This dataset contains 1551  rows.\n",
      "\t - `` participantId `` has 0 NAs ( 1551 / 1551 ) = 0.00 %\n",
      "\t - `` age_allergies `` has 867 NAs ( 684 / 1551 ) = 55.90 %\n",
      "\t - `` current_allergies `` has 833 NAs ( 718 / 1551 ) = 53.71 %\n",
      "\t - `` impactsleep_allergies `` has 833 NAs ( 718 / 1551 ) = 53.71 %\n",
      "\t - `` sleepimpact_allergies `` has 835 NAs ( 716 / 1551 ) = 53.84 %\n",
      "\t - `` allergies `` has 3 NAs ( 1548 / 1551 ) = 0.19 %\n",
      "\t - `` anxiety `` has 3 NAs ( 1548 / 1551 ) = 0.19 %\n",
      "\t - `` age_anxiety `` has 1094 NAs ( 457 / 1551 ) = 70.54 %\n",
      "\t - `` current_anxiety `` has 1085 NAs ( 466 / 1551 ) = 69.95 %\n",
      "\t - `` impactsleep_anxiety `` has 1085 NAs ( 466 / 1551 ) = 69.95 %\n",
      "\t - `` sleepimpact_anxiety `` has 1084 NAs ( 467 / 1551 ) = 69.89 %\n",
      "\t - `` anxious `` has 1 NAs ( 1550 / 1551 ) = 0.06 %\n",
      "\t - `` apnea `` has 3 NAs ( 1548 / 1551 ) = 0.19 %\n",
      "\t - `` age_apnea `` has 1228 NAs ( 323 / 1551 ) = 79.17 %\n",
      "\t - `` current_apnea `` has 1223 NAs ( 328 / 1551 ) = 78.85 %\n",
      "\t - `` impactsleep_apnea `` has 1223 NAs ( 328 / 1551 ) = 78.85 %\n",
      "\t - `` sleepimpact_apnea `` has 1227 NAs ( 324 / 1551 ) = 79.11 %\n",
      "\t - `` asthma `` has 2 NAs ( 1549 / 1551 ) = 0.13 %\n",
      "\t - `` age_asthma `` has 1242 NAs ( 309 / 1551 ) = 80.08 %\n",
      "\t - `` current_asthma `` has 1239 NAs ( 312 / 1551 ) = 79.88 %\n",
      "\t - `` impactsleep_asthma `` has 1239 NAs ( 312 / 1551 ) = 79.88 %\n",
      "\t - `` sleepimpact_asthma `` has 1239 NAs ( 312 / 1551 ) = 79.88 %\n",
      "\t - `` atrial `` has 0 NAs ( 1551 / 1551 ) = 0.00 %\n",
      "\t - `` age_atrial `` has 1521 NAs ( 30 / 1551 ) = 98.07 %\n",
      "\t - `` current_atrial `` has 1521 NAs ( 30 / 1551 ) = 98.07 %\n",
      "\t - `` impactsleep_atrial `` has 1521 NAs ( 30 / 1551 ) = 98.07 %\n",
      "\t - `` sleepimpact_atrial `` has 1521 NAs ( 30 / 1551 ) = 98.07 %\n",
      "\t - `` hi_blood_pressure `` has 1 NAs ( 1550 / 1551 ) = 0.06 %\n",
      "\t - `` age_hbp `` has 1269 NAs ( 282 / 1551 ) = 81.82 %\n",
      "\t - `` current_hbp `` has 1264 NAs ( 287 / 1551 ) = 81.50 %\n",
      "\t - `` impactsleep_hbp `` has 1264 NAs ( 287 / 1551 ) = 81.50 %\n",
      "\t - `` sleepimpact_hbp `` has 1265 NAs ( 286 / 1551 ) = 81.56 %\n",
      "\t - `` cancer `` has 0 NAs ( 1551 / 1551 ) = 0.00 %\n",
      "\t - `` age_cancer `` has 1486 NAs ( 65 / 1551 ) = 95.81 %\n",
      "\t - `` current_cancer `` has 1486 NAs ( 65 / 1551 ) = 95.81 %\n",
      "\t - `` impactsleep_cancer `` has 1486 NAs ( 65 / 1551 ) = 95.81 %\n",
      "\t - `` sleepimpact_cancer `` has 1486 NAs ( 65 / 1551 ) = 95.81 %\n",
      "\t - `` cardiovascular `` has 7 NAs ( 1544 / 1551 ) = 0.45 %\n",
      "\t - `` compare_one_year `` has 1 NAs ( 1550 / 1551 ) = 0.06 %\n",
      "\t - `` day_to_day `` has 3 NAs ( 1548 / 1551 ) = 0.19 %\n",
      "\t - `` depressed `` has 1 NAs ( 1550 / 1551 ) = 0.06 %\n",
      "\t - `` depression `` has 2 NAs ( 1549 / 1551 ) = 0.13 %\n",
      "\t - `` age_depression `` has 1004 NAs ( 547 / 1551 ) = 64.73 %\n",
      "\t - `` current_depression `` has 997 NAs ( 554 / 1551 ) = 64.28 %\n",
      "\t - `` impactsleep_depression `` has 999 NAs ( 552 / 1551 ) = 64.41 %\n",
      "\t - `` sleepimpact_depression `` has 997 NAs ( 554 / 1551 ) = 64.28 %\n",
      "\t - `` diabetes `` has 0 NAs ( 1551 / 1551 ) = 0.00 %\n",
      "\t - `` age_diabetes `` has 1461 NAs ( 90 / 1551 ) = 94.20 %\n",
      "\t - `` current_Diabetes `` has 1459 NAs ( 92 / 1551 ) = 94.07 %\n",
      "\t - `` impactsleep_diabetes `` has 1459 NAs ( 92 / 1551 ) = 94.07 %\n",
      "\t - `` sleepimpact_diabetes `` has 1460 NAs ( 91 / 1551 ) = 94.13 %\n",
      "\t - `` diabetes_type `` has 1460 NAs ( 91 / 1551 ) = 94.13 %\n",
      "\t - `` emotional `` has 3 NAs ( 1548 / 1551 ) = 0.19 %\n",
      "\t - `` erectile `` has 5 NAs ( 1546 / 1551 ) = 0.32 %\n",
      "\t - `` age_ed `` has 1477 NAs ( 74 / 1551 ) = 95.23 %\n",
      "\t - `` current_ed `` has 1476 NAs ( 75 / 1551 ) = 95.16 %\n",
      "\t - `` impactsleep_ed `` has 1476 NAs ( 75 / 1551 ) = 95.16 %\n",
      "\t - `` sleepimpact_ed `` has 1475 NAs ( 76 / 1551 ) = 95.10 %\n",
      "\t - `` fatigued `` has 3 NAs ( 1548 / 1551 ) = 0.19 %\n",
      "\t - `` gastroesophageal `` has 0 NAs ( 1551 / 1551 ) = 0.00 %\n",
      "\t - `` age_gastroesophageal `` has 1289 NAs ( 262 / 1551 ) = 83.11 %\n",
      "\t - `` current_gastroesophageal `` has 1284 NAs ( 267 / 1551 ) = 82.79 %\n",
      "\t - `` impactsleep_gastroesophageal `` has 1284 NAs ( 267 / 1551 ) = 82.79 %\n",
      "\t - `` sleepimpact_gastroesophageal `` has 1285 NAs ( 266 / 1551 ) = 82.85 %\n",
      "\t - `` general_health `` has 3 NAs ( 1548 / 1551 ) = 0.19 %\n",
      "\t - `` health_care `` has 30 NAs ( 1521 / 1551 ) = 1.93 %\n",
      "\t - `` heart_disease `` has 0 NAs ( 1551 / 1551 ) = 0.00 %\n",
      "\t - `` age_heart_disease `` has 1514 NAs ( 37 / 1551 ) = 97.61 %\n",
      "\t - `` current_heart_disease `` has 1513 NAs ( 38 / 1551 ) = 97.55 %\n",
      "\t - `` impactsleep_heart_disease `` has 1513 NAs ( 38 / 1551 ) = 97.55 %\n",
      "\t - `` sleepimpact_heart_disease `` has 1514 NAs ( 37 / 1551 ) = 97.61 %\n",
      "\t - `` insomnia `` has 1 NAs ( 1550 / 1551 ) = 0.06 %\n",
      "\t - `` age_insomnia `` has 1320 NAs ( 231 / 1551 ) = 85.11 %\n",
      "\t - `` current_insomnia `` has 1313 NAs ( 238 / 1551 ) = 84.66 %\n",
      "\t - `` impactsleep_insomnia `` has 1313 NAs ( 238 / 1551 ) = 84.66 %\n",
      "\t - `` sleepimpact_insomnia `` has 1313 NAs ( 238 / 1551 ) = 84.66 %\n",
      "\t - `` lung `` has 0 NAs ( 1551 / 1551 ) = 0.00 %\n",
      "\t - `` age_lung `` has 1535 NAs ( 16 / 1551 ) = 98.97 %\n",
      "\t - `` current_lung `` has 1535 NAs ( 16 / 1551 ) = 98.97 %\n",
      "\t - `` impactsleep_lung `` has 1535 NAs ( 16 / 1551 ) = 98.97 %\n",
      "\t - `` sleepimpact_lung `` has 1535 NAs ( 16 / 1551 ) = 98.97 %\n",
      "\t - `` mental_health `` has 0 NAs ( 1551 / 1551 ) = 0.00 %\n",
      "\t - `` narcolepsy `` has 2 NAs ( 1549 / 1551 ) = 0.13 %\n",
      "\t - `` age_Narcolepsy `` has 1516 NAs ( 35 / 1551 ) = 97.74 %\n",
      "\t - `` current_Narcolepsy `` has 1516 NAs ( 35 / 1551 ) = 97.74 %\n",
      "\t - `` impactsleep_Narcolepsy `` has 1515 NAs ( 36 / 1551 ) = 97.68 %\n",
      "\t - `` sleepimpact_Narcolepsy `` has 1515 NAs ( 36 / 1551 ) = 97.68 %\n",
      "\t - `` nocturia `` has 5 NAs ( 1546 / 1551 ) = 0.32 %\n",
      "\t - `` age_Nocturia `` has 1515 NAs ( 36 / 1551 ) = 97.68 %\n",
      "\t - `` current_Nocturia `` has 1515 NAs ( 36 / 1551 ) = 97.68 %\n",
      "\t - `` impactsleep_Nocturia `` has 1515 NAs ( 36 / 1551 ) = 97.68 %\n",
      "\t - `` sleepimpact_Nocturia `` has 1515 NAs ( 36 / 1551 ) = 97.68 %\n",
      "\t - `` restless_legs_syndrome `` has 2 NAs ( 1549 / 1551 ) = 0.13 %\n",
      "\t - `` age_rls `` has 1444 NAs ( 107 / 1551 ) = 93.10 %\n",
      "\t - `` current_rls `` has 1442 NAs ( 109 / 1551 ) = 92.97 %\n",
      "\t - `` impactsleep_rls `` has 1442 NAs ( 109 / 1551 ) = 92.97 %\n",
      "\t - `` sleepimpact_rls `` has 1443 NAs ( 108 / 1551 ) = 93.04 %\n",
      "\t - `` stroke `` has 1 NAs ( 1550 / 1551 ) = 0.06 %\n",
      "\t - `` age_Stroke `` has 1530 NAs ( 21 / 1551 ) = 98.65 %\n",
      "\t - `` current_Stroke `` has 1530 NAs ( 21 / 1551 ) = 98.65 %\n",
      "\t - `` impactsleep_stroke `` has 1530 NAs ( 21 / 1551 ) = 98.65 %\n",
      "\t - `` sleepimpact_stroke `` has 1530 NAs ( 21 / 1551 ) = 98.65 %\n",
      "\t - `` physical_activities `` has 2 NAs ( 1549 / 1551 ) = 0.13 %\n",
      "\t - `` physical_health `` has 3 NAs ( 1548 / 1551 ) = 0.19 %\n",
      "\t - `` risk `` has 5 NAs ( 1546 / 1551 ) = 0.32 %\n",
      "\t - `` sleep_trouble `` has 8 NAs ( 1543 / 1551 ) = 0.52 %\n",
      "\t - `` social_activities `` has 2 NAs ( 1549 / 1551 ) = 0.13 %\n",
      "\t - `` stressed `` has 0 NAs ( 1551 / 1551 ) = 0.00 %\n",
      "\t - `` uars `` has 2 NAs ( 1549 / 1551 ) = 0.13 %\n",
      "\t - `` age_uars `` has 1546 NAs ( 5 / 1551 ) = 99.68 %\n",
      "\t - `` current_uars `` has 1545 NAs ( 6 / 1551 ) = 99.61 %\n",
      "\t - `` impactsleep_uars `` has 1545 NAs ( 6 / 1551 ) = 99.61 %\n",
      "\t - `` sleepimpact_uars `` has 1545 NAs ( 6 / 1551 ) = 99.61 %\n",
      "\t - `` timestamp `` has 0 NAs ( 1551 / 1551 ) = 0.00 %\n"
     ]
    }
   ],
   "source": [
    "col_stats(df)"
   ]
  },
  {
   "cell_type": "code",
   "execution_count": 37,
   "outputs": [
    {
     "name": "stdout",
     "output_type": "stream",
     "text": [
      "Shape after dropping duplicate participants: (1478,)\n"
     ]
    }
   ],
   "source": [
    "print(\"Shape after dropping duplicate participants:\", df[\"participantId\"].drop_duplicates().shape)"
   ],
   "metadata": {
    "collapsed": false,
    "pycharm": {
     "name": "#%%\n"
    }
   }
  },
  {
   "cell_type": "code",
   "execution_count": 12,
   "metadata": {
    "pycharm": {
     "name": "#%%\n"
    }
   },
   "outputs": [
    {
     "name": "stdout",
     "output_type": "stream",
     "text": [
      "Shape: (1478, 115)\n"
     ]
    },
    {
     "data": {
      "text/plain": "                             participantId  age_allergies  \\\n1494  00a3be71-6b4c-46c5-9e50-acf2db62f27b            6.0   \n502   00c13261-dd38-4730-90c4-beb25ff35822           15.0   \n287   00d1fe00-fa24-4dcf-a8e8-baafab0cf945           25.0   \n1064  00e076a6-c761-43f1-8bf3-22ca0e0cd1a9            NaN   \n1360  00fd4039-9b5e-4bbb-8295-4983a3f58371            NaN   \n\n      impactsleep_allergies  sleepimpact_allergies  allergies  anxiety  \\\n1494                    2.0                    2.0        1.0      1.0   \n502                     1.0                    1.0        1.0      2.0   \n287                     2.0                    2.0        1.0      2.0   \n1064                    NaN                    NaN        2.0      2.0   \n1360                    NaN                    NaN        2.0      1.0   \n\n      age_anxiety  current_anxiety  impactsleep_anxiety  sleepimpact_anxiety  \\\n1494         40.0              1.0                  1.0                  1.0   \n502           NaN              NaN                  NaN                  NaN   \n287           NaN              NaN                  NaN                  NaN   \n1064          NaN              NaN                  NaN                  NaN   \n1360         24.0              2.0                  1.0                  1.0   \n\n      ...  social_activities  stressed  uars  age_uars  current_uars  \\\n1494  ...                3.0         4   2.0       NaN           NaN   \n502   ...                3.0         3   2.0       NaN           NaN   \n287   ...                3.0         3   2.0       NaN           NaN   \n1064  ...                3.0         4   2.0       NaN           NaN   \n1360  ...                4.0         4   2.0       NaN           NaN   \n\n      impactsleep_uars  sleepimpact_uars                 timestamp  \\\n1494               NaN               NaN 2019-02-06 05:03:51+00:00   \n502                NaN               NaN 2016-07-24 16:23:38+00:00   \n287                NaN               NaN 2016-03-07 17:12:07+00:00   \n1064               NaN               NaN 2017-02-25 17:40:20+00:00   \n1360               NaN               NaN 2018-08-17 12:30:04+00:00   \n\n      current_allergies=2.0  current_allergies=nan  \n1494                      0                      0  \n502                       1                      0  \n287                       1                      0  \n1064                      0                      1  \n1360                      0                      1  \n\n[5 rows x 115 columns]",
      "text/html": "<div>\n<style scoped>\n    .dataframe tbody tr th:only-of-type {\n        vertical-align: middle;\n    }\n\n    .dataframe tbody tr th {\n        vertical-align: top;\n    }\n\n    .dataframe thead th {\n        text-align: right;\n    }\n</style>\n<table border=\"1\" class=\"dataframe\">\n  <thead>\n    <tr style=\"text-align: right;\">\n      <th></th>\n      <th>participantId</th>\n      <th>age_allergies</th>\n      <th>impactsleep_allergies</th>\n      <th>sleepimpact_allergies</th>\n      <th>allergies</th>\n      <th>anxiety</th>\n      <th>age_anxiety</th>\n      <th>current_anxiety</th>\n      <th>impactsleep_anxiety</th>\n      <th>sleepimpact_anxiety</th>\n      <th>...</th>\n      <th>social_activities</th>\n      <th>stressed</th>\n      <th>uars</th>\n      <th>age_uars</th>\n      <th>current_uars</th>\n      <th>impactsleep_uars</th>\n      <th>sleepimpact_uars</th>\n      <th>timestamp</th>\n      <th>current_allergies=2.0</th>\n      <th>current_allergies=nan</th>\n    </tr>\n  </thead>\n  <tbody>\n    <tr>\n      <th>1494</th>\n      <td>00a3be71-6b4c-46c5-9e50-acf2db62f27b</td>\n      <td>6.0</td>\n      <td>2.0</td>\n      <td>2.0</td>\n      <td>1.0</td>\n      <td>1.0</td>\n      <td>40.0</td>\n      <td>1.0</td>\n      <td>1.0</td>\n      <td>1.0</td>\n      <td>...</td>\n      <td>3.0</td>\n      <td>4</td>\n      <td>2.0</td>\n      <td>NaN</td>\n      <td>NaN</td>\n      <td>NaN</td>\n      <td>NaN</td>\n      <td>2019-02-06 05:03:51+00:00</td>\n      <td>0</td>\n      <td>0</td>\n    </tr>\n    <tr>\n      <th>502</th>\n      <td>00c13261-dd38-4730-90c4-beb25ff35822</td>\n      <td>15.0</td>\n      <td>1.0</td>\n      <td>1.0</td>\n      <td>1.0</td>\n      <td>2.0</td>\n      <td>NaN</td>\n      <td>NaN</td>\n      <td>NaN</td>\n      <td>NaN</td>\n      <td>...</td>\n      <td>3.0</td>\n      <td>3</td>\n      <td>2.0</td>\n      <td>NaN</td>\n      <td>NaN</td>\n      <td>NaN</td>\n      <td>NaN</td>\n      <td>2016-07-24 16:23:38+00:00</td>\n      <td>1</td>\n      <td>0</td>\n    </tr>\n    <tr>\n      <th>287</th>\n      <td>00d1fe00-fa24-4dcf-a8e8-baafab0cf945</td>\n      <td>25.0</td>\n      <td>2.0</td>\n      <td>2.0</td>\n      <td>1.0</td>\n      <td>2.0</td>\n      <td>NaN</td>\n      <td>NaN</td>\n      <td>NaN</td>\n      <td>NaN</td>\n      <td>...</td>\n      <td>3.0</td>\n      <td>3</td>\n      <td>2.0</td>\n      <td>NaN</td>\n      <td>NaN</td>\n      <td>NaN</td>\n      <td>NaN</td>\n      <td>2016-03-07 17:12:07+00:00</td>\n      <td>1</td>\n      <td>0</td>\n    </tr>\n    <tr>\n      <th>1064</th>\n      <td>00e076a6-c761-43f1-8bf3-22ca0e0cd1a9</td>\n      <td>NaN</td>\n      <td>NaN</td>\n      <td>NaN</td>\n      <td>2.0</td>\n      <td>2.0</td>\n      <td>NaN</td>\n      <td>NaN</td>\n      <td>NaN</td>\n      <td>NaN</td>\n      <td>...</td>\n      <td>3.0</td>\n      <td>4</td>\n      <td>2.0</td>\n      <td>NaN</td>\n      <td>NaN</td>\n      <td>NaN</td>\n      <td>NaN</td>\n      <td>2017-02-25 17:40:20+00:00</td>\n      <td>0</td>\n      <td>1</td>\n    </tr>\n    <tr>\n      <th>1360</th>\n      <td>00fd4039-9b5e-4bbb-8295-4983a3f58371</td>\n      <td>NaN</td>\n      <td>NaN</td>\n      <td>NaN</td>\n      <td>2.0</td>\n      <td>1.0</td>\n      <td>24.0</td>\n      <td>2.0</td>\n      <td>1.0</td>\n      <td>1.0</td>\n      <td>...</td>\n      <td>4.0</td>\n      <td>4</td>\n      <td>2.0</td>\n      <td>NaN</td>\n      <td>NaN</td>\n      <td>NaN</td>\n      <td>NaN</td>\n      <td>2018-08-17 12:30:04+00:00</td>\n      <td>0</td>\n      <td>1</td>\n    </tr>\n  </tbody>\n</table>\n<p>5 rows × 115 columns</p>\n</div>"
     },
     "execution_count": 12,
     "metadata": {},
     "output_type": "execute_result"
    }
   ],
   "source": [
    "# Default Pipeline\n",
    "pipeline = ProcessingPipeline([\n",
    "    ConvertToDatetimeOperator(feature_names=\"timestamp\", format=\"%Y-%m-%dT%H:%M:%S%z\", utc=True),\n",
    "    SortOperator(by=[\"participantId\", \"timestamp\"]),\n",
    "    DropDuplicatesOperator(subset=\"participantId\", keep=\"last\"),\n",
    "    ReplaceOperator(to_replace={\"allergies\": {3: np.nan}, \"anxiety\": {3: np.nan}, \"apnea\": {3: np.nan},\n",
    "                                \"asthma\": {3: np.nan}, \"atrial\": {3: np.nan}, \"hi_blood_pressure\": {3: np.nan},\n",
    "                                \"cancer\": {3: np.nan}, \"depression\": {3: np.nan}, \"diabetes\": {3: np.nan},\n",
    "                                \"erectile\": {3: np.nan}, \"gastroesophageal\": {3: np.nan}, \"heart_disease\": {3: np.nan},\n",
    "                                \"insomnia\": {3: np.nan}, \"lung\": {3: np.nan}, \"narcolepsy\": {3: np.nan},\n",
    "                                \"nocturia\": {3: np.nan}, \"restless_legs_syndrome\": {3: np.nan}, \"stroke\": {3: np.nan},\n",
    "                                \"uars\": {3: np.nan}\n",
    "                               }),\n",
    "    DropNAOperator(subset=[\"anxious\", \"cardiovascular\", \"compare_one_year\", \"day_to_day\", \"depressed\", \"emotional\",\n",
    "                           \"fatigued\", \"general_health\", \"mental_health\", \"physical_activities\", \"physical_health\",\n",
    "                           \"risk\", \"sleep_trouble\", \"social_activities\", \"stressed\"]),\n",
    "    OneHotEncoderOperator(feature_names=[\"anxious\", \"cardiovascular\", \"compare_one_year\", \"day_to_day\",\n",
    "                                         \"depressed\", \"emotional\", \"fatigued\", \"general_health\",\n",
    "                                         \"mental_health\", \"physical_activities\", \"physical_health\",\n",
    "                                         \"risk\", \"sleep_trouble\", \"social_activities\", \"stressed\"],\n",
    "                          drop_first=True),\n",
    "    ])\n",
    "\n",
    "mypipe = MyHealthDataset(shc_folder=\"../../data/sleephealth/\", pipeline=pipeline)\n",
    "df_piped = mypipe.processed_dataframe()\n",
    "print(\"Shape:\", df_piped.shape)\n",
    "df_piped.head()"
   ]
  },
  {
   "cell_type": "code",
   "execution_count": null,
   "outputs": [],
   "source": [],
   "metadata": {
    "collapsed": false,
    "pycharm": {
     "name": "#%%\n"
    }
   }
  }
 ],
 "metadata": {
  "kernelspec": {
   "name": "pycharm-5bd30262",
   "language": "python",
   "display_name": "PyCharm (tasrif)"
  },
  "language_info": {
   "codemirror_mode": {
    "name": "ipython",
    "version": 3
   },
   "file_extension": ".py",
   "mimetype": "text/x-python",
   "name": "python",
   "nbconvert_exporter": "python",
   "pygments_lexer": "ipython3",
   "version": "3.8.3"
  }
 },
 "nbformat": 4,
 "nbformat_minor": 4
}