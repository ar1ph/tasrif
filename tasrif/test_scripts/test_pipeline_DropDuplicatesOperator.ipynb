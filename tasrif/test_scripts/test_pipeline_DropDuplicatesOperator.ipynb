{
 "cells": [
  {
   "cell_type": "code",
   "execution_count": null,
   "metadata": {},
   "outputs": [],
   "source": [
    "import pandas as pd\n",
    "import numpy as np\n",
    "\n",
    "from tasrif.processing_pipeline.pandas import DropDuplicatesOperator\n",
    "\n",
    "df0 = pd.DataFrame([['tom', 10], ['Alfred', 15], ['Alfred', 18], ['juli', 14]], columns=['name', 'age'])\n",
    "df1 = pd.DataFrame({\"name\": ['Alfred', 'Batman', 'Catwoman', 'Catwoman'],\n",
    "                   \"toy\": [np.nan, 'Batmobile', 'Bullwhip', 'Bullwhip'],\n",
    "                   \"born\": [pd.NaT, pd.Timestamp(\"1940-04-25\"), pd.NaT,\n",
    "                            pd.NaT]})\n",
    "\n",
    "operator = DropDuplicatesOperator(subset='name')\n",
    "df0, df1 = operator.process(df0, df1)\n",
    "\n",
    "print(df0)\n",
    "print(df1)"
   ]
  }
 ],
 "metadata": {
  "kernelspec": {
   "display_name": "Python 3",
   "language": "python",
   "name": "python3"
  },
  "language_info": {
   "codemirror_mode": {
    "name": "ipython",
    "version": 3
   },
   "file_extension": ".py",
   "mimetype": "text/x-python",
   "name": "python",
   "nbconvert_exporter": "python",
   "pygments_lexer": "ipython3",
   "version": "3.8.8"
  }
 },
 "nbformat": 4,
 "nbformat_minor": 4
}
