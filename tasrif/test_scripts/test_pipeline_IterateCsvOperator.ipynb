{
 "cells": [
  {
   "cell_type": "markdown",
   "metadata": {},
   "source": [
    "# The following code requires two small csv files to be saved in disk in order to test IterateCsvOperator"
   ]
  },
  {
   "cell_type": "code",
   "execution_count": null,
   "metadata": {},
   "outputs": [],
   "source": [
    "import pandas as pd\n",
    "import numpy as np\n",
    "\n",
    "from tasrif.processing_pipeline.custom import IterateCsvOperator\n",
    "\n",
    "df = pd.DataFrame({\"name\": ['Alfred', 'Roy'],\n",
    "                   \"age\": [43, 32],\n",
    "                   \"file_details\": ['details1.csv', 'details2.csv']})\n",
    "\n",
    "details1 = pd.DataFrame({'calories': [360, 540],\n",
    "                         'time': [pd.Timestamp(\"2015-04-25\"), pd.Timestamp(\"2015-04-26\")]\n",
    "                        })\n",
    "\n",
    "details2 = pd.DataFrame({'calories': [420, 250],\n",
    "                         'time': [pd.Timestamp(\"2015-05-16\"), pd.Timestamp(\"2015-05-17\")]\n",
    "                        })\n",
    "\n",
    "\n",
    "# Save File 1 and File 2\n",
    "details1.to_csv('details1.csv', index=False)\n",
    "details2.to_csv('details2.csv', index=False)\n",
    "\n",
    "operator = IterateCsvOperator(folder_path='./', field='file_details', pipeline=None)\n",
    "output = operator.process(df)\n",
    "generator = output[0]\n",
    "\n",
    "# Iterates twice\n",
    "for record, details in generator:\n",
    "    print('Subject information:')\n",
    "    print(record)\n",
    "    print('')\n",
    "    print('Subject details:')\n",
    "    print(details)\n",
    "    print('============================')"
   ]
  }
 ],
 "metadata": {
  "kernelspec": {
   "name": "env",
   "display_name": "Python 3.6.9  ('env': venv)"
  },
  "language_info": {
   "codemirror_mode": {
    "name": "ipython",
    "version": 3
   },
   "file_extension": ".py",
   "mimetype": "text/x-python",
   "name": "python",
   "nbconvert_exporter": "python",
   "pygments_lexer": "ipython3",
   "version": "3.6.9"
  }
 },
 "nbformat": 4,
 "nbformat_minor": 4
}