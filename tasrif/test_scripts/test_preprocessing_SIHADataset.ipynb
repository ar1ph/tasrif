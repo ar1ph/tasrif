{
 "cells": [
  {
   "cell_type": "code",
   "execution_count": 1,
   "id": "given-eugene",
   "metadata": {},
   "outputs": [],
   "source": [
    "import pandas as pd\n",
    "import numpy as np\n",
    "import pathlib\n",
    "import datetime\n",
    "from tasrif.data_readers.siha_dataset import SIHADataset"
   ]
  },
  {
   "cell_type": "code",
   "execution_count": null,
   "id": "completed-prevention",
   "metadata": {},
   "outputs": [
    {
     "name": "stdout",
     "output_type": "stream",
     "text": [
      "Please enter your password········\n",
      "User = admin, Pwd = q@tar123!, Clinic = HMC Profast 2020, Start = 2020-02-12, End = 2020-02-13\n"
     ]
    }
   ],
   "source": [
    "sds = SIHADataset('admin', clinic_name='HMC Profast 2020', start_date='2020-02-12', end_date='2020-02-13', domain='siha2.qcri.org')"
   ]
  },
  {
   "cell_type": "code",
   "execution_count": null,
   "id": "substantial-carrier",
   "metadata": {},
   "outputs": [],
   "source": [
    "sds.raw_df"
   ]
  },
  {
   "cell_type": "code",
   "execution_count": null,
   "id": "departmental-corpus",
   "metadata": {},
   "outputs": [],
   "source": []
  }
 ],
 "metadata": {
  "kernelspec": {
   "display_name": "Python 3",
   "language": "python",
   "name": "python3"
  },
  "language_info": {
   "codemirror_mode": {
    "name": "ipython",
    "version": 3
   },
   "file_extension": ".py",
   "mimetype": "text/x-python",
   "name": "python",
   "nbconvert_exporter": "python",
   "pygments_lexer": "ipython3",
   "version": "3.9.2"
  }
 },
 "nbformat": 4,
 "nbformat_minor": 5
}
