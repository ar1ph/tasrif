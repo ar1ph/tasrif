{
 "cells": [
  {
   "cell_type": "code",
   "execution_count": null,
   "metadata": {},
   "outputs": [],
   "source": [
    "import pandas as pd\n",
    "import numpy as np\n",
    "\n",
    "from tasrif.processing_pipeline.pandas import RenameOperator\n",
    "\n",
    "df = pd.DataFrame([\n",
    "    [1,'2016-03-12 01:00:00',10],\n",
    "    [1,'2016-03-12 04:00:00',250],\n",
    "    [1,'2016-03-12 06:00:00',30],\n",
    "    [1,'2016-03-12 20:00:00',10],\n",
    "    [1,'2016-03-12 23:00:00',23],\n",
    "    [2,'2016-03-12 00:05:00',20],\n",
    "    [2,'2016-03-12 19:06:00',120],\n",
    "    [2,'2016-03-12 21:07:00',100],\n",
    "    [2,'2016-03-12 23:08:00',50],\n",
    "    [3,'2016-03-12 10:00:00',300]\n",
    "], columns=['Id', 'ActivityTime', 'Calories'])\n",
    "\n",
    "df['ActivityTime'] = pd.to_datetime(df['ActivityTime'])\n",
    "\n",
    "operator = RenameOperator(columns={\"ActivityTime\": \"time\"})\n",
    "df = operator.process(df)[0]\n",
    "df"
   ]
  }
 ],
 "metadata": {
  "kernelspec": {
   "display_name": "Python 3",
   "language": "python",
   "name": "python3"
  },
  "language_info": {
   "codemirror_mode": {
    "name": "ipython",
    "version": 3
   },
   "file_extension": ".py",
   "mimetype": "text/x-python",
   "name": "python",
   "nbconvert_exporter": "python",
   "pygments_lexer": "ipython3",
   "version": "3.8.5"
  }
 },
 "nbformat": 4,
 "nbformat_minor": 4
}
