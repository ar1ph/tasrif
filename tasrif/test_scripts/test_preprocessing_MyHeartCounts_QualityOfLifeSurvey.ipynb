{
 "cells": [
  {
   "cell_type": "code",
   "execution_count": 1,
   "metadata": {},
   "outputs": [
    {
     "name": "stdout",
     "output_type": "stream",
     "text": [
      "Some important stats:\n",
      "Shape: (22614, 15)\n",
      "\t- This dataset contains unique data for  22614 participants.\n",
      "\t - ` recordId ` has 0 NAs ( 22614 / 22614 ) = 0.00 %\n",
      "\t - ` healthCode ` has 0 NAs ( 22614 / 22614 ) = 0.00 %\n",
      "\t - ` createdOn ` has 0 NAs ( 22614 / 22614 ) = 0.00 %\n",
      "\t - ` appVersion ` has 0 NAs ( 22614 / 22614 ) = 0.00 %\n",
      "\t - ` phoneInfo ` has 0 NAs ( 22614 / 22614 ) = 0.00 %\n",
      "\t - ` feel_worthwhile1 ` has 63 NAs ( 22551 / 22614 ) = 0.28 %\n",
      "\t - ` feel_worthwhile2 ` has 78 NAs ( 22536 / 22614 ) = 0.34 %\n",
      "\t - ` feel_worthwhile3 ` has 89 NAs ( 22525 / 22614 ) = 0.39 %\n",
      "\t - ` feel_worthwhile4 ` has 198 NAs ( 22416 / 22614 ) = 0.88 %\n",
      "\t - ` riskfactors1 ` has 35 NAs ( 22579 / 22614 ) = 0.15 %\n",
      "\t - ` riskfactors2 ` has 55 NAs ( 22559 / 22614 ) = 0.24 %\n",
      "\t - ` riskfactors3 ` has 72 NAs ( 22542 / 22614 ) = 0.32 %\n",
      "\t - ` riskfactors4 ` has 85 NAs ( 22529 / 22614 ) = 0.38 %\n",
      "\t - ` satisfiedwith_life ` has 58 NAs ( 22556 / 22614 ) = 0.26 %\n",
      "\t - ` zip3 ` has 538 NAs ( 22076 / 22614 ) = 2.38 %\n"
     ]
    }
   ],
   "source": [
    "import pandas as pd\n",
    "\n",
    "df = pd.read_csv('E:\\\\Development\\\\siha\\\\Qaulity of Life Survey.csv')\n",
    "\n",
    "\n",
    "def col_stats(df):\n",
    "    print('Some important stats:')\n",
    "    print('Shape:', df.shape)\n",
    "    print('\\t- This dataset contains unique data for ', len(df) ,'participants.')\n",
    "    for col in df.columns:\n",
    "        null_percentage = \"{:.2f}\".format(df[col].isnull().sum()/len(df)*100)\n",
    "        print('\\t - `', col, '` has', df[col].isnull().sum(), 'NAs (', df[col].count().sum(), '/', len(df), ') =', \n",
    "              null_percentage, '%')\n",
    "        \n",
    "col_stats(df)\n",
    "\n",
    "from tasrif.data_readers.my_heart_counts import QualityOfLifeSurveyDataset\n",
    "\n",
    "qol = QualityOfLifeSurveyDataset(mhc_folder='E:\\\\Development\\\\siha\\\\')"
   ]
  },
  {
   "cell_type": "code",
   "execution_count": null,
   "metadata": {},
   "outputs": [],
   "source": [
    "qol.raw_dataframe()"
   ]
  },
  {
   "cell_type": "code",
   "execution_count": null,
   "metadata": {},
   "outputs": [],
   "source": [
    "qol.processed_dataframe()"
   ]
  },
  {
   "cell_type": "code",
   "execution_count": null,
   "metadata": {},
   "outputs": [],
   "source": [
    "qol.participant_count()"
   ]
  }
 ],
 "metadata": {
  "kernelspec": {
   "display_name": "Python 3",
   "language": "python",
   "name": "python3"
  },
  "language_info": {
   "codemirror_mode": {
    "name": "ipython",
    "version": 3
   },
   "file_extension": ".py",
   "mimetype": "text/x-python",
   "name": "python",
   "nbconvert_exporter": "python",
   "pygments_lexer": "ipython3",
   "version": "3.8.8"
  }
 },
 "nbformat": 4,
 "nbformat_minor": 4
}
