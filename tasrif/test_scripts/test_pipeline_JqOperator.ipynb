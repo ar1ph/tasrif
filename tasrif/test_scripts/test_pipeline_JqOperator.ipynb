{
 "cells": [
  {
   "cell_type": "code",
   "execution_count": null,
   "metadata": {},
   "outputs": [],
   "source": [
    "import pandas as pd\n",
    "from tasrif.processing_pipeline.custom import JqOperator\n",
    "df = [\n",
    "  {\n",
    "    \"date\": \"2020-01-01\",\n",
    "    \"sleep\": [\n",
    "      {\n",
    "        \"sleep_data\": [\n",
    "          {\n",
    "            \"level\": \"rem\",\n",
    "            \"minutes\": 180\n",
    "          },\n",
    "          {\n",
    "            \"level\": \"deep\",\n",
    "            \"minutes\": 80\n",
    "          },\n",
    "          {\n",
    "            \"level\": \"light\",\n",
    "            \"minutes\": 300\n",
    "          }\n",
    "        ]\n",
    "      }\n",
    "    ]\n",
    "  },\n",
    "  {\n",
    "    \"date\": \"2020-01-02\",\n",
    "    \"sleep\": [\n",
    "      {\n",
    "        \"sleep_data\": [\n",
    "          {\n",
    "            \"level\": \"rem\",\n",
    "            \"minutes\": 280\n",
    "          },\n",
    "          {\n",
    "            \"level\": \"deep\",\n",
    "            \"minutes\": 60\n",
    "          },\n",
    "          {\n",
    "            \"level\": \"light\",\n",
    "            \"minutes\": 200\n",
    "          }\n",
    "        ]\n",
    "      }\n",
    "    ]\n",
    "  }\n",
    "]\n",
    "\n",
    "\n",
    "\n",
    "op = JqOperator(\"map({date, sleep: .sleep[].sleep_data})\")\n",
    "\n",
    "op.process(df)"
   ]
  },
  {
   "cell_type": "code",
   "execution_count": null,
   "metadata": {},
   "outputs": [],
   "source": []
  }
 ],
 "metadata": {
  "kernelspec": {
   "display_name": "Python 3",
   "language": "python",
   "name": "python3"
  },
  "language_info": {
   "codemirror_mode": {
    "name": "ipython",
    "version": 3
   },
   "file_extension": ".py",
   "mimetype": "text/x-python",
   "name": "python",
   "nbconvert_exporter": "python",
   "pygments_lexer": "ipython3",
   "version": "3.9.2"
  }
 },
 "nbformat": 4,
 "nbformat_minor": 4
}
