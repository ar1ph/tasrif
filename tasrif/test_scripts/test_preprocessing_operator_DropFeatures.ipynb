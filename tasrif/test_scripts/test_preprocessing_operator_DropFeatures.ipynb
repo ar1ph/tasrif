{
 "cells": [
  {
   "cell_type": "code",
   "execution_count": 1,
   "metadata": {},
   "outputs": [
    {
     "name": "stdout",
     "output_type": "stream",
     "text": [
      "   age\n",
      "0   10\n",
      "1   15\n",
      "2   14\n",
      "         toy       born\n",
      "0        NaN        NaT\n",
      "1  Batmobile 1940-04-25\n",
      "2   Bullwhip        NaT\n"
     ]
    }
   ],
   "source": [
    "import pandas as pd\n",
    "import numpy as np\n",
    "\n",
    "# import tasrif.processing_pipeline\n",
    "from tasrif.processing_pipeline.pandas_native import DropFeaturesOperator\n",
    "\n",
    "df0 = pd.DataFrame([['tom', 10], ['nick', 15], ['juli', 14]], columns=['name', 'age'])\n",
    "df1 = pd.DataFrame({\"name\": ['Alfred', 'Batman', 'Catwoman'],\n",
    "                  \"toy\": [np.nan, 'Batmobile', 'Bullwhip'],\n",
    "                  \"born\": [pd.NaT, pd.Timestamp(\"1940-04-25\"),\n",
    "                           pd.NaT]})\n",
    "\n",
    "operator = DropFeaturesOperator(drop_features=['name'])\n",
    "df0, df1 = operator.process(df0, df1)\n",
    "\n",
    "print(df0)\n",
    "print(df1)"
   ]
  }
 ],
 "metadata": {
  "kernelspec": {
   "display_name": "Python 3",
   "language": "python",
   "name": "python3"
  },
  "language_info": {
   "codemirror_mode": {
    "name": "ipython",
    "version": 3
   },
   "file_extension": ".py",
   "mimetype": "text/x-python",
   "name": "python",
   "nbconvert_exporter": "python",
   "pygments_lexer": "ipython3",
   "version": "3.8.7"
  }
 },
 "nbformat": 4,
 "nbformat_minor": 4
}
