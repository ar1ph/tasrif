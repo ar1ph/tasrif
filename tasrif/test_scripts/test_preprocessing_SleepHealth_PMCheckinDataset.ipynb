{
 "cells": [
  {
   "cell_type": "code",
   "execution_count": 1,
   "metadata": {
    "scrolled": true
   },
   "outputs": [
    {
     "name": "stdout",
     "output_type": "stream",
     "text": [
      "                              participantId  NapCount  PMCH1  PMCH2A  PMCH3  \\\n",
      "0      d0108687-0096-4fc1-a065-7e6b5ad1f281       0.0    3.0     NaN      0   \n",
      "1      c64cd0ef-800a-416a-b1ce-42b93f1a8e38       0.0    3.0     NaN  1,100   \n",
      "2      4aed0e57-1cb6-4850-90ad-144de519d1b4       0.0    3.0     NaN      1   \n",
      "3      c39e7d65-9f09-4b35-899c-9aa40f98fca6       0.0    3.0     NaN  1,100   \n",
      "4      6da7e848-daaa-410c-a83f-35b63498595c       0.0    3.0     NaN      1   \n",
      "...                                     ...       ...    ...     ...    ...   \n",
      "27375  0cf02656-84c7-4d0a-9413-9134dcfd5404       0.0    3.0     NaN    100   \n",
      "27376  8db72895-2384-4508-8945-c2d29d306553       0.0    3.0     NaN      1   \n",
      "27377  2e5b99ac-c2b3-48ac-80b4-42d406e8539b       0.0    2.0     NaN  1,100   \n",
      "27378  d5d4940d-a826-44ab-a6a1-69fccbe1f80e       0.0    3.0     NaN  1,100   \n",
      "27379  2e5b99ac-c2b3-48ac-80b4-42d406e8539b       0.0    3.0     NaN   1,10   \n",
      "\n",
      "                       timestamp  alcohol  caffeine  \n",
      "0      2016-03-02T21:08:06-06:00        0         0  \n",
      "1      2016-03-02T22:08:31-05:00        0         6  \n",
      "2      2016-03-02T22:08:46-05:00        0         6  \n",
      "3      2016-11-03T22:32:58-06:00        0         4  \n",
      "4      2016-03-01T23:50:48-05:00        0         2  \n",
      "...                          ...      ...       ...  \n",
      "27375  2019-06-26T23:59:35-07:00        0         0  \n",
      "27376  2019-06-26T23:27:38-05:00        0         0  \n",
      "27377  2019-06-26T22:17:21-04:00        0         4  \n",
      "27378  2019-06-27T23:02:06-04:00        0         1  \n",
      "27379  2019-06-27T21:05:41-04:00        1         3  \n",
      "\n",
      "[27380 rows x 8 columns]\n",
      "                              participantId  NapCount  PMCH1  PMCH2A  \\\n",
      "34     f71ff6bd-093a-4fa7-9724-6ebcb6a95fb3       2.0    2.0     2.0   \n",
      "49     155601ce-c73b-4a97-ba1e-9f02765efca1       2.0    2.0    60.0   \n",
      "86     fffd204f-a681-45e7-87d6-48156361675f       1.0    3.0    60.0   \n",
      "92     5780e4ca-913c-44d6-b942-14892b181ec4       2.0    3.0    15.0   \n",
      "133    21987b98-37ce-48bb-8cd9-342b4dd77bb4       1.0    2.0     2.0   \n",
      "...                                     ...       ...    ...     ...   \n",
      "27355  bb3b8938-47f4-42b5-a5f1-4b29fe5f5b99       1.0    3.0    62.0   \n",
      "27359  0cf02656-84c7-4d0a-9413-9134dcfd5404       1.0    3.0    30.0   \n",
      "27367  2e5b99ac-c2b3-48ac-80b4-42d406e8539b       1.0    2.0    62.0   \n",
      "27372  e47e109a-235c-4dd9-b876-f98ca198c967       2.0    2.0   120.0   \n",
      "27373  d5d4940d-a826-44ab-a6a1-69fccbe1f80e       2.0    2.0    30.0   \n",
      "\n",
      "          PMCH3                  timestamp  alcohol  caffeine  \n",
      "34            0  2016-04-14T12:23:46-05:00        0         0  \n",
      "49            1  2016-11-04T20:28:33-04:00        0         2  \n",
      "86            1  2016-03-06T20:17:02-05:00        0         1  \n",
      "92          100  2016-03-02T00:58:05-08:00        0         0  \n",
      "133           1  2016-03-03T23:26:50+03:00        0         8  \n",
      "...         ...                        ...      ...       ...  \n",
      "27355  1,10,100  2019-06-17T20:35:53-04:00        3         2  \n",
      "27359       100  2019-06-19T23:58:05-07:00        0         0  \n",
      "27367     1,100  2019-06-23T22:14:48-04:00        0         2  \n",
      "27372     1,100  2019-06-25T20:33:10-04:00        0        12  \n",
      "27373         1  2019-06-26T17:14:59-04:00        0         1  \n",
      "\n",
      "[2060 rows x 8 columns]\n",
      "4313\n"
     ]
    }
   ],
   "source": [
    "from tasrif.data_readers.sleep_health import PMCheckinDataset\n",
    "\n",
    "\n",
    "pm = PMCheckinDataset(shc_folder='E:/Development/siha/sleephealth/')\n",
    "\n",
    "print(pm.raw_dataframe())\n",
    "print(pm.processed_dataframe())\n",
    "print(pm.participant_count())"
   ]
  }
 ],
 "metadata": {
  "kernelspec": {
   "display_name": "Python 3",
   "language": "python",
   "name": "python3"
  },
  "language_info": {
   "codemirror_mode": {
    "name": "ipython",
    "version": 3
   },
   "file_extension": ".py",
   "mimetype": "text/x-python",
   "name": "python",
   "nbconvert_exporter": "python",
   "pygments_lexer": "ipython3",
   "version": "3.8.8"
  }
 },
 "nbformat": 4,
 "nbformat_minor": 4
}
