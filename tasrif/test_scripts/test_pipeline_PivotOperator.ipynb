{
 "cells": [
  {
   "cell_type": "code",
   "execution_count": null,
   "metadata": {},
   "outputs": [],
   "source": [
    "import pandas as pd\n",
    "from tasrif.processing_pipeline.pandas import PivotOperator\n",
    "df = pd.DataFrame([\n",
    "    [1, \"2020-05-01 00:00:00\", 1],\n",
    "    [1, \"2020-05-01 01:00:00\", 1], \n",
    "    [1, \"2020-05-01 03:00:00\", 2], \n",
    "    [2, \"2020-05-02 00:00:00\", 1],\n",
    "    [2, \"2020-05-02 01:00:00\", 1]],\n",
    "    columns=['logId', 'timestamp', 'sleep_level'])\n",
    "\n",
    "df['timestamp'] = pd.to_datetime(df['timestamp'])\n",
    "op = PivotOperator(index='timestamp', columns='logId', values='sleep_level')\n",
    "op.process(df)[0]"
   ]
  }
 ],
 "metadata": {
  "kernelspec": {
   "display_name": "Python 3",
   "language": "python",
   "name": "python3"
  },
  "language_info": {
   "codemirror_mode": {
    "name": "ipython",
    "version": 3
   },
   "file_extension": ".py",
   "mimetype": "text/x-python",
   "name": "python",
   "nbconvert_exporter": "python",
   "pygments_lexer": "ipython3",
   "version": "3.8.5"
  }
 },
 "nbformat": 4,
 "nbformat_minor": 4
}
