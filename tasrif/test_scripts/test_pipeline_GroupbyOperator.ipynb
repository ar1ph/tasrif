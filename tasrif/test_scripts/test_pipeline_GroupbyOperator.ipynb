{
 "cells": [
  {
   "cell_type": "code",
   "execution_count": null,
   "metadata": {},
   "outputs": [],
   "source": [
    "import pandas as pd\n",
    "import numpy as np\n",
    "\n",
    "from tasrif.processing_pipeline.pandas import GroupbyOperator\n",
    "\n",
    "\n",
    "\n",
    "df = pd.DataFrame([\n",
    "    [1,'2016-03-12 01:00:00',10],\n",
    "    [1,'2016-03-12 04:00:00',250],\n",
    "    [1,'2016-03-12 06:00:00',30],\n",
    "    [1,'2016-03-12 20:00:00',10],\n",
    "    [1,'2016-03-12 23:00:00',23],\n",
    "    [2,'2016-03-12 00:05:00',20],\n",
    "    [2,'2016-03-12 19:06:00',120],\n",
    "    [2,'2016-03-12 21:07:00',100],\n",
    "    [2,'2016-03-12 23:08:00',50],\n",
    "    [3,'2016-03-12 10:00:00',300]\n",
    "], columns=['Id', 'ActivityTime', 'Calories'])\n",
    "\n",
    "df['ActivityTime'] = pd.to_datetime(df['ActivityTime'])\n",
    "\n",
    "operator = GroupbyOperator(by='Id')\n",
    "df = operator.process(df)[0]\n",
    "\n",
    "print(df.get_group(1))\n",
    "print(df.get_group(2))\n",
    "print(df.get_group(3))"
   ]
  }
 ],
 "metadata": {
  "kernelspec": {
   "display_name": "Python 3",
   "language": "python",
   "name": "python3"
  },
  "language_info": {
   "codemirror_mode": {
    "name": "ipython",
    "version": 3
   },
   "file_extension": ".py",
   "mimetype": "text/x-python",
   "name": "python",
   "nbconvert_exporter": "python",
   "pygments_lexer": "ipython3",
   "version": "3.8.8"
  }
 },
 "nbformat": 4,
 "nbformat_minor": 4
}
