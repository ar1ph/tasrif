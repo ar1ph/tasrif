{
 "cells": [
  {
   "cell_type": "code",
   "execution_count": null,
   "metadata": {},
   "outputs": [],
   "source": [
    "import pandas as pd\n",
    "from tasrif.processing_pipeline.pandas import MeanOperator\n",
    "df = pd.DataFrame([\n",
    "    [1, 1, 3],\n",
    "    [1, 1, 5], \n",
    "    [1, 2, 3], \n",
    "    [2, 1, 10],\n",
    "    [2, 1, 0]],\n",
    "    columns=['logId', 'sleep_level', 'awake_count'])\n",
    "\n",
    "df = df.set_index('logId')\n",
    "op = MeanOperator()\n",
    "df1 = op.process(df)\n",
    "df1[0]"
   ]
  }
 ],
 "metadata": {
  "kernelspec": {
   "display_name": "Python 3",
   "language": "python",
   "name": "python3"
  },
  "language_info": {
   "codemirror_mode": {
    "name": "ipython",
    "version": 3
   },
   "file_extension": ".py",
   "mimetype": "text/x-python",
   "name": "python",
   "nbconvert_exporter": "python",
   "pygments_lexer": "ipython3",
   "version": "3.8.5"
  }
 },
 "nbformat": 4,
 "nbformat_minor": 4
}
