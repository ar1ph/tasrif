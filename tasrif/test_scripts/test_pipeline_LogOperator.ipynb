{
 "cells": [
  {
   "cell_type": "code",
   "execution_count": null,
   "metadata": {},
   "outputs": [],
   "source": [
    "import pandas as pd\n",
    "from tasrif.processing_pipeline.custom import LogOperator\n",
    "\n",
    "df0 = pd.DataFrame([['tom', 10, 2], ['tom', 15, 2], ['juli', 14, 12]],\n",
    "                    columns=['name', 'work_hours', 'off_hours'])\n",
    "\n",
    "df1 = pd.DataFrame([['ali', 10, 2], ['juli', 15, 2], ['juli', 14, 12]],\n",
    "                    columns=['name', 'work_hours', 'off_hours'])\n",
    "\n",
    "print(df0)\n",
    "print(df1)\n",
    "\n",
    "print()\n",
    "print('Unique names in dataframes:')\n",
    "operator = LogOperator(lambda df: df.name.unique())\n",
    "operator.process(df0, df1)"
   ]
  }
 ],
 "metadata": {
  "kernelspec": {
   "display_name": "Python 3",
   "language": "python",
   "name": "python3"
  },
  "language_info": {
   "codemirror_mode": {
    "name": "ipython",
    "version": 3
   },
   "file_extension": ".py",
   "mimetype": "text/x-python",
   "name": "python",
   "nbconvert_exporter": "python",
   "pygments_lexer": "ipython3",
   "version": "3.8.5"
  }
 },
 "nbformat": 4,
 "nbformat_minor": 4
}
