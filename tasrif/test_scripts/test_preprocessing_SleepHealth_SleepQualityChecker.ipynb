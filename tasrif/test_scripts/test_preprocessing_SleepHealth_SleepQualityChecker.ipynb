{
 "cells": [
  {
   "cell_type": "code",
   "execution_count": 38,
   "metadata": {
    "ExecuteTime": {
     "end_time": "2021-01-12T18:42:29.322800Z",
     "start_time": "2021-01-12T18:42:29.321037Z"
    }
   },
   "outputs": [
    {
     "name": "stdout",
     "output_type": "stream",
     "text": [
      "The autoreload extension is already loaded. To reload it, use:\n",
      "  %reload_ext autoreload\n"
     ]
    }
   ],
   "source": [
    "from tasrif.processing_pipeline.custom import AggregateOperator, AddDurationOperator\n",
    "%load_ext autoreload\n",
    "%autoreload 2\n",
    "\n",
    "from tasrif.processing_pipeline import ProcessingPipeline\n",
    "from tasrif.processing_pipeline.pandas import ConvertToDatetimeOperator, SortOperator\n",
    "from tasrif.processing_pipeline.custom import CreateFeatureOperator\n",
    "\n",
    "from tasrif.data_readers.sleep_health import SleepQualityCheckerDataset\n",
    "import pandas as pd"
   ]
  },
  {
   "cell_type": "code",
   "execution_count": 39,
   "metadata": {
    "ExecuteTime": {
     "end_time": "2021-01-12T18:42:41.525740Z",
     "start_time": "2021-01-12T18:42:41.512641Z"
    }
   },
   "outputs": [
    {
     "name": "stdout",
     "output_type": "stream",
     "text": [
      "Shape: (42567, 3)\n"
     ]
    },
    {
     "data": {
      "text/plain": "                          participantId  sq_score                  timestamp\n0  b4ebf7dd-4e30-4f7b-8ee8-5493a19c8c9f         4  2016-09-26T21:18:24-05:00\n1  c3993552-69cb-45e4-b18a-5e6eecefb825         4  2016-03-07T09:16:09-05:00\n2  78f60bd3-34f3-489e-a352-f9df564641c3         4  2016-03-05T17:21:46-05:00\n3  9da1a89a-2145-4cca-b356-7b58aa7be8b0         4  2016-09-26T21:41:55-05:00\n4  4aad9dbe-dd9e-4832-a198-3bd563457124         4  2016-03-03T10:52:42-08:00",
      "text/html": "<div>\n<style scoped>\n    .dataframe tbody tr th:only-of-type {\n        vertical-align: middle;\n    }\n\n    .dataframe tbody tr th {\n        vertical-align: top;\n    }\n\n    .dataframe thead th {\n        text-align: right;\n    }\n</style>\n<table border=\"1\" class=\"dataframe\">\n  <thead>\n    <tr style=\"text-align: right;\">\n      <th></th>\n      <th>participantId</th>\n      <th>sq_score</th>\n      <th>timestamp</th>\n    </tr>\n  </thead>\n  <tbody>\n    <tr>\n      <th>0</th>\n      <td>b4ebf7dd-4e30-4f7b-8ee8-5493a19c8c9f</td>\n      <td>4</td>\n      <td>2016-09-26T21:18:24-05:00</td>\n    </tr>\n    <tr>\n      <th>1</th>\n      <td>c3993552-69cb-45e4-b18a-5e6eecefb825</td>\n      <td>4</td>\n      <td>2016-03-07T09:16:09-05:00</td>\n    </tr>\n    <tr>\n      <th>2</th>\n      <td>78f60bd3-34f3-489e-a352-f9df564641c3</td>\n      <td>4</td>\n      <td>2016-03-05T17:21:46-05:00</td>\n    </tr>\n    <tr>\n      <th>3</th>\n      <td>9da1a89a-2145-4cca-b356-7b58aa7be8b0</td>\n      <td>4</td>\n      <td>2016-09-26T21:41:55-05:00</td>\n    </tr>\n    <tr>\n      <th>4</th>\n      <td>4aad9dbe-dd9e-4832-a198-3bd563457124</td>\n      <td>4</td>\n      <td>2016-03-03T10:52:42-08:00</td>\n    </tr>\n  </tbody>\n</table>\n</div>"
     },
     "execution_count": 39,
     "metadata": {},
     "output_type": "execute_result"
    }
   ],
   "source": [
    "# Full SleepQualityCheckerDataset\n",
    "sqc = SleepQualityCheckerDataset(shc_folder=\"../../data/sleephealth/\", pipeline=None)\n",
    "df = sqc.raw_df.copy()\n",
    "print(\"Shape:\", df.shape)\n",
    "df.head()"
   ]
  },
  {
   "cell_type": "code",
   "execution_count": 49,
   "outputs": [
    {
     "data": {
      "text/plain": "4566"
     },
     "execution_count": 49,
     "metadata": {},
     "output_type": "execute_result"
    }
   ],
   "source": [
    "sqc.participant_count()"
   ],
   "metadata": {
    "collapsed": false,
    "pycharm": {
     "name": "#%%\n"
    }
   }
  },
  {
   "cell_type": "code",
   "execution_count": 40,
   "outputs": [
    {
     "data": {
      "text/plain": "[    city  min_temp_mean  min_temp_std\n 0   Doha           21.0      5.656854\n 1  Dubai           20.5      0.707107]"
     },
     "execution_count": 40,
     "metadata": {},
     "output_type": "execute_result"
    }
   ],
   "source": [
    "\n",
    "df0 = pd.DataFrame([['Doha', 25, 30], ['Doha', 17, 50], ['Dubai', 20, 40], ['Dubai', 21, 42]],\n",
    "                    columns=['city', 'min_temp', 'max_temp'])\n",
    "\n",
    "operator = AggregateOperator(groupby_feature_names =\"city\",\n",
    "                             aggregation_definition= {\"min_temp\": [\"mean\", \"std\"]})\n",
    "df0 = operator.process(df0)\n",
    "df0"
   ],
   "metadata": {
    "collapsed": false,
    "pycharm": {
     "name": "#%%\n"
    }
   }
  },
  {
   "cell_type": "code",
   "execution_count": 47,
   "outputs": [
    {
     "name": "stdout",
     "output_type": "stream",
     "text": [
      "Shape: (4566, 11)\n"
     ]
    },
    {
     "data": {
      "text/plain": "0       0 days 09:36:27\n1      23 days 23:32:08\n2       0 days 00:00:00\n3      10 days 22:14:50\n4       7 days 17:36:07\n             ...       \n4561    0 days 10:39:01\n4562   24 days 08:26:08\n4563   11 days 14:17:59\n4564    0 days 00:00:00\n4565    9 days 22:20:31\nName: delta_first_last_timestamp, Length: 4566, dtype: timedelta64[ns]"
     },
     "execution_count": 47,
     "metadata": {},
     "output_type": "execute_result"
    }
   ],
   "source": [
    "# Full SleepQualityCheckerDataset\n",
    "pipeline = ProcessingPipeline([\n",
    "    SortOperator(by=[\"participantId\", \"timestamp\"]),\n",
    "    AggregateOperator(groupby_feature_names=\"participantId\",\n",
    "                      aggregation_definition= {\n",
    "                          \"sq_score\": [\"count\", \"mean\", \"std\", \"min\", \"max\", \"first\", \"last\"],\n",
    "                          \"timestamp\": [\"first\", \"last\"]\n",
    "                      }),\n",
    "    ConvertToDatetimeOperator(feature_names=[\"timestamp_last\", \"timestamp_first\"], format=\"%Y-%m-%dT%H:%M:%S%z\", utc=True),\n",
    "    CreateFeatureOperator(feature_name=\"delta_first_last_timestamp\",\n",
    "                          feature_creator=lambda row: row['timestamp_last'] - row['timestamp_first'])\n",
    "    ])\n",
    "\n",
    "sqc = SleepQualityCheckerDataset(shc_folder=\"../../data/sleephealth/\", pipeline=pipeline)\n",
    "df = sqc.processed_dataframe()\n",
    "print(\"Shape:\", df.shape)\n",
    "df.head()\n"
   ],
   "metadata": {
    "collapsed": false,
    "pycharm": {
     "name": "#%%\n"
    }
   }
  },
  {
   "cell_type": "code",
   "execution_count": 50,
   "outputs": [
    {
     "data": {
      "text/plain": "4566"
     },
     "execution_count": 50,
     "metadata": {},
     "output_type": "execute_result"
    }
   ],
   "source": [
    "sqc.participant_count()"
   ],
   "metadata": {
    "collapsed": false,
    "pycharm": {
     "name": "#%%\n"
    }
   }
  },
  {
   "cell_type": "code",
   "execution_count": null,
   "outputs": [],
   "source": [],
   "metadata": {
    "collapsed": false,
    "pycharm": {
     "name": "#%%\n"
    }
   }
  }
 ],
 "metadata": {
  "kernelspec": {
   "name": "python3",
   "language": "python",
   "display_name": "Python 3"
  },
  "language_info": {
   "codemirror_mode": {
    "name": "ipython",
    "version": 3
   },
   "file_extension": ".py",
   "mimetype": "text/x-python",
   "name": "python",
   "nbconvert_exporter": "python",
   "pygments_lexer": "ipython3",
   "version": "3.8.3"
  }
 },
 "nbformat": 4,
 "nbformat_minor": 4
}