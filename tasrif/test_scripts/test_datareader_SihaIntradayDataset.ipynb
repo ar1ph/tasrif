{
 "cells": [
  {
   "cell_type": "code",
   "execution_count": 4,
   "id": "given-eugene",
   "metadata": {
    "scrolled": false
   },
   "outputs": [],
   "source": [
    "import pandas as pd\n",
    "import numpy as np\n",
    "import pathlib\n",
    "import datetime\n",
    "from tasrif.data_readers.siha_dataset import \\\n",
    "    SihaSleepDataset, \\\n",
    "    SihaStepsIntradayDataset, \\\n",
    "    SihaCaloriesIntradayDataset, \\\n",
    "    SihaDistanceIntradayDataset, \\\n",
    "    SihaHeartRateIntradayDataset, \\\n",
    "    SihaVeryActiveMinutesDataset, \\\n",
    "    SihaLightlyActiveMinutesDataset, \\\n",
    "    SihaSedentaryMinutesDataset, \\\n",
    "    SihaModeratelyActiveMinutesDataset, \\\n",
    "    SihaTimeInHeartRateZonesDataset, \\\n",
    "    SihaStepsDataset, \\\n",
    "    SihaCaloriesDataset, \\\n",
    "    SihaDistanceDataset, \\\n",
    "    SihaCgmDataset, \\\n",
    "    SihaEmrDataset"
   ]
  },
  {
   "cell_type": "code",
   "execution_count": 5,
   "id": "completed-prevention",
   "metadata": {},
   "outputs": [],
   "source": [
    "ds = SihaSleepDataset(folder='/home/ummar/Downloads/Data/')\n",
    "\n",
    "df1 = ds.processed_dataframe()"
   ]
  },
  {
   "cell_type": "code",
   "execution_count": null,
   "id": "bigger-numbers",
   "metadata": {},
   "outputs": [],
   "source": [
    "df1"
   ]
  },
  {
   "cell_type": "code",
   "execution_count": null,
   "id": "received-hurricane",
   "metadata": {},
   "outputs": [],
   "source": [
    "ds = SihaStepsIntradayDataset(folder='/home/ummar/Downloads/Data/')\n",
    "\n",
    "df2 = ds.processed_dataframe()"
   ]
  },
  {
   "cell_type": "code",
   "execution_count": null,
   "id": "shaped-blocking",
   "metadata": {},
   "outputs": [],
   "source": [
    "df2"
   ]
  },
  {
   "cell_type": "code",
   "execution_count": null,
   "id": "southeast-worcester",
   "metadata": {},
   "outputs": [],
   "source": [
    "ds = SihaCaloriesIntradayDataset(folder='/home/ummar/Downloads/Data/')\n",
    "df3 = ds.processed_dataframe()\n",
    "df3"
   ]
  },
  {
   "cell_type": "code",
   "execution_count": null,
   "id": "driving-garage",
   "metadata": {},
   "outputs": [],
   "source": [
    "ds = SihaDistanceIntradayDataset(folder='/home/ummar/Downloads/Data/')\n",
    "df4 = ds.processed_dataframe()\n",
    "df4"
   ]
  },
  {
   "cell_type": "code",
   "execution_count": null,
   "id": "confused-separate",
   "metadata": {},
   "outputs": [],
   "source": [
    "ds = SihaHeartRateIntradayDataset(folder='/home/ummar/Downloads/Data/')\n",
    "df5 = ds.processed_dataframe()\n",
    "df5"
   ]
  },
  {
   "cell_type": "code",
   "execution_count": null,
   "id": "mexican-diversity",
   "metadata": {},
   "outputs": [],
   "source": [
    "ds = SihaVeryActiveMinutesDataset(folder='/home/ummar/Downloads/Data/')\n",
    "df6 = ds.processed_dataframe()\n",
    "df6"
   ]
  },
  {
   "cell_type": "code",
   "execution_count": null,
   "id": "referenced-thinking",
   "metadata": {},
   "outputs": [],
   "source": [
    "ds = SihaModeratelyActiveMinutesDataset(folder='/home/ummar/Downloads/Data/')\n",
    "df7 = ds.processed_dataframe()\n",
    "df7"
   ]
  },
  {
   "cell_type": "code",
   "execution_count": null,
   "id": "elementary-brazilian",
   "metadata": {},
   "outputs": [],
   "source": [
    "ds = SihaLightlyActiveMinutesDataset(folder='/home/ummar/Downloads/Data/')\n",
    "df8 = ds.processed_dataframe()\n",
    "df8"
   ]
  },
  {
   "cell_type": "code",
   "execution_count": null,
   "id": "informational-ordinance",
   "metadata": {},
   "outputs": [],
   "source": [
    "ds = SihaSedentaryMinutesDataset(folder='/home/ummar/Downloads/Data/')\n",
    "df9 = ds.processed_dataframe()"
   ]
  },
  {
   "cell_type": "code",
   "execution_count": null,
   "id": "corporate-norwegian",
   "metadata": {},
   "outputs": [],
   "source": [
    "df9"
   ]
  },
  {
   "cell_type": "code",
   "execution_count": null,
   "id": "unusual-plant",
   "metadata": {},
   "outputs": [],
   "source": [
    "ds = SihaTimeInHeartRateZonesDataset(folder='/home/ummar/Downloads/Data/')\n",
    "df10 = ds.processed_dataframe()"
   ]
  },
  {
   "cell_type": "code",
   "execution_count": null,
   "id": "established-portsmouth",
   "metadata": {},
   "outputs": [],
   "source": [
    "df10"
   ]
  },
  {
   "cell_type": "code",
   "execution_count": null,
   "id": "fourth-injury",
   "metadata": {},
   "outputs": [],
   "source": [
    "ds = SihaStepsDataset(folder='/home/ummar/Downloads/Data/')\n",
    "df11 = ds.processed_dataframe()"
   ]
  },
  {
   "cell_type": "code",
   "execution_count": null,
   "id": "threatened-nicaragua",
   "metadata": {},
   "outputs": [],
   "source": [
    "df11"
   ]
  },
  {
   "cell_type": "code",
   "execution_count": null,
   "id": "passive-hampshire",
   "metadata": {},
   "outputs": [],
   "source": [
    "ds = SihaCaloriesDataset(folder='/home/ummar/Downloads/Data/')\n",
    "df12 = ds.processed_dataframe()"
   ]
  },
  {
   "cell_type": "code",
   "execution_count": null,
   "id": "outstanding-causing",
   "metadata": {},
   "outputs": [],
   "source": [
    "df12"
   ]
  },
  {
   "cell_type": "code",
   "execution_count": null,
   "id": "generous-killing",
   "metadata": {},
   "outputs": [],
   "source": [
    "ds = SihaDistanceDataset(folder='/home/ummar/Downloads/Data/')\n",
    "df13 = ds.processed_dataframe()"
   ]
  },
  {
   "cell_type": "code",
   "execution_count": null,
   "id": "civil-empty",
   "metadata": {},
   "outputs": [],
   "source": [
    "df13"
   ]
  },
  {
   "cell_type": "code",
   "execution_count": null,
   "id": "according-honduras",
   "metadata": {},
   "outputs": [],
   "source": [
    "ds = SihaCgmDataset(folder='/home/ummar/Downloads/Data/')\n",
    "df13 = ds.processed_dataframe()"
   ]
  },
  {
   "cell_type": "code",
   "execution_count": null,
   "id": "tired-palestinian",
   "metadata": {},
   "outputs": [],
   "source": [
    "df13"
   ]
  },
  {
   "cell_type": "code",
   "execution_count": 2,
   "id": "utility-dating",
   "metadata": {},
   "outputs": [],
   "source": [
    "ds = SihaEmrDataset(folder='/home/ummar/Downloads/Data/')\n",
    "df14 = ds.processed_dataframe()"
   ]
  },
  {
   "cell_type": "code",
   "execution_count": 3,
   "id": "divided-foundation",
   "metadata": {},
   "outputs": [
    {
     "data": {
      "text/html": [
       "<div>\n",
       "<style scoped>\n",
       "    .dataframe tbody tr th:only-of-type {\n",
       "        vertical-align: middle;\n",
       "    }\n",
       "\n",
       "    .dataframe tbody tr th {\n",
       "        vertical-align: top;\n",
       "    }\n",
       "\n",
       "    .dataframe thead th {\n",
       "        text-align: right;\n",
       "    }\n",
       "</style>\n",
       "<table border=\"1\" class=\"dataframe\">\n",
       "  <thead>\n",
       "    <tr style=\"text-align: right;\">\n",
       "      <th></th>\n",
       "      <th>patientID</th>\n",
       "      <th>value</th>\n",
       "      <th>variable</th>\n",
       "      <th>unit</th>\n",
       "      <th>notes</th>\n",
       "    </tr>\n",
       "    <tr>\n",
       "      <th>time</th>\n",
       "      <th></th>\n",
       "      <th></th>\n",
       "      <th></th>\n",
       "      <th></th>\n",
       "      <th></th>\n",
       "    </tr>\n",
       "  </thead>\n",
       "  <tbody>\n",
       "    <tr>\n",
       "      <th>2020-12-15 00:00:00</th>\n",
       "      <td>10</td>\n",
       "      <td>pan</td>\n",
       "      <td>med</td>\n",
       "      <td>None</td>\n",
       "      <td>None</td>\n",
       "    </tr>\n",
       "    <tr>\n",
       "      <th>2020-12-15 00:00:00</th>\n",
       "      <td>10</td>\n",
       "      <td>pan</td>\n",
       "      <td>med</td>\n",
       "      <td>None</td>\n",
       "      <td>None</td>\n",
       "    </tr>\n",
       "    <tr>\n",
       "      <th>2020-12-15 00:00:00</th>\n",
       "      <td>10</td>\n",
       "      <td>pan</td>\n",
       "      <td>med</td>\n",
       "      <td>None</td>\n",
       "      <td>None</td>\n",
       "    </tr>\n",
       "    <tr>\n",
       "      <th>2020-12-15 00:12:00</th>\n",
       "      <td>10</td>\n",
       "      <td>panadol</td>\n",
       "      <td>medication</td>\n",
       "      <td></td>\n",
       "      <td>None</td>\n",
       "    </tr>\n",
       "    <tr>\n",
       "      <th>2020-12-15 00:12:00</th>\n",
       "      <td>10</td>\n",
       "      <td>med</td>\n",
       "      <td>data</td>\n",
       "      <td>None</td>\n",
       "      <td>None</td>\n",
       "    </tr>\n",
       "    <tr>\n",
       "      <th>2020-12-15 00:12:00</th>\n",
       "      <td>10</td>\n",
       "      <td>pan</td>\n",
       "      <td>med</td>\n",
       "      <td>None</td>\n",
       "      <td>None</td>\n",
       "    </tr>\n",
       "    <tr>\n",
       "      <th>2020-12-15 00:12:00</th>\n",
       "      <td>10</td>\n",
       "      <td>pan</td>\n",
       "      <td>med</td>\n",
       "      <td>None</td>\n",
       "      <td>None</td>\n",
       "    </tr>\n",
       "    <tr>\n",
       "      <th>2020-12-15 00:12:00</th>\n",
       "      <td>10</td>\n",
       "      <td>pan</td>\n",
       "      <td>med</td>\n",
       "      <td>None</td>\n",
       "      <td>None</td>\n",
       "    </tr>\n",
       "    <tr>\n",
       "      <th>2020-12-15 00:12:00</th>\n",
       "      <td>10</td>\n",
       "      <td>panadol</td>\n",
       "      <td>medication</td>\n",
       "      <td></td>\n",
       "      <td>None</td>\n",
       "    </tr>\n",
       "    <tr>\n",
       "      <th>2020-12-15 00:12:00</th>\n",
       "      <td>10</td>\n",
       "      <td>pannd</td>\n",
       "      <td>meds</td>\n",
       "      <td></td>\n",
       "      <td>None</td>\n",
       "    </tr>\n",
       "    <tr>\n",
       "      <th>2020-12-15 00:12:00</th>\n",
       "      <td>10</td>\n",
       "      <td>pan</td>\n",
       "      <td>med</td>\n",
       "      <td></td>\n",
       "      <td>None</td>\n",
       "    </tr>\n",
       "    <tr>\n",
       "      <th>2020-12-15 12:12:00</th>\n",
       "      <td>10</td>\n",
       "      <td>panadol</td>\n",
       "      <td>medication</td>\n",
       "      <td></td>\n",
       "      <td>None</td>\n",
       "    </tr>\n",
       "    <tr>\n",
       "      <th>2020-12-15 15:12:00</th>\n",
       "      <td>10</td>\n",
       "      <td>pan</td>\n",
       "      <td>med</td>\n",
       "      <td></td>\n",
       "      <td>None</td>\n",
       "    </tr>\n",
       "    <tr>\n",
       "      <th>2020-12-15 16:12:00</th>\n",
       "      <td>10</td>\n",
       "      <td>pan</td>\n",
       "      <td>med</td>\n",
       "      <td>None</td>\n",
       "      <td>None</td>\n",
       "    </tr>\n",
       "    <tr>\n",
       "      <th>2020-12-15 16:31:00</th>\n",
       "      <td>10</td>\n",
       "      <td>pan</td>\n",
       "      <td>med</td>\n",
       "      <td>None</td>\n",
       "      <td>None</td>\n",
       "    </tr>\n",
       "    <tr>\n",
       "      <th>2020-12-15 18:12:00</th>\n",
       "      <td>10</td>\n",
       "      <td>pana</td>\n",
       "      <td>panadol</td>\n",
       "      <td></td>\n",
       "      <td>None</td>\n",
       "    </tr>\n",
       "    <tr>\n",
       "      <th>2020-12-15 18:12:00</th>\n",
       "      <td>10</td>\n",
       "      <td>panadol</td>\n",
       "      <td>medication</td>\n",
       "      <td></td>\n",
       "      <td>None</td>\n",
       "    </tr>\n",
       "  </tbody>\n",
       "</table>\n",
       "</div>"
      ],
      "text/plain": [
       "                     patientID    value    variable  unit notes\n",
       "time                                                           \n",
       "2020-12-15 00:00:00         10      pan         med  None  None\n",
       "2020-12-15 00:00:00         10      pan         med  None  None\n",
       "2020-12-15 00:00:00         10      pan         med  None  None\n",
       "2020-12-15 00:12:00         10  panadol  medication        None\n",
       "2020-12-15 00:12:00         10      med        data  None  None\n",
       "2020-12-15 00:12:00         10      pan         med  None  None\n",
       "2020-12-15 00:12:00         10      pan         med  None  None\n",
       "2020-12-15 00:12:00         10      pan         med  None  None\n",
       "2020-12-15 00:12:00         10  panadol  medication        None\n",
       "2020-12-15 00:12:00         10    pannd        meds        None\n",
       "2020-12-15 00:12:00         10      pan         med        None\n",
       "2020-12-15 12:12:00         10  panadol  medication        None\n",
       "2020-12-15 15:12:00         10      pan         med        None\n",
       "2020-12-15 16:12:00         10      pan         med  None  None\n",
       "2020-12-15 16:31:00         10      pan         med  None  None\n",
       "2020-12-15 18:12:00         10     pana     panadol        None\n",
       "2020-12-15 18:12:00         10  panadol  medication        None"
      ]
     },
     "execution_count": 3,
     "metadata": {},
     "output_type": "execute_result"
    }
   ],
   "source": [
    "df14"
   ]
  },
  {
   "cell_type": "code",
   "execution_count": null,
   "id": "alien-chicago",
   "metadata": {},
   "outputs": [],
   "source": []
  }
 ],
 "metadata": {
  "kernelspec": {
   "display_name": "Python 3",
   "language": "python",
   "name": "python3"
  },
  "language_info": {
   "codemirror_mode": {
    "name": "ipython",
    "version": 3
   },
   "file_extension": ".py",
   "mimetype": "text/x-python",
   "name": "python",
   "nbconvert_exporter": "python",
   "pygments_lexer": "ipython3",
   "version": "3.9.2"
  }
 },
 "nbformat": 4,
 "nbformat_minor": 5
}
