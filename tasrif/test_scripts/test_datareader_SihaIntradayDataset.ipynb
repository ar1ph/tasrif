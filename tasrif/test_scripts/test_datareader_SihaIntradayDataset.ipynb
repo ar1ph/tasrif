{
 "cells": [
  {
   "cell_type": "code",
   "execution_count": null,
   "id": "given-eugene",
   "metadata": {
    "scrolled": false
   },
   "outputs": [],
   "source": [
    "import pandas as pd\n",
    "import numpy as np\n",
    "import pathlib\n",
    "import datetime\n",
    "from tasrif.data_readers.siha_dataset import \\\n",
    "    SihaSleepDataset, \\\n",
    "    SihaStepsIntradayDataset, \\\n",
    "    SihaCaloriesIntradayDataset, \\\n",
    "    SihaDistanceIntradayDataset, \\\n",
    "    SihaHeartRateIntradayDataset, \\\n",
    "    SihaVeryActiveMinutesDataset, \\\n",
    "    SihaLightlyActiveMinutesDataset, \\\n",
    "    SihaSedentaryMinutesDataset, \\\n",
    "    SihaModeratelyActiveMinutesDataset, \\\n",
    "    SihaTimeInHeartRateZonesDataset, \\\n",
    "    SihaStepsDataset, \\\n",
    "    SihaCaloriesDataset, \\\n",
    "    SihaDistanceDataset, \\\n",
    "    SihaCgmDataset, \\\n",
    "    SihaEmrDataset, \\\n",
    "    SihaSleepIntradayDataset"
   ]
  },
  {
   "cell_type": "code",
   "execution_count": null,
   "id": "emotional-latino",
   "metadata": {},
   "outputs": [],
   "source": [
    "folder='/home/ummar/Downloads/Data/'"
   ]
  },
  {
   "cell_type": "code",
   "execution_count": null,
   "id": "employed-western",
   "metadata": {},
   "outputs": [],
   "source": [
    "ds = SihaSleepIntradayDataset(folder=folder)\n",
    "df0 = ds.processed_dataframe()"
   ]
  },
  {
   "cell_type": "code",
   "execution_count": null,
   "id": "naked-portable",
   "metadata": {},
   "outputs": [],
   "source": [
    "df0"
   ]
  },
  {
   "cell_type": "code",
   "execution_count": null,
   "id": "completed-prevention",
   "metadata": {},
   "outputs": [],
   "source": [
    "ds = SihaSleepDataset(folder='/home/ummar/Downloads/Data/profast')\n",
    "\n",
    "df1 = ds.processed_dataframe()"
   ]
  },
  {
   "cell_type": "code",
   "execution_count": null,
   "id": "bigger-numbers",
   "metadata": {},
   "outputs": [],
   "source": [
    "df1"
   ]
  },
  {
   "cell_type": "code",
   "execution_count": null,
   "id": "received-hurricane",
   "metadata": {},
   "outputs": [],
   "source": [
    "ds = SihaStepsIntradayDataset(folder='/home/ummar/Downloads/Data/profast')\n",
    "\n",
    "df2 = ds.processed_dataframe()"
   ]
  },
  {
   "cell_type": "code",
   "execution_count": null,
   "id": "shaped-blocking",
   "metadata": {},
   "outputs": [],
   "source": [
    "df2"
   ]
  },
  {
   "cell_type": "code",
   "execution_count": null,
   "id": "southeast-worcester",
   "metadata": {},
   "outputs": [],
   "source": [
    "ds = SihaCaloriesIntradayDataset(folder='/home/ummar/Downloads/Data/profast')\n",
    "df3 = ds.processed_dataframe()\n",
    "df3"
   ]
  },
  {
   "cell_type": "code",
   "execution_count": null,
   "id": "driving-garage",
   "metadata": {},
   "outputs": [],
   "source": [
    "ds = SihaDistanceIntradayDataset(folder='/home/ummar/Downloads/Data/profast')\n",
    "df4 = ds.processed_dataframe()\n",
    "df4"
   ]
  },
  {
   "cell_type": "code",
   "execution_count": null,
   "id": "confused-separate",
   "metadata": {},
   "outputs": [],
   "source": [
    "ds = SihaHeartRateIntradayDataset(folder='/home/ummar/Downloads/Data/profast')\n",
    "df5 = ds.processed_dataframe()\n",
    "df5"
   ]
  },
  {
   "cell_type": "code",
   "execution_count": null,
   "id": "mexican-diversity",
   "metadata": {},
   "outputs": [],
   "source": [
    "ds = SihaVeryActiveMinutesDataset(folder='/home/ummar/Downloads/Data/profast')\n",
    "df6 = ds.processed_dataframe()\n",
    "df6"
   ]
  },
  {
   "cell_type": "code",
   "execution_count": null,
   "id": "referenced-thinking",
   "metadata": {},
   "outputs": [],
   "source": [
    "ds = SihaModeratelyActiveMinutesDataset(folder='/home/ummar/Downloads/Data/profast')\n",
    "df7 = ds.processed_dataframe()\n",
    "df7"
   ]
  },
  {
   "cell_type": "code",
   "execution_count": null,
   "id": "elementary-brazilian",
   "metadata": {},
   "outputs": [],
   "source": [
    "ds = SihaLightlyActiveMinutesDataset(folder='/home/ummar/Downloads/Data/profast')\n",
    "df8 = ds.processed_dataframe()\n",
    "df8"
   ]
  },
  {
   "cell_type": "code",
   "execution_count": null,
   "id": "informational-ordinance",
   "metadata": {},
   "outputs": [],
   "source": [
    "ds = SihaSedentaryMinutesDataset(folder='/home/ummar/Downloads/Data/profast')\n",
    "df9 = ds.processed_dataframe()"
   ]
  },
  {
   "cell_type": "code",
   "execution_count": null,
   "id": "corporate-norwegian",
   "metadata": {},
   "outputs": [],
   "source": [
    "df9"
   ]
  },
  {
   "cell_type": "code",
   "execution_count": null,
   "id": "inside-confidentiality",
   "metadata": {},
   "outputs": [],
   "source": [
    "ds = SihaTimeInHeartRateZonesDataset(folder='/home/ummar/Downloads/Data/profast')\n",
    "df10 = ds.processed_dataframe()"
   ]
  },
  {
   "cell_type": "code",
   "execution_count": null,
   "id": "mounted-increase",
   "metadata": {},
   "outputs": [],
   "source": [
    "df10"
   ]
  },
  {
   "cell_type": "code",
   "execution_count": null,
   "id": "recognized-blond",
   "metadata": {},
   "outputs": [],
   "source": [
    "ds = SihaStepsDataset(folder='/home/ummar/Downloads/Data/profast')\n",
    "df11 = ds.processed_dataframe()"
   ]
  },
  {
   "cell_type": "code",
   "execution_count": null,
   "id": "aboriginal-colombia",
   "metadata": {},
   "outputs": [],
   "source": [
    "df11"
   ]
  },
  {
   "cell_type": "code",
   "execution_count": null,
   "id": "refined-philadelphia",
   "metadata": {},
   "outputs": [],
   "source": [
    "ds = SihaCaloriesDataset(folder='/home/ummar/Downloads/Data/profast')\n",
    "df12 = ds.processed_dataframe()"
   ]
  },
  {
   "cell_type": "code",
   "execution_count": null,
   "id": "naval-albert",
   "metadata": {},
   "outputs": [],
   "source": [
    "df12"
   ]
  },
  {
   "cell_type": "code",
   "execution_count": null,
   "id": "substantial-durham",
   "metadata": {},
   "outputs": [],
   "source": [
    "ds = SihaDistanceDataset(folder='/home/ummar/Downloads/Data/profast')\n",
    "df13 = ds.processed_dataframe()"
   ]
  },
  {
   "cell_type": "code",
   "execution_count": null,
   "id": "conscious-minute",
   "metadata": {},
   "outputs": [],
   "source": [
    "df13"
   ]
  },
  {
   "cell_type": "code",
   "execution_count": null,
   "id": "checked-maria",
   "metadata": {},
   "outputs": [],
   "source": [
    "ds = SihaCgmDataset(folder='/home/ummar/Downloads/Data/profast')\n",
    "df13 = ds.processed_dataframe()"
   ]
  },
  {
   "cell_type": "code",
   "execution_count": null,
   "id": "irish-evaluation",
   "metadata": {},
   "outputs": [],
   "source": [
    "df13"
   ]
  },
  {
   "cell_type": "code",
   "execution_count": null,
   "id": "exclusive-hearing",
   "metadata": {},
   "outputs": [],
   "source": [
    "ds = SihaEmrDataset(folder='/home/ummar/Downloads/Data/profast')\n",
    "df14 = ds.processed_dataframe()"
   ]
  },
  {
   "cell_type": "code",
   "execution_count": null,
   "id": "neutral-wrist",
   "metadata": {},
   "outputs": [],
   "source": [
    "df14"
   ]
  },
  {
   "cell_type": "code",
   "execution_count": null,
   "id": "preliminary-portrait",
   "metadata": {},
   "outputs": [],
   "source": [
    "ds = SihaSleepIntradayDataset(folder=folder)\n",
    "df15 = ds.processed_dataframe()"
   ]
  },
  {
   "cell_type": "code",
   "execution_count": null,
   "id": "featured-chest",
   "metadata": {},
   "outputs": [],
   "source": []
  }
 ],
 "metadata": {
  "kernelspec": {
   "display_name": "Python 3",
   "language": "python",
   "name": "python3"
  },
  "language_info": {
   "codemirror_mode": {
    "name": "ipython",
    "version": 3
   },
   "file_extension": ".py",
   "mimetype": "text/x-python",
   "name": "python",
   "nbconvert_exporter": "python",
   "pygments_lexer": "ipython3",
   "version": "3.9.2"
  }
 },
 "nbformat": 4,
 "nbformat_minor": 5
}
