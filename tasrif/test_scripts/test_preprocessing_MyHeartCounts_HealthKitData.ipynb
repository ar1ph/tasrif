{
 "cells": [
  {
   "cell_type": "code",
   "execution_count": null,
   "metadata": {},
   "outputs": [],
   "source": [
    "import pandas as pd\n",
    "\n",
    "from tasrif.data_readers.my_heart_counts import HealthKitDataDataset\n",
    "from tasrif.processing_pipeline.custom import IterateCsvOperator\n",
    "from tasrif.processing_pipeline.custom import CreateFeatureOperator\n",
    "from tasrif.processing_pipeline import ProcessingPipeline\n",
    "\n",
    "CSV_FOLDER = 'E:/Development/siha/HealthData_timeseries'\n",
    "PIPELINE = ProcessingPipeline([CreateFeatureOperator(feature_name='file_name', feature_creator=lambda df: df['recordId'] + '.csv'),\n",
    "                               IterateCsvOperator(folder_path=CSV_FOLDER, field='file_name')])\n",
    "\n",
    "hkd = HealthKitDataDataset(mhc_folder='E:\\\\Development\\\\siha', processing_pipeline=PIPELINE)\n",
    "record, df = next(hkd.processed_df)"
   ]
  },
  {
   "cell_type": "code",
   "execution_count": null,
   "metadata": {},
   "outputs": [],
   "source": [
    "hkd.raw_df"
   ]
  },
  {
   "cell_type": "code",
   "execution_count": null,
   "metadata": {},
   "outputs": [],
   "source": [
    "record"
   ]
  },
  {
   "cell_type": "code",
   "execution_count": null,
   "metadata": {},
   "outputs": [],
   "source": [
    "df"
   ]
  }
 ],
 "metadata": {
  "kernelspec": {
   "display_name": "Python 3",
   "language": "python",
   "name": "python3"
  },
  "language_info": {
   "codemirror_mode": {
    "name": "ipython",
    "version": 3
   },
   "file_extension": ".py",
   "mimetype": "text/x-python",
   "name": "python",
   "nbconvert_exporter": "python",
   "pygments_lexer": "ipython3",
   "version": "3.8.8"
  }
 },
 "nbformat": 4,
 "nbformat_minor": 4
}
