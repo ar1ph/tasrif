{
 "cells": [
  {
   "cell_type": "code",
   "execution_count": 1,
   "metadata": {
    "ExecuteTime": {
     "end_time": "2021-02-20T19:29:08.186885Z",
     "start_time": "2021-02-20T19:29:07.950566Z"
    }
   },
   "outputs": [],
   "source": [
    "%load_ext autoreload\n",
    "%autoreload 2\n",
    "\n",
    "import numpy as np\n",
    "from tasrif.data_readers.sleep_health import SleepHabitDataset\n",
    "\n",
    "from tasrif.processing_pipeline import ProcessingPipeline\n",
    "from tasrif.processing_pipeline.pandas import DropNAOperator\n",
    "from tasrif.processing_pipeline.pandas import ReplaceOperator\n",
    "from tasrif.processing_pipeline.custom import OneHotEncoderOperator"
   ]
  },
  {
   "cell_type": "code",
   "execution_count": 2,
   "metadata": {
    "ExecuteTime": {
     "end_time": "2021-02-20T19:29:08.207147Z",
     "start_time": "2021-02-20T19:29:08.190201Z"
    }
   },
   "outputs": [],
   "source": [
    "def col_stats(df):\n",
    "    print('Some important stats:')\n",
    "    print('\\t- This dataset contains', len(df) ,' rows.')\n",
    "    for col in df.columns:\n",
    "        null_percentage = \"{:.2f}\".format(df[col].isnull().sum()/len(df)*100)\n",
    "        print('\\t - ``', col, '`` has', df[col].isnull().sum(), 'NAs (', df[col].count().sum(), '/', len(df), ') =',\n",
    "              null_percentage, '%')\n",
    "\n"
   ]
  },
  {
   "cell_type": "code",
   "execution_count": 3,
   "metadata": {
    "ExecuteTime": {
     "end_time": "2021-02-20T19:29:08.245702Z",
     "start_time": "2021-02-20T19:29:08.209022Z"
    }
   },
   "outputs": [
    {
     "name": "stdout",
     "output_type": "stream",
     "text": [
      "Full Shape: (3303, 16)\n",
      "Some important stats:\n",
      "\t- This dataset contains 3303  rows.\n",
      "\t - `` participantId `` has 0 NAs ( 3303 / 3303 ) = 0.00 %\n",
      "\t - `` alarm_dependency `` has 17 NAs ( 3286 / 3303 ) = 0.51 %\n",
      "\t - `` driving_sleepy `` has 27 NAs ( 3276 / 3303 ) = 0.82 %\n",
      "\t - `` falling_asleep `` has 9 NAs ( 3294 / 3303 ) = 0.27 %\n",
      "\t - `` morning_person `` has 9 NAs ( 3294 / 3303 ) = 0.27 %\n",
      "\t - `` nap_duration `` has 1539 NAs ( 1764 / 3303 ) = 46.59 %\n",
      "\t - `` sleep_lost `` has 1495 NAs ( 1808 / 3303 ) = 45.26 %\n",
      "\t - `` sleep_needed `` has 49 NAs ( 3254 / 3303 ) = 1.48 %\n",
      "\t - `` sleep_partner `` has 8 NAs ( 3295 / 3303 ) = 0.24 %\n",
      "\t - `` sleep_time_workday `` has 15 NAs ( 3288 / 3303 ) = 0.45 %\n",
      "\t - `` sleep_time_weekend `` has 14 NAs ( 3289 / 3303 ) = 0.42 %\n",
      "\t - `` wake_up_choices `` has 7 NAs ( 3296 / 3303 ) = 0.21 %\n",
      "\t - `` wake_ups `` has 29 NAs ( 3274 / 3303 ) = 0.88 %\n",
      "\t - `` weekly_naps `` has 6 NAs ( 3297 / 3303 ) = 0.18 %\n",
      "\t - `` what_wakes_you `` has 13 NAs ( 3290 / 3303 ) = 0.39 %\n",
      "\t - `` timestamp `` has 0 NAs ( 3303 / 3303 ) = 0.00 %\n"
     ]
    }
   ],
   "source": [
    "# Full AboutMeDataset\n",
    "shd = SleepHabitDataset(shc_folder=\"../../data/sleephealth/\", pipeline=None)\n",
    "\n",
    "df_full = shd.processed_dataframe()\n",
    "print(\"Full Shape:\", df_full.shape)\n",
    "col_stats(df_full)"
   ]
  },
  {
   "cell_type": "code",
   "execution_count": 4,
   "metadata": {
    "ExecuteTime": {
     "end_time": "2021-02-20T19:29:08.515180Z",
     "start_time": "2021-02-20T19:29:08.246693Z"
    }
   },
   "outputs": [
    {
     "name": "stdout",
     "output_type": "stream",
     "text": [
      "Full Shape: (3111, 57)\n",
      "Some important stats:\n",
      "\t- This dataset contains 3111  rows.\n",
      "\t - `` participantId `` has 0 NAs ( 3111 / 3111 ) = 0.00 %\n",
      "\t - `` sleep_lost `` has 1381 NAs ( 1730 / 3111 ) = 44.39 %\n",
      "\t - `` sleep_needed `` has 0 NAs ( 3111 / 3111 ) = 0.00 %\n",
      "\t - `` sleep_time_workday `` has 0 NAs ( 3111 / 3111 ) = 0.00 %\n",
      "\t - `` sleep_time_weekend `` has 3 NAs ( 3108 / 3111 ) = 0.10 %\n",
      "\t - `` wake_ups `` has 0 NAs ( 3111 / 3111 ) = 0.00 %\n",
      "\t - `` timestamp `` has 0 NAs ( 3111 / 3111 ) = 0.00 %\n",
      "\t - `` alarm_dependency=2.0 `` has 0 NAs ( 3111 / 3111 ) = 0.00 %\n",
      "\t - `` alarm_dependency=3.0 `` has 0 NAs ( 3111 / 3111 ) = 0.00 %\n",
      "\t - `` alarm_dependency=4.0 `` has 0 NAs ( 3111 / 3111 ) = 0.00 %\n",
      "\t - `` driving_sleepy=2.0 `` has 0 NAs ( 3111 / 3111 ) = 0.00 %\n",
      "\t - `` driving_sleepy=3.0 `` has 0 NAs ( 3111 / 3111 ) = 0.00 %\n",
      "\t - `` driving_sleepy=4.0 `` has 0 NAs ( 3111 / 3111 ) = 0.00 %\n",
      "\t - `` driving_sleepy=5.0 `` has 0 NAs ( 3111 / 3111 ) = 0.00 %\n",
      "\t - `` falling_asleep=2.0 `` has 0 NAs ( 3111 / 3111 ) = 0.00 %\n",
      "\t - `` falling_asleep=3.0 `` has 0 NAs ( 3111 / 3111 ) = 0.00 %\n",
      "\t - `` falling_asleep=4.0 `` has 0 NAs ( 3111 / 3111 ) = 0.00 %\n",
      "\t - `` falling_asleep=5.0 `` has 0 NAs ( 3111 / 3111 ) = 0.00 %\n",
      "\t - `` falling_asleep=6.0 `` has 0 NAs ( 3111 / 3111 ) = 0.00 %\n",
      "\t - `` falling_asleep=7.0 `` has 0 NAs ( 3111 / 3111 ) = 0.00 %\n",
      "\t - `` morning_person=2.0 `` has 0 NAs ( 3111 / 3111 ) = 0.00 %\n",
      "\t - `` morning_person=nan `` has 0 NAs ( 3111 / 3111 ) = 0.00 %\n",
      "\t - `` nap_duration=2.0 `` has 0 NAs ( 3111 / 3111 ) = 0.00 %\n",
      "\t - `` nap_duration=3.0 `` has 0 NAs ( 3111 / 3111 ) = 0.00 %\n",
      "\t - `` nap_duration=4.0 `` has 0 NAs ( 3111 / 3111 ) = 0.00 %\n",
      "\t - `` nap_duration=5.0 `` has 0 NAs ( 3111 / 3111 ) = 0.00 %\n",
      "\t - `` nap_duration=7.0 `` has 0 NAs ( 3111 / 3111 ) = 0.00 %\n",
      "\t - `` nap_duration=nan `` has 0 NAs ( 3111 / 3111 ) = 0.00 %\n",
      "\t - `` sleep_partner=2 `` has 0 NAs ( 3111 / 3111 ) = 0.00 %\n",
      "\t - `` sleep_partner=3 `` has 0 NAs ( 3111 / 3111 ) = 0.00 %\n",
      "\t - `` sleep_partner=4 `` has 0 NAs ( 3111 / 3111 ) = 0.00 %\n",
      "\t - `` sleep_partner=5 `` has 0 NAs ( 3111 / 3111 ) = 0.00 %\n",
      "\t - `` wake_up_choices=10.0 `` has 0 NAs ( 3111 / 3111 ) = 0.00 %\n",
      "\t - `` wake_up_choices=2.0 `` has 0 NAs ( 3111 / 3111 ) = 0.00 %\n",
      "\t - `` wake_up_choices=3.0 `` has 0 NAs ( 3111 / 3111 ) = 0.00 %\n",
      "\t - `` wake_up_choices=4.0 `` has 0 NAs ( 3111 / 3111 ) = 0.00 %\n",
      "\t - `` wake_up_choices=5.0 `` has 0 NAs ( 3111 / 3111 ) = 0.00 %\n",
      "\t - `` wake_up_choices=6.0 `` has 0 NAs ( 3111 / 3111 ) = 0.00 %\n",
      "\t - `` wake_up_choices=7.0 `` has 0 NAs ( 3111 / 3111 ) = 0.00 %\n",
      "\t - `` wake_up_choices=8.0 `` has 0 NAs ( 3111 / 3111 ) = 0.00 %\n",
      "\t - `` wake_up_choices=9.0 `` has 0 NAs ( 3111 / 3111 ) = 0.00 %\n",
      "\t - `` weekly_naps=2.0 `` has 0 NAs ( 3111 / 3111 ) = 0.00 %\n",
      "\t - `` weekly_naps=3.0 `` has 0 NAs ( 3111 / 3111 ) = 0.00 %\n",
      "\t - `` weekly_naps=4.0 `` has 0 NAs ( 3111 / 3111 ) = 0.00 %\n",
      "\t - `` weekly_naps=5.0 `` has 0 NAs ( 3111 / 3111 ) = 0.00 %\n",
      "\t - `` what_wakes_you=10 `` has 0 NAs ( 3111 / 3111 ) = 0.00 %\n",
      "\t - `` what_wakes_you=11 `` has 0 NAs ( 3111 / 3111 ) = 0.00 %\n",
      "\t - `` what_wakes_you=12 `` has 0 NAs ( 3111 / 3111 ) = 0.00 %\n",
      "\t - `` what_wakes_you=13 `` has 0 NAs ( 3111 / 3111 ) = 0.00 %\n",
      "\t - `` what_wakes_you=2 `` has 0 NAs ( 3111 / 3111 ) = 0.00 %\n",
      "\t - `` what_wakes_you=3 `` has 0 NAs ( 3111 / 3111 ) = 0.00 %\n",
      "\t - `` what_wakes_you=4 `` has 0 NAs ( 3111 / 3111 ) = 0.00 %\n",
      "\t - `` what_wakes_you=5 `` has 0 NAs ( 3111 / 3111 ) = 0.00 %\n",
      "\t - `` what_wakes_you=6 `` has 0 NAs ( 3111 / 3111 ) = 0.00 %\n",
      "\t - `` what_wakes_you=7 `` has 0 NAs ( 3111 / 3111 ) = 0.00 %\n",
      "\t - `` what_wakes_you=8 `` has 0 NAs ( 3111 / 3111 ) = 0.00 %\n",
      "\t - `` what_wakes_you=9 `` has 0 NAs ( 3111 / 3111 ) = 0.00 %\n"
     ]
    }
   ],
   "source": [
    "shd = SleepHabitDataset(shc_folder=\"../../data/sleephealth/\")\n",
    "\n",
    "df_full = shd.processed_dataframe()\n",
    "print(\"Full Shape:\", df_full.shape)\n",
    "col_stats(df_full)"
   ]
  },
  {
   "cell_type": "code",
   "execution_count": 5,
   "metadata": {
    "ExecuteTime": {
     "end_time": "2021-02-20T19:29:08.530270Z",
     "start_time": "2021-02-20T19:29:08.516144Z"
    }
   },
   "outputs": [
    {
     "data": {
      "text/plain": [
       "datetime64[ns, UTC]"
      ]
     },
     "execution_count": 5,
     "metadata": {},
     "output_type": "execute_result"
    }
   ],
   "source": [
    "# Checks if timestamp datatype is datetime64\n",
    "df_full[\"timestamp\"].dtype"
   ]
  }
 ],
 "metadata": {
  "kernelspec": {
   "display_name": "PyCharm (tasrif)",
   "language": "python",
   "name": "pycharm-5bd30262"
  },
  "language_info": {
   "codemirror_mode": {
    "name": "ipython",
    "version": 3
   },
   "file_extension": ".py",
   "mimetype": "text/x-python",
   "name": "python",
   "nbconvert_exporter": "python",
   "pygments_lexer": "ipython3",
   "version": "3.9.1"
  }
 },
 "nbformat": 4,
 "nbformat_minor": 4
}
