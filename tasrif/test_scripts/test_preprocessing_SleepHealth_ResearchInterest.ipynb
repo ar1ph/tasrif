{
 "cells": [
  {
   "cell_type": "code",
   "execution_count": 1,
   "metadata": {
    "ExecuteTime": {
     "end_time": "2021-02-28T12:09:56.778445Z",
     "start_time": "2021-02-28T12:09:56.760220Z"
    }
   },
   "outputs": [],
   "source": [
    "%load_ext autoreload\n",
    "%autoreload 2\n",
    "\n",
    "import numpy as np\n",
    "\n",
    "from tasrif.processing_pipeline import ProcessingPipeline\n",
    "from tasrif.processing_pipeline.pandas import ConvertToDatetimeOperator, SortOperator, ReplaceOperator\n",
    "from tasrif.processing_pipeline.pandas import DropDuplicatesOperator, DropNAOperator, DropFeaturesOperator\n",
    "from tasrif.processing_pipeline.custom import OneHotEncoderOperator\n",
    "\n",
    "from tasrif.data_readers.sleep_health import ResearchInterestDataset\n"
   ]
  },
  {
   "cell_type": "code",
   "execution_count": 2,
   "metadata": {
    "ExecuteTime": {
     "end_time": "2021-02-28T12:09:58.015948Z",
     "start_time": "2021-02-28T12:09:57.965665Z"
    }
   },
   "outputs": [],
   "source": [
    "def col_stats(df):\n",
    "    print('Some important stats:')\n",
    "    print('\\t- This dataset contains', len(df) ,' rows.')\n",
    "    for col in df.columns:\n",
    "        null_percentage = \"{:.2f}\".format(df[col].isnull().sum()/len(df)*100)\n",
    "        print('\\t - ``', col, '`` has', df[col].isnull().sum(), 'NAs (', df[col].count().sum(), '/', len(df), ') =',\n",
    "              null_percentage, '%')"
   ]
  },
  {
   "cell_type": "code",
   "execution_count": 3,
   "metadata": {
    "pycharm": {
     "name": "#%%\n"
    }
   },
   "outputs": [
    {
     "name": "stdout",
     "output_type": "stream",
     "text": [
      "Shape: (2359, 9)\n"
     ]
    },
    {
     "data": {
      "text/plain": "                          participantId contact_method  research_experience  \\\n0  6da7e848-daaa-410c-a83f-35b63498595c            1,2                  1.0   \n1  710f0db5-0f76-4cbf-a073-33522eafe998              1                  2.0   \n2  f2514967-9173-4834-96f7-0acdd0298e84              1                  3.0   \n3  cd9cf981-4a00-4915-8ca3-164bf6550b5b            1,2                  1.0   \n4  9ecd89b1-7a6b-4abc-8b76-7d5f884d8328              1                  2.0   \n\n   two_surveys_perday  blood_sample  taking_medication  family_survey  \\\n0                 2.0           2.0                2.0            2.0   \n1                 2.0           1.0                1.0            1.0   \n2                 2.0           1.0                1.0            1.0   \n3                 2.0           2.0                2.0            2.0   \n4                 2.0           1.0                2.0            1.0   \n\n   hospital_stay                  timestamp  \n0            2.0  2016-03-03T06:55:58-05:00  \n1            1.0  2016-03-11T05:48:13+08:00  \n2            2.0  2016-03-03T07:21:59-08:00  \n3            2.0  2016-03-03T16:17:02-06:00  \n4            1.0       2016-03-20T19:41:07Z  ",
      "text/html": "<div>\n<style scoped>\n    .dataframe tbody tr th:only-of-type {\n        vertical-align: middle;\n    }\n\n    .dataframe tbody tr th {\n        vertical-align: top;\n    }\n\n    .dataframe thead th {\n        text-align: right;\n    }\n</style>\n<table border=\"1\" class=\"dataframe\">\n  <thead>\n    <tr style=\"text-align: right;\">\n      <th></th>\n      <th>participantId</th>\n      <th>contact_method</th>\n      <th>research_experience</th>\n      <th>two_surveys_perday</th>\n      <th>blood_sample</th>\n      <th>taking_medication</th>\n      <th>family_survey</th>\n      <th>hospital_stay</th>\n      <th>timestamp</th>\n    </tr>\n  </thead>\n  <tbody>\n    <tr>\n      <th>0</th>\n      <td>6da7e848-daaa-410c-a83f-35b63498595c</td>\n      <td>1,2</td>\n      <td>1.0</td>\n      <td>2.0</td>\n      <td>2.0</td>\n      <td>2.0</td>\n      <td>2.0</td>\n      <td>2.0</td>\n      <td>2016-03-03T06:55:58-05:00</td>\n    </tr>\n    <tr>\n      <th>1</th>\n      <td>710f0db5-0f76-4cbf-a073-33522eafe998</td>\n      <td>1</td>\n      <td>2.0</td>\n      <td>2.0</td>\n      <td>1.0</td>\n      <td>1.0</td>\n      <td>1.0</td>\n      <td>1.0</td>\n      <td>2016-03-11T05:48:13+08:00</td>\n    </tr>\n    <tr>\n      <th>2</th>\n      <td>f2514967-9173-4834-96f7-0acdd0298e84</td>\n      <td>1</td>\n      <td>3.0</td>\n      <td>2.0</td>\n      <td>1.0</td>\n      <td>1.0</td>\n      <td>1.0</td>\n      <td>2.0</td>\n      <td>2016-03-03T07:21:59-08:00</td>\n    </tr>\n    <tr>\n      <th>3</th>\n      <td>cd9cf981-4a00-4915-8ca3-164bf6550b5b</td>\n      <td>1,2</td>\n      <td>1.0</td>\n      <td>2.0</td>\n      <td>2.0</td>\n      <td>2.0</td>\n      <td>2.0</td>\n      <td>2.0</td>\n      <td>2016-03-03T16:17:02-06:00</td>\n    </tr>\n    <tr>\n      <th>4</th>\n      <td>9ecd89b1-7a6b-4abc-8b76-7d5f884d8328</td>\n      <td>1</td>\n      <td>2.0</td>\n      <td>2.0</td>\n      <td>1.0</td>\n      <td>2.0</td>\n      <td>1.0</td>\n      <td>1.0</td>\n      <td>2016-03-20T19:41:07Z</td>\n    </tr>\n  </tbody>\n</table>\n</div>"
     },
     "execution_count": 3,
     "metadata": {},
     "output_type": "execute_result"
    }
   ],
   "source": [
    "# Full MyFamilyDataset\n",
    "mf = ResearchInterestDataset(shc_folder=\"../../data/sleephealth/\", pipeline=None)\n",
    "df = mf.raw_df.copy()\n",
    "print(\"Shape:\", df.shape)\n",
    "df.head()"
   ]
  },
  {
   "cell_type": "code",
   "execution_count": 4,
   "metadata": {
    "pycharm": {
     "name": "#%%\n"
    }
   },
   "outputs": [
    {
     "name": "stdout",
     "output_type": "stream",
     "text": [
      "Some important stats:\n",
      "\t- This dataset contains 2359  rows.\n",
      "\t - `` participantId `` has 0 NAs ( 2359 / 2359 ) = 0.00 %\n",
      "\t - `` contact_method `` has 8 NAs ( 2351 / 2359 ) = 0.34 %\n",
      "\t - `` research_experience `` has 4 NAs ( 2355 / 2359 ) = 0.17 %\n",
      "\t - `` two_surveys_perday `` has 8 NAs ( 2351 / 2359 ) = 0.34 %\n",
      "\t - `` blood_sample `` has 6 NAs ( 2353 / 2359 ) = 0.25 %\n",
      "\t - `` taking_medication `` has 7 NAs ( 2352 / 2359 ) = 0.30 %\n",
      "\t - `` family_survey `` has 10 NAs ( 2349 / 2359 ) = 0.42 %\n",
      "\t - `` hospital_stay `` has 11 NAs ( 2348 / 2359 ) = 0.47 %\n",
      "\t - `` timestamp `` has 0 NAs ( 2359 / 2359 ) = 0.00 %\n"
     ]
    }
   ],
   "source": [
    "col_stats(df)"
   ]
  },
  {
   "cell_type": "code",
   "execution_count": 5,
   "outputs": [
    {
     "name": "stdout",
     "output_type": "stream",
     "text": [
      "Shape after dropping duplicate participants: (2192,)\n"
     ]
    }
   ],
   "source": [
    "print(\"Shape after dropping duplicate participants:\", df[\"participantId\"].drop_duplicates().shape)"
   ],
   "metadata": {
    "collapsed": false,
    "pycharm": {
     "name": "#%%\n"
    }
   }
  },
  {
   "cell_type": "code",
   "execution_count": 15,
   "metadata": {
    "pycharm": {
     "name": "#%%\n"
    }
   },
   "outputs": [
    {
     "name": "stdout",
     "output_type": "stream",
     "text": [
      "Shape: (2072, 21)\n"
     ]
    },
    {
     "data": {
      "text/plain": "                             participantId                 timestamp  \\\n2279  00a3be71-6b4c-46c5-9e50-acf2db62f27b 2019-02-05 15:59:17+00:00   \n1120  00c13261-dd38-4730-90c4-beb25ff35822 2016-07-24 16:20:51+00:00   \n431   00d1fe00-fa24-4dcf-a8e8-baafab0cf945 2016-03-10 04:51:42+00:00   \n1185  00dbfe89-8c89-4933-9e84-bb8624787026 2016-03-31 01:13:50+00:00   \n2099  00fd4039-9b5e-4bbb-8295-4983a3f58371 2018-08-17 12:26:52+00:00   \n\n      contact_method=2  contact_method=3  contact_method=4  contact_method=5  \\\n2279                 1                 0                 0                 0   \n1120                 0                 0                 0                 0   \n431                  0                 0                 0                 0   \n1185                 0                 0                 0                 0   \n2099                 1                 0                 0                 0   \n\n      contact_method=6  contact_method=7  contact_method=8  contact_method=9  \\\n2279                 0                 0                 0                 0   \n1120                 0                 0                 0                 0   \n431                  0                 0                 0                 0   \n1185                 0                 0                 0                 0   \n2099                 0                 0                 0                 0   \n\n      ...  two_surveys_perday=2.0  two_surveys_perday=3.0  blood_sample=2.0  \\\n2279  ...                       1                       0                 0   \n1120  ...                       1                       0                 1   \n431   ...                       1                       0                 1   \n1185  ...                       0                       0                 1   \n2099  ...                       1                       0                 1   \n\n      blood_sample=3.0  taking_medication=2.0  taking_medication=3.0  \\\n2279                 1                      1                      0   \n1120                 0                      0                      0   \n431                  0                      1                      0   \n1185                 0                      1                      0   \n2099                 0                      1                      0   \n\n      family_survey=2.0  family_survey=3.0  hospital_stay=2.0  \\\n2279                  0                  1                  1   \n1120                  1                  0                  0   \n431                   1                  0                  0   \n1185                  1                  0                  0   \n2099                  1                  0                  1   \n\n      hospital_stay=3.0  \n2279                  0  \n1120                  0  \n431                   0  \n1185                  0  \n2099                  0  \n\n[5 rows x 21 columns]",
      "text/html": "<div>\n<style scoped>\n    .dataframe tbody tr th:only-of-type {\n        vertical-align: middle;\n    }\n\n    .dataframe tbody tr th {\n        vertical-align: top;\n    }\n\n    .dataframe thead th {\n        text-align: right;\n    }\n</style>\n<table border=\"1\" class=\"dataframe\">\n  <thead>\n    <tr style=\"text-align: right;\">\n      <th></th>\n      <th>participantId</th>\n      <th>timestamp</th>\n      <th>contact_method=2</th>\n      <th>contact_method=3</th>\n      <th>contact_method=4</th>\n      <th>contact_method=5</th>\n      <th>contact_method=6</th>\n      <th>contact_method=7</th>\n      <th>contact_method=8</th>\n      <th>contact_method=9</th>\n      <th>...</th>\n      <th>two_surveys_perday=2.0</th>\n      <th>two_surveys_perday=3.0</th>\n      <th>blood_sample=2.0</th>\n      <th>blood_sample=3.0</th>\n      <th>taking_medication=2.0</th>\n      <th>taking_medication=3.0</th>\n      <th>family_survey=2.0</th>\n      <th>family_survey=3.0</th>\n      <th>hospital_stay=2.0</th>\n      <th>hospital_stay=3.0</th>\n    </tr>\n  </thead>\n  <tbody>\n    <tr>\n      <th>2279</th>\n      <td>00a3be71-6b4c-46c5-9e50-acf2db62f27b</td>\n      <td>2019-02-05 15:59:17+00:00</td>\n      <td>1</td>\n      <td>0</td>\n      <td>0</td>\n      <td>0</td>\n      <td>0</td>\n      <td>0</td>\n      <td>0</td>\n      <td>0</td>\n      <td>...</td>\n      <td>1</td>\n      <td>0</td>\n      <td>0</td>\n      <td>1</td>\n      <td>1</td>\n      <td>0</td>\n      <td>0</td>\n      <td>1</td>\n      <td>1</td>\n      <td>0</td>\n    </tr>\n    <tr>\n      <th>1120</th>\n      <td>00c13261-dd38-4730-90c4-beb25ff35822</td>\n      <td>2016-07-24 16:20:51+00:00</td>\n      <td>0</td>\n      <td>0</td>\n      <td>0</td>\n      <td>0</td>\n      <td>0</td>\n      <td>0</td>\n      <td>0</td>\n      <td>0</td>\n      <td>...</td>\n      <td>1</td>\n      <td>0</td>\n      <td>1</td>\n      <td>0</td>\n      <td>0</td>\n      <td>0</td>\n      <td>1</td>\n      <td>0</td>\n      <td>0</td>\n      <td>0</td>\n    </tr>\n    <tr>\n      <th>431</th>\n      <td>00d1fe00-fa24-4dcf-a8e8-baafab0cf945</td>\n      <td>2016-03-10 04:51:42+00:00</td>\n      <td>0</td>\n      <td>0</td>\n      <td>0</td>\n      <td>0</td>\n      <td>0</td>\n      <td>0</td>\n      <td>0</td>\n      <td>0</td>\n      <td>...</td>\n      <td>1</td>\n      <td>0</td>\n      <td>1</td>\n      <td>0</td>\n      <td>1</td>\n      <td>0</td>\n      <td>1</td>\n      <td>0</td>\n      <td>0</td>\n      <td>0</td>\n    </tr>\n    <tr>\n      <th>1185</th>\n      <td>00dbfe89-8c89-4933-9e84-bb8624787026</td>\n      <td>2016-03-31 01:13:50+00:00</td>\n      <td>0</td>\n      <td>0</td>\n      <td>0</td>\n      <td>0</td>\n      <td>0</td>\n      <td>0</td>\n      <td>0</td>\n      <td>0</td>\n      <td>...</td>\n      <td>0</td>\n      <td>0</td>\n      <td>1</td>\n      <td>0</td>\n      <td>1</td>\n      <td>0</td>\n      <td>1</td>\n      <td>0</td>\n      <td>0</td>\n      <td>0</td>\n    </tr>\n    <tr>\n      <th>2099</th>\n      <td>00fd4039-9b5e-4bbb-8295-4983a3f58371</td>\n      <td>2018-08-17 12:26:52+00:00</td>\n      <td>1</td>\n      <td>0</td>\n      <td>0</td>\n      <td>0</td>\n      <td>0</td>\n      <td>0</td>\n      <td>0</td>\n      <td>0</td>\n      <td>...</td>\n      <td>1</td>\n      <td>0</td>\n      <td>1</td>\n      <td>0</td>\n      <td>1</td>\n      <td>0</td>\n      <td>1</td>\n      <td>0</td>\n      <td>1</td>\n      <td>0</td>\n    </tr>\n  </tbody>\n</table>\n<p>5 rows × 21 columns</p>\n</div>"
     },
     "execution_count": 15,
     "metadata": {},
     "output_type": "execute_result"
    }
   ],
   "source": [
    "# Default Pipeline\n",
    "pipeline = ProcessingPipeline([\n",
    "    ConvertToDatetimeOperator(feature_names=\"timestamp\", format=\"%Y-%m-%dT%H:%M:%S%z\", utc=True),\n",
    "    SortOperator(by=[\"participantId\", \"timestamp\"]),\n",
    "    DropDuplicatesOperator(subset=\"participantId\", keep=\"last\"),\n",
    "    ReplaceOperator(to_replace={\"research_experience\": {3: np.nan}}),\n",
    "    DropNAOperator(subset=['contact_method', 'research_experience',  'two_surveys_perday',\n",
    "                           'blood_sample', 'taking_medication', 'family_survey', 'hospital_stay']),\n",
    "    OneHotEncoderOperator(feature_names=['contact_method', 'research_experience',  'two_surveys_perday',\n",
    "                           'blood_sample', 'taking_medication', 'family_survey', 'hospital_stay'],\n",
    "                           drop_first=True),\n",
    "    ])\n",
    "\n",
    "mypipe = ResearchInterestDataset(shc_folder=\"../../data/sleephealth/\", pipeline=pipeline)\n",
    "df_piped = mypipe.processed_dataframe()\n",
    "print(\"Shape:\", df_piped.shape)\n",
    "df_piped.head()\n",
    "\n",
    "\n"
   ]
  }
 ],
 "metadata": {
  "kernelspec": {
   "name": "pycharm-5bd30262",
   "language": "python",
   "display_name": "PyCharm (tasrif)"
  },
  "language_info": {
   "codemirror_mode": {
    "name": "ipython",
    "version": 3
   },
   "file_extension": ".py",
   "mimetype": "text/x-python",
   "name": "python",
   "nbconvert_exporter": "python",
   "pygments_lexer": "ipython3",
   "version": "3.8.3"
  }
 },
 "nbformat": 4,
 "nbformat_minor": 4
}