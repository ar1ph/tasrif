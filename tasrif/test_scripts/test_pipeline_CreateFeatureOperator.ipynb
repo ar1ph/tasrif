{
 "cells": [
  {
   "cell_type": "code",
   "execution_count": 4,
   "metadata": {},
   "outputs": [
    {
     "name": "stdout",
     "output_type": "stream",
     "text": [
      "   name  work_hours  off_hours\n",
      "0   tom          10          2\n",
      "1  nick          15          2\n",
      "2  juli          14         12\n",
      "[   name  work_hours  off_hours  total_hours\n",
      "0   tom          10          2           12\n",
      "1  nick          15          2           17\n",
      "2  juli          14         12           26]\n"
     ]
    }
   ],
   "source": [
    "import pandas as pd\n",
    "\n",
    "from tasrif.processing_pipeline.custom import CreateFeatureOperator\n",
    "df0 = pd.DataFrame([['tom', 10, 2], ['nick', 15, 2], ['juli', 14, 12]],\n",
    "                    columns=['name', 'work_hours', 'off_hours'])\n",
    "print(df0)\n",
    "operator = CreateFeatureOperator(\n",
    "   feature_name=\"total_hours\",\n",
    "   feature_creator=lambda df: df['work_hours'] + df['off_hours'])\n",
    "df0 = operator.process(df0)\n",
    "print(df0)"
   ]
  },
  {
   "cell_type": "code",
   "execution_count": null,
   "metadata": {},
   "outputs": [],
   "source": []
  },
  {
   "cell_type": "code",
   "execution_count": null,
   "metadata": {},
   "outputs": [],
   "source": []
  }
 ],
 "metadata": {
  "kernelspec": {
   "display_name": "Python 3",
   "language": "python",
   "name": "python3"
  },
  "language_info": {
   "codemirror_mode": {
    "name": "ipython",
    "version": 3
   },
   "file_extension": ".py",
   "mimetype": "text/x-python",
   "name": "python",
   "nbconvert_exporter": "python",
   "pygments_lexer": "ipython3",
   "version": "3.8.5"
  }
 },
 "nbformat": 4,
 "nbformat_minor": 4
}
