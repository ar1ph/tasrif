{
 "cells": [
  {
   "cell_type": "code",
   "execution_count": null,
   "metadata": {},
   "outputs": [],
   "source": [
    "import pandas as pd\n",
    "from tasrif.processing_pipeline.custom import FunctionOperator\n",
    "\n",
    "df0 = pd.DataFrame([['tom', 10, 2], ['nick', 15, 2], ['juli', 14, 12]],\n",
    "                    columns=['name', 'work_hours', 'off_hours'])\n",
    "\n",
    "df1 = pd.DataFrame([['ali', 'Admission', 23], ['tom', 'IT', 35], ['juli', 'Business', 32]],\n",
    "                    columns=['name', 'department', 'age'])\n",
    "\n",
    "print(df0)\n",
    "print(df1)\n",
    "\n",
    "operator = FunctionOperator(function=lambda df0, df1: df0[df0.name.isin(df1.name.values)])\n",
    "combine = operator.process(df0, df1)\n",
    "\n",
    "print()\n",
    "print('Output:')\n",
    "print(combine)"
   ]
  }
 ],
 "metadata": {
  "kernelspec": {
   "display_name": "Python 3",
   "language": "python",
   "name": "python3"
  },
  "language_info": {
   "codemirror_mode": {
    "name": "ipython",
    "version": 3
   },
   "file_extension": ".py",
   "mimetype": "text/x-python",
   "name": "python",
   "nbconvert_exporter": "python",
   "pygments_lexer": "ipython3",
   "version": "3.8.5"
  }
 },
 "nbformat": 4,
 "nbformat_minor": 4
}
