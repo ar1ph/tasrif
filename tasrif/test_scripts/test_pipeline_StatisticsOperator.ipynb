{
 "cells": [
  {
   "cell_type": "code",
   "execution_count": 18,
   "metadata": {
    "ExecuteTime": {
     "end_time": "2021-01-12T18:42:29.322800Z",
     "start_time": "2021-01-12T18:42:29.321037Z"
    }
   },
   "outputs": [
    {
     "name": "stdout",
     "output_type": "stream",
     "text": [
      "The autoreload extension is already loaded. To reload it, use:\n",
      "  %reload_ext autoreload\n"
     ]
    }
   ],
   "source": [
    "%load_ext autoreload\n",
    "%autoreload 2\n"
   ]
  },
  {
   "cell_type": "code",
   "execution_count": 19,
   "metadata": {
    "pycharm": {
     "name": "#%%\n"
    }
   },
   "outputs": [],
   "source": [
    "import pandas as pd\n",
    "from tasrif.processing_pipeline.custom import StatisticsOperator\n",
    "\n",
    "df = pd.DataFrame( [\n",
    "    ['2020-02-20', 1000, 1800, 1], ['2020-02-21', 5000, 2100, 1], ['2020-02-22', 10000, 2400, 1],\n",
    "    ['2020-02-20', 1000, 1800, 1], ['2020-02-21', 5000, 2100, 1], ['2020-02-22', 10000, 2400, 1],\n",
    "    ['2020-02-20', 0, 1600, 2], ['2020-02-21', 4000, 2000, 2], ['2020-02-22', 11000, 2400, 2],\n",
    "    ['2020-02-20', None, 2000, 3], ['2020-02-21', 0, 2700, 3], ['2020-02-22', 15000, 3100, 3]],\n",
    "columns=['Day', 'Steps', 'Calories', 'PersonId'])"
   ]
  },
  {
   "cell_type": "code",
   "execution_count": 20,
   "metadata": {},
   "outputs": [
    {
     "data": {
      "text/plain": [
       "[                   statistic         Day       Steps    Calories    PersonId\n",
       " 0                  row_count          12           9          12          12\n",
       " 1         missing_data_count           0           1           0           0\n",
       " 2       duplicate_rows_count           3           3           3           3\n",
       " 3          participant_count           3           3           3           3\n",
       " 4                   min_date  2020-02-20  2020-02-20  2020-02-20  2020-02-20\n",
       " 5                   max_date  2020-02-22  2020-02-22  2020-02-22  2020-02-22\n",
       " 6                   duration           2           2           2           2\n",
       " 7  mean_days_per_participant           4           3           4           3\n",
       " 8  mean_participants_per_day           3           3           4           4]"
      ]
     },
     "execution_count": 20,
     "metadata": {},
     "output_type": "execute_result"
    }
   ],
   "source": [
    "filter_features = {\n",
    "    'Steps': lambda x : x > 0\n",
    "}\n",
    "\n",
    "sop = StatisticsOperator(participant_identifier='PersonId', date_feature_name='Day', filter_features=filter_features)\n",
    "sop.process(df)"
   ]
  },
  {
   "cell_type": "code",
   "execution_count": null,
   "metadata": {},
   "outputs": [],
   "source": []
  }
 ],
 "metadata": {
  "kernelspec": {
   "display_name": "Python 3",
   "language": "python",
   "name": "python3"
  },
  "language_info": {
   "codemirror_mode": {
    "name": "ipython",
    "version": 3
   },
   "file_extension": ".py",
   "mimetype": "text/x-python",
   "name": "python",
   "nbconvert_exporter": "python",
   "pygments_lexer": "ipython3",
   "version": "3.8.5"
  }
 },
 "nbformat": 4,
 "nbformat_minor": 4
}
