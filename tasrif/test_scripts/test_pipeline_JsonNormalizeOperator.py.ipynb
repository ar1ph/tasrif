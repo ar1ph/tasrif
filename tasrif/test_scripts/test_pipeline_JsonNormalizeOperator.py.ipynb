{
 "cells": [
  {
   "cell_type": "code",
   "execution_count": 12,
   "metadata": {},
   "outputs": [
    {
     "data": {
      "text/html": [
       "<style>\n",
       "div.output_area pre {\n",
       "    white-space: pre;\n",
       "}\n",
       "</style>\n"
      ],
      "text/plain": [
       "<IPython.core.display.HTML object>"
      ]
     },
     "metadata": {},
     "output_type": "display_data"
    }
   ],
   "source": [
    "%%html\n",
    "<style>\n",
    "div.output_area pre {\n",
    "    white-space: pre;\n",
    "}\n",
    "</style>"
   ]
  },
  {
   "cell_type": "code",
   "execution_count": 16,
   "metadata": {},
   "outputs": [],
   "source": [
    "from tasrif.processing_pipeline.pandas import JsonNormalizeOperator\n",
    "data = [\n",
    "    {\n",
    "        \"date\": \"2019-05-02\",\n",
    "        \"main_sleep\": True,\n",
    "        \"data\": {\n",
    "            \"total_sleep\": 365,\n",
    "            \"time_series\": [{\n",
    "                  \"dateTime\" : \"2019-05-02T00:18:00.000\",\n",
    "                  \"level\" : \"light\",\n",
    "                  \"seconds\" : 2130\n",
    "                },{\n",
    "                  \"dateTime\" : \"2019-05-02T00:53:30.000\",\n",
    "                  \"level\" : \"deep\",\n",
    "                  \"seconds\" : 540\n",
    "                },{\n",
    "                  \"dateTime\" : \"2019-05-02T01:02:30.000\",\n",
    "                  \"level\" : \"light\",\n",
    "                  \"seconds\" : 870\n",
    "                },{\n",
    "                  \"dateTime\" : \"2019-05-02T01:17:00.000\",\n",
    "                  \"level\" : \"rem\",\n",
    "                  \"seconds\" : 660\n",
    "                },{\n",
    "                  \"dateTime\" : \"2019-05-02T01:28:00.000\",\n",
    "                  \"level\" : \"light\",\n",
    "                  \"seconds\" : 1230\n",
    "                },{\n",
    "                  \"dateTime\" : \"2019-05-02T01:48:30.000\",\n",
    "                  \"level\" : \"wake\",\n",
    "                  \"seconds\" : 210\n",
    "                }]\n",
    "            }\n",
    "    },\n",
    "    {\n",
    "        \"date\": \"2019-04-29\",\n",
    "        \"main_sleep\": True,\n",
    "        \"data\": {\n",
    "              \"total_sleep\": 456,\n",
    "              \"time_series\": [{\n",
    "              \"dateTime\" : \"2019-04-29T23:46:00.000\",\n",
    "              \"level\" : \"wake\",\n",
    "              \"seconds\" : 300\n",
    "            },{\n",
    "              \"dateTime\" : \"2019-04-29T23:51:00.000\",\n",
    "              \"level\" : \"light\",\n",
    "              \"seconds\" : 660\n",
    "            },{\n",
    "              \"dateTime\" : \"2019-04-30T00:02:00.000\",\n",
    "              \"level\" : \"deep\",\n",
    "              \"seconds\" : 450\n",
    "            },{\n",
    "              \"dateTime\" : \"2019-04-30T00:09:30.000\",\n",
    "              \"level\" : \"light\",\n",
    "              \"seconds\" : 2070\n",
    "            }]\n",
    "        }\n",
    "    }\n",
    "]\n",
    "\n",
    "op = JsonNormalizeOperator(record_path=['data', 'time_series'], meta=['date', 'main_sleep', ['data', 'total_sleep']])\n",
    "\n",
    "df = op.process(data)"
   ]
  },
  {
   "cell_type": "code",
   "execution_count": 17,
   "metadata": {},
   "outputs": [
    {
     "data": {
      "text/plain": [
       "[                  dateTime  level  seconds        date main_sleep  \\\n",
       " 0  2019-05-02T00:18:00.000  light     2130  2019-05-02       True   \n",
       " 1  2019-05-02T00:53:30.000   deep      540  2019-05-02       True   \n",
       " 2  2019-05-02T01:02:30.000  light      870  2019-05-02       True   \n",
       " 3  2019-05-02T01:17:00.000    rem      660  2019-05-02       True   \n",
       " 4  2019-05-02T01:28:00.000  light     1230  2019-05-02       True   \n",
       " 5  2019-05-02T01:48:30.000   wake      210  2019-05-02       True   \n",
       " 6  2019-04-29T23:46:00.000   wake      300  2019-04-29       True   \n",
       " 7  2019-04-29T23:51:00.000  light      660  2019-04-29       True   \n",
       " 8  2019-04-30T00:02:00.000   deep      450  2019-04-29       True   \n",
       " 9  2019-04-30T00:09:30.000  light     2070  2019-04-29       True   \n",
       " \n",
       "   data.total_sleep  \n",
       " 0              365  \n",
       " 1              365  \n",
       " 2              365  \n",
       " 3              365  \n",
       " 4              365  \n",
       " 5              365  \n",
       " 6              456  \n",
       " 7              456  \n",
       " 8              456  \n",
       " 9              456  ]"
      ]
     },
     "execution_count": 17,
     "metadata": {},
     "output_type": "execute_result"
    }
   ],
   "source": [
    "df"
   ]
  },
  {
   "cell_type": "code",
   "execution_count": null,
   "metadata": {},
   "outputs": [],
   "source": []
  }
 ],
 "metadata": {
  "kernelspec": {
   "display_name": "Python 3",
   "language": "python",
   "name": "python3"
  },
  "language_info": {
   "codemirror_mode": {
    "name": "ipython",
    "version": 3
   },
   "file_extension": ".py",
   "mimetype": "text/x-python",
   "name": "python",
   "nbconvert_exporter": "python",
   "pygments_lexer": "ipython3",
   "version": "3.9.2"
  }
 },
 "nbformat": 4,
 "nbformat_minor": 4
}
