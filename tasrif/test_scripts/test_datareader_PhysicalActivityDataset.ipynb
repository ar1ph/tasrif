{
 "cells": [
  {
   "cell_type": "code",
   "execution_count": 1,
   "id": "given-eugene",
   "metadata": {
    "scrolled": false
   },
   "outputs": [],
   "source": [
    "import pandas as pd\n",
    "import numpy as np\n",
    "import pathlib\n",
    "import datetime\n",
    "from tasrif.data_readers.fitbit_intraday_dataset import \\\n",
    "    FitbitPhysicalActivityCaloriesDataset, \\\n",
    "    FitbitPhysicalActivityDistanceDataset, \\\n",
    "    FitbitPhysicalActivityHeartRateDataset,\\\n",
    "    FitbitPhysicalActivityVeryActiveMinutesDataset,\\\n",
    "    FitbitPhysicalActivityLightlyActiveMinutesDataset,\\\n",
    "    FitbitPhysicalActivitySedentaryMinutesDataset,\\\n",
    "    FitbitPhysicalActivityModeratelyActiveMinutesDataset,\\\n",
    "    FitbitPhysicalActivityTimeInHeartRateZonesDataset,\\\n",
    "    FitbitPhysicalActivityStepsDataset,\\\n",
    "    FitbitIntradayCompositeDataset"
   ]
  },
  {
   "cell_type": "code",
   "execution_count": null,
   "id": "completed-prevention",
   "metadata": {},
   "outputs": [],
   "source": [
    "ds = FitbitPhysicalActivityCaloriesDataset(folder='/home/ummar/Downloads/Data/VolunteerFitbitData-1March21/FahimDalvi/')\n",
    "\n",
    "df1 = ds.processed_dataframe()"
   ]
  },
  {
   "cell_type": "code",
   "execution_count": null,
   "id": "bigger-numbers",
   "metadata": {},
   "outputs": [],
   "source": [
    "df1"
   ]
  },
  {
   "cell_type": "code",
   "execution_count": null,
   "id": "received-hurricane",
   "metadata": {},
   "outputs": [],
   "source": [
    "ds = FitbitPhysicalActivityDistanceDataset(folder='/home/ummar/Downloads/Data/VolunteerFitbitData-1March21/FahimDalvi/')\n",
    "\n",
    "df2 = ds.processed_dataframe()"
   ]
  },
  {
   "cell_type": "code",
   "execution_count": null,
   "id": "shaped-blocking",
   "metadata": {},
   "outputs": [],
   "source": [
    "df2"
   ]
  },
  {
   "cell_type": "code",
   "execution_count": null,
   "id": "southeast-worcester",
   "metadata": {},
   "outputs": [],
   "source": [
    "ds = FitbitPhysicalActivityHeartRateDataset(folder='/home/ummar/Downloads/Data/VolunteerFitbitData-1March21/FahimDalvi/')\n",
    "df3 = ds.processed_dataframe()"
   ]
  },
  {
   "cell_type": "code",
   "execution_count": null,
   "id": "driving-garage",
   "metadata": {},
   "outputs": [],
   "source": [
    "ds = FitbitPhysicalActivityVeryActiveMinutesDataset(folder='/home/ummar/Downloads/Data/VolunteerFitbitData-1March21/FahimDalvi/')\n",
    "df4 = ds.processed_dataframe()\n",
    "df4"
   ]
  },
  {
   "cell_type": "code",
   "execution_count": null,
   "id": "confused-separate",
   "metadata": {},
   "outputs": [],
   "source": [
    "ds = FitbitPhysicalActivityLightlyActiveMinutesDataset(folder='/home/ummar/Downloads/Data/VolunteerFitbitData-1March21/FahimDalvi/')\n",
    "df5 = ds.processed_dataframe()\n",
    "df5"
   ]
  },
  {
   "cell_type": "code",
   "execution_count": null,
   "id": "mexican-diversity",
   "metadata": {},
   "outputs": [],
   "source": [
    "ds = FitbitPhysicalActivitySedentaryMinutesDataset(folder='/home/ummar/Downloads/Data/VolunteerFitbitData-1March21/FahimDalvi/')\n",
    "df6 = ds.processed_dataframe()\n",
    "df6"
   ]
  },
  {
   "cell_type": "code",
   "execution_count": null,
   "id": "referenced-thinking",
   "metadata": {},
   "outputs": [],
   "source": [
    "ds = FitbitPhysicalActivityModeratelyActiveMinutesDataset(folder='/home/ummar/Downloads/Data/VolunteerFitbitData-1March21/FahimDalvi/')\n",
    "df7 = ds.processed_dataframe()\n",
    "df7"
   ]
  },
  {
   "cell_type": "code",
   "execution_count": null,
   "id": "elementary-brazilian",
   "metadata": {},
   "outputs": [],
   "source": [
    "ds = FitbitPhysicalActivityTimeInHeartRateZonesDataset(folder='/home/ummar/Downloads/Data/VolunteerFitbitData-1March21/FahimDalvi/')\n",
    "df8 = ds.processed_dataframe()\n",
    "df8"
   ]
  },
  {
   "cell_type": "code",
   "execution_count": 2,
   "id": "informational-ordinance",
   "metadata": {},
   "outputs": [
    {
     "name": "stderr",
     "output_type": "stream",
     "text": [
      "/home/ummar/code/tasrif/tasrif/processing_pipeline/custom/distributed_upsample_operator.py:46: SettingWithCopyWarning: \n",
      "A value is trying to be set on a copy of a slice from a DataFrame.\n",
      "Try using .loc[row_indexer,col_indexer] = value instead\n",
      "\n",
      "See the caveats in the documentation: https://pandas.pydata.org/pandas-docs/stable/user_guide/indexing.html#returning-a-view-versus-a-copy\n",
      "  df['group'] = df.index\n",
      "/home/ummar/code/tasrif/tasrif/processing_pipeline/custom/distributed_upsample_operator.py:47: SettingWithCopyWarning: \n",
      "A value is trying to be set on a copy of a slice from a DataFrame.\n",
      "Try using .loc[row_indexer,col_indexer] = value instead\n",
      "\n",
      "See the caveats in the documentation: https://pandas.pydata.org/pandas-docs/stable/user_guide/indexing.html#returning-a-view-versus-a-copy\n",
      "  df['count'] = df.resample(freq).ffill()['group'].value_counts()\n"
     ]
    }
   ],
   "source": [
    "ds = FitbitPhysicalActivityStepsDataset(folder='/home/ummar/Downloads/Data/VolunteerFitbitData-1March21/FahimDalvi/')\n",
    "df9 = ds.processed_dataframe()"
   ]
  },
  {
   "cell_type": "code",
   "execution_count": 3,
   "id": "corporate-norwegian",
   "metadata": {},
   "outputs": [
    {
     "data": {
      "text/html": [
       "<div>\n",
       "<style scoped>\n",
       "    .dataframe tbody tr th:only-of-type {\n",
       "        vertical-align: middle;\n",
       "    }\n",
       "\n",
       "    .dataframe tbody tr th {\n",
       "        vertical-align: top;\n",
       "    }\n",
       "\n",
       "    .dataframe thead th {\n",
       "        text-align: right;\n",
       "    }\n",
       "</style>\n",
       "<table border=\"1\" class=\"dataframe\">\n",
       "  <thead>\n",
       "    <tr style=\"text-align: right;\">\n",
       "      <th></th>\n",
       "      <th>value</th>\n",
       "    </tr>\n",
       "    <tr>\n",
       "      <th>dateTime</th>\n",
       "      <th></th>\n",
       "    </tr>\n",
       "  </thead>\n",
       "  <tbody>\n",
       "    <tr>\n",
       "      <th>2019-03-04 18:59:00</th>\n",
       "      <td>0.0</td>\n",
       "    </tr>\n",
       "    <tr>\n",
       "      <th>2019-03-04 18:59:30</th>\n",
       "      <td>0.0</td>\n",
       "    </tr>\n",
       "    <tr>\n",
       "      <th>2019-03-04 19:00:00</th>\n",
       "      <td>0.0</td>\n",
       "    </tr>\n",
       "    <tr>\n",
       "      <th>2019-03-04 19:00:30</th>\n",
       "      <td>0.0</td>\n",
       "    </tr>\n",
       "    <tr>\n",
       "      <th>2019-03-04 19:01:00</th>\n",
       "      <td>0.0</td>\n",
       "    </tr>\n",
       "    <tr>\n",
       "      <th>...</th>\n",
       "      <td>...</td>\n",
       "    </tr>\n",
       "    <tr>\n",
       "      <th>2019-12-12 12:50:00</th>\n",
       "      <td>0.0</td>\n",
       "    </tr>\n",
       "    <tr>\n",
       "      <th>2019-12-12 12:50:30</th>\n",
       "      <td>0.0</td>\n",
       "    </tr>\n",
       "    <tr>\n",
       "      <th>2019-12-12 12:51:00</th>\n",
       "      <td>0.0</td>\n",
       "    </tr>\n",
       "    <tr>\n",
       "      <th>2019-12-12 12:51:30</th>\n",
       "      <td>0.0</td>\n",
       "    </tr>\n",
       "    <tr>\n",
       "      <th>2019-12-12 12:52:00</th>\n",
       "      <td>0.0</td>\n",
       "    </tr>\n",
       "  </tbody>\n",
       "</table>\n",
       "<p>814307 rows × 1 columns</p>\n",
       "</div>"
      ],
      "text/plain": [
       "                     value\n",
       "dateTime                  \n",
       "2019-03-04 18:59:00    0.0\n",
       "2019-03-04 18:59:30    0.0\n",
       "2019-03-04 19:00:00    0.0\n",
       "2019-03-04 19:00:30    0.0\n",
       "2019-03-04 19:01:00    0.0\n",
       "...                    ...\n",
       "2019-12-12 12:50:00    0.0\n",
       "2019-12-12 12:50:30    0.0\n",
       "2019-12-12 12:51:00    0.0\n",
       "2019-12-12 12:51:30    0.0\n",
       "2019-12-12 12:52:00    0.0\n",
       "\n",
       "[814307 rows x 1 columns]"
      ]
     },
     "execution_count": 3,
     "metadata": {},
     "output_type": "execute_result"
    }
   ],
   "source": [
    "df9"
   ]
  },
  {
   "cell_type": "code",
   "execution_count": null,
   "id": "reported-musical",
   "metadata": {},
   "outputs": [],
   "source": [
    "df1.merge(df2, how=\"outer\", on=\"dateTime\", suffixes=['_calories', '_distance'])"
   ]
  },
  {
   "cell_type": "code",
   "execution_count": null,
   "id": "bigger-boating",
   "metadata": {},
   "outputs": [],
   "source": [
    "from tasrif.data_readers.fitbit_intraday_dataset import FitbitSleepDataset"
   ]
  },
  {
   "cell_type": "code",
   "execution_count": null,
   "id": "diverse-institute",
   "metadata": {},
   "outputs": [],
   "source": [
    "ds = FitbitSleepDataset(folder='/home/ummar/Downloads/Data/VolunteerFitbitData-1March21/FahimDalvi/')"
   ]
  },
  {
   "cell_type": "code",
   "execution_count": null,
   "id": "boxed-stake",
   "metadata": {},
   "outputs": [],
   "source": [
    "df10 = ds.processed_dataframe()"
   ]
  },
  {
   "cell_type": "code",
   "execution_count": null,
   "id": "formal-sequence",
   "metadata": {},
   "outputs": [],
   "source": [
    "df10"
   ]
  }
 ],
 "metadata": {
  "kernelspec": {
   "display_name": "Python 3",
   "language": "python",
   "name": "python3"
  },
  "language_info": {
   "codemirror_mode": {
    "name": "ipython",
    "version": 3
   },
   "file_extension": ".py",
   "mimetype": "text/x-python",
   "name": "python",
   "nbconvert_exporter": "python",
   "pygments_lexer": "ipython3",
   "version": "3.9.2"
  }
 },
 "nbformat": 4,
 "nbformat_minor": 5
}
