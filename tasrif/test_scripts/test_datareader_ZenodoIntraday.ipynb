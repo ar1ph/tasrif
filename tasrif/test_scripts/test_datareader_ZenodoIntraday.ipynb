{
 "cells": [
  {
   "cell_type": "code",
   "execution_count": null,
   "metadata": {},
   "outputs": [],
   "source": [
    "import pandas as pd\n",
    "\n",
    "import numpy as np\n",
    "import pathlib\n",
    "import datetime\n",
    "from tasrif.data_readers.zenodo_fitbit_dataset import (\n",
    "    ZenodoFitbitIntradayCaloriesDataset,\n",
    "    ZenodoFitbitIntradayIntensitiesDataset,\n",
    "    ZenodoFitbitIntradayMETsDataset,\n",
    "    ZenodoFitbitIntradayStepsDataset,\n",
    ")\n",
    "\n",
    "zenodo_folder = 'E:/Development/sleep'\n",
    "zcd = ZenodoFitbitIntradayCaloriesDataset(zenodo_folder=zenodo_folder)\n",
    "print(zcd.processed_dataframe())\n",
    "print(zcd.grouped_dataframe())"
   ]
  },
  {
   "cell_type": "code",
   "execution_count": null,
   "metadata": {},
   "outputs": [],
   "source": [
    "zid = ZenodoFitbitIntradayIntensitiesDataset(zenodo_folder=zenodo_folder)\n",
    "print(zid.processed_dataframe())\n",
    "print(zid.grouped_dataframe())"
   ]
  },
  {
   "cell_type": "code",
   "execution_count": null,
   "metadata": {},
   "outputs": [],
   "source": [
    "zmetd = ZenodoFitbitIntradayMETsDataset(zenodo_folder=zenodo_folder)\n",
    "print(zmetd.processed_dataframe())\n",
    "print(zmetd.grouped_dataframe())"
   ]
  },
  {
   "cell_type": "code",
   "execution_count": null,
   "metadata": {},
   "outputs": [],
   "source": [
    "zsd = ZenodoFitbitIntradayStepsDataset(zenodo_folder=zenodo_folder)\n",
    "print(zsd.processed_dataframe())\n",
    "print(zsd.grouped_dataframe())"
   ]
  }
 ],
 "metadata": {
  "kernelspec": {
   "display_name": "Python 3",
   "language": "python",
   "name": "python3"
  },
  "language_info": {
   "codemirror_mode": {
    "name": "ipython",
    "version": 3
   },
   "file_extension": ".py",
   "mimetype": "text/x-python",
   "name": "python",
   "nbconvert_exporter": "python",
   "pygments_lexer": "ipython3",
   "version": "3.8.8"
  }
 },
 "nbformat": 4,
 "nbformat_minor": 4
}
