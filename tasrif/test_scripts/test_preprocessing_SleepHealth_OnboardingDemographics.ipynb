{
 "cells": [
  {
   "cell_type": "code",
   "execution_count": 62,
   "metadata": {
    "ExecuteTime": {
     "end_time": "2021-01-12T18:42:29.322800Z",
     "start_time": "2021-01-12T18:42:29.321037Z"
    }
   },
   "outputs": [
    {
     "name": "stdout",
     "output_type": "stream",
     "text": [
      "The autoreload extension is already loaded. To reload it, use:\n",
      "  %reload_ext autoreload\n"
     ]
    }
   ],
   "source": [
    "%load_ext autoreload\n",
    "%autoreload 2\n",
    "from tasrif.processing_pipeline import ProcessingPipeline\n",
    "from tasrif.processing_pipeline.pandas import ReplaceOperator, DropNAOperator\n",
    "from tasrif.data_readers.sleep_health import OnboardingDemographicsDataset\n",
    "import pandas as pd\n",
    "import numpy as np"
   ]
  },
  {
   "cell_type": "code",
   "execution_count": 63,
   "metadata": {
    "ExecuteTime": {
     "end_time": "2021-01-12T18:42:41.525740Z",
     "start_time": "2021-01-12T18:42:41.512641Z"
    }
   },
   "outputs": [
    {
     "name": "stdout",
     "output_type": "stream",
     "text": [
      "Shape: (8130, 6)\n"
     ]
    }
   ],
   "source": [
    "# Full AboutMeDataset\n",
    "obd = OnboardingDemographicsDataset(shc_folder=\"../../data/sleephealth/\", pipeline=None)\n",
    "df = obd.raw_df.copy()\n",
    "print(\"Shape:\", df.shape)"
   ]
  },
  {
   "cell_type": "code",
   "execution_count": 57,
   "outputs": [
    {
     "name": "stdout",
     "output_type": "stream",
     "text": [
      "# NA rows for col participantId: 0 (0.00%)\n",
      "# NA rows for col weight_pounds: 0 (0.00%)\n",
      "# NA rows for col gender: 89 (1.09%)\n",
      "# NA rows for col height_inches: 0 (0.00%)\n",
      "# NA rows for col age_years: 54 (0.66%)\n",
      "# NA rows for col timestamp: 0 (0.00%)\n"
     ]
    }
   ],
   "source": [
    "for key in df:\n",
    "    nas = df[key].isna().sum()\n",
    "    print(\"# NA rows for col %s: %d (%.2f%%)\" % (key, nas, 100.*nas/df.shape[0]))"
   ],
   "metadata": {
    "collapsed": false,
    "pycharm": {
     "name": "#%%\n"
    }
   }
  },
  {
   "cell_type": "code",
   "execution_count": 59,
   "outputs": [
    {
     "data": {
      "text/plain": "Empty DataFrame\nColumns: [participantId, weight_pounds, gender, height_inches, age_years, timestamp]\nIndex: []",
      "text/html": "<div>\n<style scoped>\n    .dataframe tbody tr th:only-of-type {\n        vertical-align: middle;\n    }\n\n    .dataframe tbody tr th {\n        vertical-align: top;\n    }\n\n    .dataframe thead th {\n        text-align: right;\n    }\n</style>\n<table border=\"1\" class=\"dataframe\">\n  <thead>\n    <tr style=\"text-align: right;\">\n      <th></th>\n      <th>participantId</th>\n      <th>weight_pounds</th>\n      <th>gender</th>\n      <th>height_inches</th>\n      <th>age_years</th>\n      <th>timestamp</th>\n    </tr>\n  </thead>\n  <tbody>\n  </tbody>\n</table>\n</div>"
     },
     "execution_count": 59,
     "metadata": {},
     "output_type": "execute_result"
    }
   ],
   "source": [
    "# Analysis to either drop or not censored data\n",
    "df[df[\"weight_pounds\"] == \"CENSORED\"] # 431 (5.3%)\n",
    "df[df[\"height_inches\"] == \"CENSORED\"] # 337 (4.1%)\n",
    "df[(df[\"height_inches\"] == \"CENSORED\") & (df[\"weight_pounds\"] == \"CENSORED\")] # 254 (3.1%)\n",
    "df[(df[\"height_inches\"] == \"CENSORED\") | (df[\"weight_pounds\"] == \"CENSORED\")] # 514 (6.3%)"
   ],
   "metadata": {
    "collapsed": false,
    "pycharm": {
     "name": "#%%\n"
    }
   }
  },
  {
   "cell_type": "code",
   "execution_count": 60,
   "outputs": [
    {
     "data": {
      "text/plain": "                             participantId weight_pounds  gender  \\\n0     3d6c0442-9150-4974-8257-3a94461c8790         190.0    Male   \n1     a12e2ca0-2cf4-498f-a51d-1644630511ec         177.0  Female   \n2     f63a6a72-88c1-4b49-9326-578f33ed8e9a         190.0    Male   \n3     00a347ef-8bac-4b44-8820-338fd910d4e0         150.0    Male   \n4     f3f37736-a61f-414e-903a-9de0d92d1ded         136.0    Male   \n...                                    ...           ...     ...   \n8125  e47e109a-235c-4dd9-b876-f98ca198c967         266.0  Female   \n8126  a5fa37f1-de3c-41bd-9324-c31c5244e5c8         270.0    Male   \n8127  35610eab-f496-477a-a8d5-d24f3af82726         165.0    Male   \n8128  e47e109a-235c-4dd9-b876-f98ca198c967         266.0  Female   \n8129  d5d4940d-a826-44ab-a6a1-69fccbe1f80e         255.0    Male   \n\n     height_inches  age_years                  timestamp  \n0             75.0       27.0  2016-07-21T14:44:06-07:00  \n1             64.0       19.0  2016-07-21T20:29:50-04:00  \n2             70.0       51.0  2016-03-10T10:34:55-06:00  \n3             71.0       34.0  2016-03-04T08:15:23-08:00  \n4             68.0       19.0  2016-04-02T11:50:39-06:00  \n...            ...        ...                        ...  \n8125          64.0       35.0  2019-06-23T21:34:28-04:00  \n8126          70.0       47.0  2019-06-23T21:35:10-05:00  \n8127          72.0       18.0  2019-06-24T23:41:50-04:00  \n8128          64.0       35.0  2019-06-25T16:31:33-04:00  \n8129          65.0       44.0  2019-06-26T08:01:47-04:00  \n\n[7558 rows x 6 columns]",
      "text/html": "<div>\n<style scoped>\n    .dataframe tbody tr th:only-of-type {\n        vertical-align: middle;\n    }\n\n    .dataframe tbody tr th {\n        vertical-align: top;\n    }\n\n    .dataframe thead th {\n        text-align: right;\n    }\n</style>\n<table border=\"1\" class=\"dataframe\">\n  <thead>\n    <tr style=\"text-align: right;\">\n      <th></th>\n      <th>participantId</th>\n      <th>weight_pounds</th>\n      <th>gender</th>\n      <th>height_inches</th>\n      <th>age_years</th>\n      <th>timestamp</th>\n    </tr>\n  </thead>\n  <tbody>\n    <tr>\n      <th>0</th>\n      <td>3d6c0442-9150-4974-8257-3a94461c8790</td>\n      <td>190.0</td>\n      <td>Male</td>\n      <td>75.0</td>\n      <td>27.0</td>\n      <td>2016-07-21T14:44:06-07:00</td>\n    </tr>\n    <tr>\n      <th>1</th>\n      <td>a12e2ca0-2cf4-498f-a51d-1644630511ec</td>\n      <td>177.0</td>\n      <td>Female</td>\n      <td>64.0</td>\n      <td>19.0</td>\n      <td>2016-07-21T20:29:50-04:00</td>\n    </tr>\n    <tr>\n      <th>2</th>\n      <td>f63a6a72-88c1-4b49-9326-578f33ed8e9a</td>\n      <td>190.0</td>\n      <td>Male</td>\n      <td>70.0</td>\n      <td>51.0</td>\n      <td>2016-03-10T10:34:55-06:00</td>\n    </tr>\n    <tr>\n      <th>3</th>\n      <td>00a347ef-8bac-4b44-8820-338fd910d4e0</td>\n      <td>150.0</td>\n      <td>Male</td>\n      <td>71.0</td>\n      <td>34.0</td>\n      <td>2016-03-04T08:15:23-08:00</td>\n    </tr>\n    <tr>\n      <th>4</th>\n      <td>f3f37736-a61f-414e-903a-9de0d92d1ded</td>\n      <td>136.0</td>\n      <td>Male</td>\n      <td>68.0</td>\n      <td>19.0</td>\n      <td>2016-04-02T11:50:39-06:00</td>\n    </tr>\n    <tr>\n      <th>...</th>\n      <td>...</td>\n      <td>...</td>\n      <td>...</td>\n      <td>...</td>\n      <td>...</td>\n      <td>...</td>\n    </tr>\n    <tr>\n      <th>8125</th>\n      <td>e47e109a-235c-4dd9-b876-f98ca198c967</td>\n      <td>266.0</td>\n      <td>Female</td>\n      <td>64.0</td>\n      <td>35.0</td>\n      <td>2019-06-23T21:34:28-04:00</td>\n    </tr>\n    <tr>\n      <th>8126</th>\n      <td>a5fa37f1-de3c-41bd-9324-c31c5244e5c8</td>\n      <td>270.0</td>\n      <td>Male</td>\n      <td>70.0</td>\n      <td>47.0</td>\n      <td>2019-06-23T21:35:10-05:00</td>\n    </tr>\n    <tr>\n      <th>8127</th>\n      <td>35610eab-f496-477a-a8d5-d24f3af82726</td>\n      <td>165.0</td>\n      <td>Male</td>\n      <td>72.0</td>\n      <td>18.0</td>\n      <td>2019-06-24T23:41:50-04:00</td>\n    </tr>\n    <tr>\n      <th>8128</th>\n      <td>e47e109a-235c-4dd9-b876-f98ca198c967</td>\n      <td>266.0</td>\n      <td>Female</td>\n      <td>64.0</td>\n      <td>35.0</td>\n      <td>2019-06-25T16:31:33-04:00</td>\n    </tr>\n    <tr>\n      <th>8129</th>\n      <td>d5d4940d-a826-44ab-a6a1-69fccbe1f80e</td>\n      <td>255.0</td>\n      <td>Male</td>\n      <td>65.0</td>\n      <td>44.0</td>\n      <td>2019-06-26T08:01:47-04:00</td>\n    </tr>\n  </tbody>\n</table>\n<p>7558 rows × 6 columns</p>\n</div>"
     },
     "execution_count": 60,
     "metadata": {},
     "output_type": "execute_result"
    }
   ],
   "source": [
    "pipeline = ProcessingPipeline([\n",
    "    ReplaceOperator(to_replace=\"CENSORED\", value=np.nan),\n",
    "    DropNAOperator()\n",
    "    ])\n",
    "\n",
    "obd = OnboardingDemographicsDataset(shc_folder=\"../../data/sleephealth/\", pipeline=pipeline)\n",
    "df = obd.processed_dataframe()\n",
    "df\n",
    "\n"
   ],
   "metadata": {
    "collapsed": false,
    "pycharm": {
     "name": "#%%\n"
    }
   }
  }
 ],
 "metadata": {
  "kernelspec": {
   "name": "python3",
   "language": "python",
   "display_name": "Python 3"
  },
  "language_info": {
   "codemirror_mode": {
    "name": "ipython",
    "version": 3
   },
   "file_extension": ".py",
   "mimetype": "text/x-python",
   "name": "python",
   "nbconvert_exporter": "python",
   "pygments_lexer": "ipython3",
   "version": "3.8.3"
  }
 },
 "nbformat": 4,
 "nbformat_minor": 4
}
