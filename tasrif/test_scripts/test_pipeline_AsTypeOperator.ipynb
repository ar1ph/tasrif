{
 "cells": [
  {
   "cell_type": "code",
   "execution_count": 3,
   "metadata": {},
   "outputs": [
    {
     "data": {
      "text/plain": [
       "logId           int64\n",
       "timestamp      object\n",
       "sleep_level    object\n",
       "awake_count    object\n",
       "dtype: object"
      ]
     },
     "execution_count": 3,
     "metadata": {},
     "output_type": "execute_result"
    }
   ],
   "source": [
    "import pandas as pd\n",
    "from tasrif.processing_pipeline.pandas import AsTypeOperator\n",
    "df = pd.DataFrame([\n",
    "    [1, \"2020-05-01 00:00:00\", \"1\", \"3\"],\n",
    "    [1, \"2020-05-01 01:00:00\", \"1\", \"5\" ], \n",
    "    [1, \"2020-05-01 03:00:00\", \"2\", \"3\"], \n",
    "    [2, \"2020-05-02 00:00:00\", \"1\", \"10\"],\n",
    "    [2, \"2020-05-02 01:00:00\", \"1\", \"0\"]],\n",
    "    columns=['logId', 'timestamp', 'sleep_level', 'awake_count'])\n",
    "\n",
    "df.dtypes"
   ]
  },
  {
   "cell_type": "code",
   "execution_count": 5,
   "metadata": {},
   "outputs": [
    {
     "data": {
      "text/plain": [
       "logId            int64\n",
       "timestamp       object\n",
       "sleep_level      int32\n",
       "awake_count    float32\n",
       "dtype: object"
      ]
     },
     "execution_count": 5,
     "metadata": {},
     "output_type": "execute_result"
    }
   ],
   "source": [
    "op = AsTypeOperator({'sleep_level': 'int32', 'awake_count' : 'float32'})\n",
    "df1 = op.process(df)\n",
    "df1[0].dtypes"
   ]
  },
  {
   "cell_type": "code",
   "execution_count": null,
   "metadata": {},
   "outputs": [],
   "source": []
  }
 ],
 "metadata": {
  "kernelspec": {
   "display_name": "Python 3",
   "language": "python",
   "name": "python3"
  },
  "language_info": {
   "codemirror_mode": {
    "name": "ipython",
    "version": 3
   },
   "file_extension": ".py",
   "mimetype": "text/x-python",
   "name": "python",
   "nbconvert_exporter": "python",
   "pygments_lexer": "ipython3",
   "version": "3.9.2"
  }
 },
 "nbformat": 4,
 "nbformat_minor": 4
}
