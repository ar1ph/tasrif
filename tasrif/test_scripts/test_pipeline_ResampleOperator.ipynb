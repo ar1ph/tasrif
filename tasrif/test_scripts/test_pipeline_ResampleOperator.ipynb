{
 "cells": [
  {
   "cell_type": "code",
   "execution_count": 14,
   "metadata": {},
   "outputs": [
    {
     "data": {
      "text/plain": [
       "[            sleep_level\n",
       " timestamp              \n",
       " 2020-05-01     1.333333\n",
       " 2020-05-02     1.000000]"
      ]
     },
     "execution_count": 14,
     "metadata": {},
     "output_type": "execute_result"
    }
   ],
   "source": [
    "import pandas as pd\n",
    "from tasrif.processing_pipeline.custom import ResampleOperator\n",
    "df = pd.DataFrame([\n",
    "    [1, \"2020-05-01 00:00:00\", 1],\n",
    "    [1, \"2020-05-01 01:00:00\", 1], \n",
    "    [1, \"2020-05-01 03:00:00\", 2], \n",
    "    [2, \"2020-05-02 00:00:00\", 1],\n",
    "    [2, \"2020-05-02 01:00:00\", 1]],\n",
    "    columns=['logId', 'timestamp', 'sleep_level'])\n",
    "\n",
    "df['timestamp'] = pd.to_datetime(df['timestamp'])\n",
    "df = df.set_index('timestamp')\n",
    "op = ResampleOperator('D', {'sleep_level': 'mean'})\n",
    "op.process(df)"
   ]
  },
  {
   "cell_type": "code",
   "execution_count": null,
   "metadata": {},
   "outputs": [],
   "source": []
  }
 ],
 "metadata": {
  "kernelspec": {
   "display_name": "Python 3",
   "language": "python",
   "name": "python3"
  },
  "language_info": {
   "codemirror_mode": {
    "name": "ipython",
    "version": 3
   },
   "file_extension": ".py",
   "mimetype": "text/x-python",
   "name": "python",
   "nbconvert_exporter": "python",
   "pygments_lexer": "ipython3",
   "version": "3.9.2"
  }
 },
 "nbformat": 4,
 "nbformat_minor": 4
}
