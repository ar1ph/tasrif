{
 "cells": [
  {
   "cell_type": "code",
   "execution_count": 3,
   "metadata": {
    "ExecuteTime": {
     "end_time": "2021-02-28T12:09:56.778445Z",
     "start_time": "2021-02-28T12:09:56.760220Z"
    }
   },
   "outputs": [
    {
     "name": "stdout",
     "output_type": "stream",
     "text": [
      "The autoreload extension is already loaded. To reload it, use:\n",
      "  %reload_ext autoreload\n"
     ]
    }
   ],
   "source": [
    "%load_ext autoreload\n",
    "%autoreload 2\n",
    "\n",
    "import numpy as np\n",
    "\n",
    "from tasrif.processing_pipeline import ProcessingPipeline\n",
    "from tasrif.processing_pipeline.pandas import ConvertToDatetimeOperator, SortOperator, ReplaceOperator\n",
    "from tasrif.processing_pipeline.pandas import DropDuplicatesOperator, DropNAOperator, DropFeaturesOperator\n",
    "from tasrif.processing_pipeline.custom import OneHotEncoderOperator\n",
    "\n",
    "from tasrif.data_readers.sleep_health import SleepAssessmentDataset\n"
   ]
  },
  {
   "cell_type": "code",
   "execution_count": 4,
   "metadata": {
    "ExecuteTime": {
     "end_time": "2021-02-28T12:09:58.015948Z",
     "start_time": "2021-02-28T12:09:57.965665Z"
    }
   },
   "outputs": [],
   "source": [
    "def col_stats(df):\n",
    "    print('Some important stats:')\n",
    "    print('\\t- This dataset contains', len(df) ,' rows.')\n",
    "    for col in df.columns:\n",
    "        null_percentage = \"{:.2f}\".format(df[col].isnull().sum()/len(df)*100)\n",
    "        print('\\t - ``', col, '`` has', df[col].isnull().sum(), 'NAs (', df[col].count().sum(), '/', len(df), ') =',\n",
    "              null_percentage, '%')"
   ]
  },
  {
   "cell_type": "code",
   "execution_count": 6,
   "metadata": {
    "pycharm": {
     "name": "#%%\n"
    }
   },
   "outputs": [
    {
     "name": "stdout",
     "output_type": "stream",
     "text": [
      "Shape: (2325, 23)\n"
     ]
    },
    {
     "data": {
      "text/plain": "                          participantId  alcohol  concentrating_problem_one  \\\n0  6da7e848-daaa-410c-a83f-35b63498595c      5.0                        2.0   \n1  b57890d5-2346-4e14-aae1-90d8e8206faf      4.0                        2.0   \n2  f2514967-9173-4834-96f7-0acdd0298e84      5.0                        3.0   \n3  a051552c-d12f-46fc-8a16-082349220970      4.0                        1.0   \n4  f2ac8670-492a-42ce-8c6c-c694f42f3ddf      4.0                        4.0   \n\n   concentrating_problem_two discomfort_in_sleep  exercise  fatigue_limit  \\\n0                        3.0           1,2,3,5,6       2.0            3.0   \n1                        3.0                 2,4       3.0            2.0   \n2                        2.0             1,4,5,6       1.0            3.0   \n3                        1.0               1,4,6       5.0            1.0   \n4                        4.0               2,3,4       1.0            4.0   \n\n   feel_tired_frequency  felt_alert  had_problem  ...  sleep_aids  \\\n0                   3.0         3.0          2.0  ...         5.0   \n1                   4.0         2.0          4.0  ...         5.0   \n2                   3.0         1.0          3.0  ...         4.0   \n3                   2.0         4.0          3.0  ...         1.0   \n4                   4.0         3.0          3.0  ...         4.0   \n\n   sleep_problem  think_clearly  tired_easily  told_by_doctor  \\\n0            1.0            2.0           4.0             1.0   \n1            1.0            2.0           3.0             2.0   \n2            3.0            2.0           3.0             2.0   \n3            3.0            1.0           2.0             2.0   \n4            3.0            4.0           4.0             2.0   \n\n   told_by_doctor_specify  told_to_doctor  other_selected  \\\n0                       1             1.0             NaN   \n1                     NaN             1.0             NaN   \n2                     NaN             1.0             NaN   \n3                     NaN             1.0             NaN   \n4                     NaN             2.0             NaN   \n\n  trouble_staying_awake                  timestamp  \n0                   3.0  2016-03-02T00:10:29-05:00  \n1                   2.0  2016-03-03T12:21:19+02:00  \n2                   2.0  2016-03-02T00:25:14-08:00  \n3                   1.0  2016-09-22T09:56:19-07:00  \n4                   4.0  2016-03-03T05:25:42-05:00  \n\n[5 rows x 23 columns]",
      "text/html": "<div>\n<style scoped>\n    .dataframe tbody tr th:only-of-type {\n        vertical-align: middle;\n    }\n\n    .dataframe tbody tr th {\n        vertical-align: top;\n    }\n\n    .dataframe thead th {\n        text-align: right;\n    }\n</style>\n<table border=\"1\" class=\"dataframe\">\n  <thead>\n    <tr style=\"text-align: right;\">\n      <th></th>\n      <th>participantId</th>\n      <th>alcohol</th>\n      <th>concentrating_problem_one</th>\n      <th>concentrating_problem_two</th>\n      <th>discomfort_in_sleep</th>\n      <th>exercise</th>\n      <th>fatigue_limit</th>\n      <th>feel_tired_frequency</th>\n      <th>felt_alert</th>\n      <th>had_problem</th>\n      <th>...</th>\n      <th>sleep_aids</th>\n      <th>sleep_problem</th>\n      <th>think_clearly</th>\n      <th>tired_easily</th>\n      <th>told_by_doctor</th>\n      <th>told_by_doctor_specify</th>\n      <th>told_to_doctor</th>\n      <th>other_selected</th>\n      <th>trouble_staying_awake</th>\n      <th>timestamp</th>\n    </tr>\n  </thead>\n  <tbody>\n    <tr>\n      <th>0</th>\n      <td>6da7e848-daaa-410c-a83f-35b63498595c</td>\n      <td>5.0</td>\n      <td>2.0</td>\n      <td>3.0</td>\n      <td>1,2,3,5,6</td>\n      <td>2.0</td>\n      <td>3.0</td>\n      <td>3.0</td>\n      <td>3.0</td>\n      <td>2.0</td>\n      <td>...</td>\n      <td>5.0</td>\n      <td>1.0</td>\n      <td>2.0</td>\n      <td>4.0</td>\n      <td>1.0</td>\n      <td>1</td>\n      <td>1.0</td>\n      <td>NaN</td>\n      <td>3.0</td>\n      <td>2016-03-02T00:10:29-05:00</td>\n    </tr>\n    <tr>\n      <th>1</th>\n      <td>b57890d5-2346-4e14-aae1-90d8e8206faf</td>\n      <td>4.0</td>\n      <td>2.0</td>\n      <td>3.0</td>\n      <td>2,4</td>\n      <td>3.0</td>\n      <td>2.0</td>\n      <td>4.0</td>\n      <td>2.0</td>\n      <td>4.0</td>\n      <td>...</td>\n      <td>5.0</td>\n      <td>1.0</td>\n      <td>2.0</td>\n      <td>3.0</td>\n      <td>2.0</td>\n      <td>NaN</td>\n      <td>1.0</td>\n      <td>NaN</td>\n      <td>2.0</td>\n      <td>2016-03-03T12:21:19+02:00</td>\n    </tr>\n    <tr>\n      <th>2</th>\n      <td>f2514967-9173-4834-96f7-0acdd0298e84</td>\n      <td>5.0</td>\n      <td>3.0</td>\n      <td>2.0</td>\n      <td>1,4,5,6</td>\n      <td>1.0</td>\n      <td>3.0</td>\n      <td>3.0</td>\n      <td>1.0</td>\n      <td>3.0</td>\n      <td>...</td>\n      <td>4.0</td>\n      <td>3.0</td>\n      <td>2.0</td>\n      <td>3.0</td>\n      <td>2.0</td>\n      <td>NaN</td>\n      <td>1.0</td>\n      <td>NaN</td>\n      <td>2.0</td>\n      <td>2016-03-02T00:25:14-08:00</td>\n    </tr>\n    <tr>\n      <th>3</th>\n      <td>a051552c-d12f-46fc-8a16-082349220970</td>\n      <td>4.0</td>\n      <td>1.0</td>\n      <td>1.0</td>\n      <td>1,4,6</td>\n      <td>5.0</td>\n      <td>1.0</td>\n      <td>2.0</td>\n      <td>4.0</td>\n      <td>3.0</td>\n      <td>...</td>\n      <td>1.0</td>\n      <td>3.0</td>\n      <td>1.0</td>\n      <td>2.0</td>\n      <td>2.0</td>\n      <td>NaN</td>\n      <td>1.0</td>\n      <td>NaN</td>\n      <td>1.0</td>\n      <td>2016-09-22T09:56:19-07:00</td>\n    </tr>\n    <tr>\n      <th>4</th>\n      <td>f2ac8670-492a-42ce-8c6c-c694f42f3ddf</td>\n      <td>4.0</td>\n      <td>4.0</td>\n      <td>4.0</td>\n      <td>2,3,4</td>\n      <td>1.0</td>\n      <td>4.0</td>\n      <td>4.0</td>\n      <td>3.0</td>\n      <td>3.0</td>\n      <td>...</td>\n      <td>4.0</td>\n      <td>3.0</td>\n      <td>4.0</td>\n      <td>4.0</td>\n      <td>2.0</td>\n      <td>NaN</td>\n      <td>2.0</td>\n      <td>NaN</td>\n      <td>4.0</td>\n      <td>2016-03-03T05:25:42-05:00</td>\n    </tr>\n  </tbody>\n</table>\n<p>5 rows × 23 columns</p>\n</div>"
     },
     "execution_count": 6,
     "metadata": {},
     "output_type": "execute_result"
    }
   ],
   "source": [
    "# Full MyFamilyDataset\n",
    "mf = SleepAssessmentDataset(shc_folder=\"../../data/sleephealth/\", pipeline=None)\n",
    "df = mf.raw_df.copy()\n",
    "print(\"Shape:\", df.shape)\n",
    "df.head()"
   ]
  },
  {
   "cell_type": "code",
   "execution_count": 7,
   "metadata": {
    "pycharm": {
     "name": "#%%\n"
    }
   },
   "outputs": [
    {
     "name": "stdout",
     "output_type": "stream",
     "text": [
      "Some important stats:\n",
      "\t- This dataset contains 2325  rows.\n",
      "\t - `` participantId `` has 0 NAs ( 2325 / 2325 ) = 0.00 %\n",
      "\t - `` alcohol `` has 2 NAs ( 2323 / 2325 ) = 0.09 %\n",
      "\t - `` concentrating_problem_one `` has 4 NAs ( 2321 / 2325 ) = 0.17 %\n",
      "\t - `` concentrating_problem_two `` has 4 NAs ( 2321 / 2325 ) = 0.17 %\n",
      "\t - `` discomfort_in_sleep `` has 7 NAs ( 2318 / 2325 ) = 0.30 %\n",
      "\t - `` exercise `` has 30 NAs ( 2295 / 2325 ) = 1.29 %\n",
      "\t - `` fatigue_limit `` has 9 NAs ( 2316 / 2325 ) = 0.39 %\n",
      "\t - `` feel_tired_frequency `` has 1 NAs ( 2324 / 2325 ) = 0.04 %\n",
      "\t - `` felt_alert `` has 1 NAs ( 2324 / 2325 ) = 0.04 %\n",
      "\t - `` had_problem `` has 6 NAs ( 2319 / 2325 ) = 0.26 %\n",
      "\t - `` hard_times `` has 3 NAs ( 2322 / 2325 ) = 0.13 %\n",
      "\t - `` medication_by_doctor `` has 4 NAs ( 2321 / 2325 ) = 0.17 %\n",
      "\t - `` poor_sleep_problems `` has 0 NAs ( 2325 / 2325 ) = 0.00 %\n",
      "\t - `` sleep_aids `` has 4 NAs ( 2321 / 2325 ) = 0.17 %\n",
      "\t - `` sleep_problem `` has 8 NAs ( 2317 / 2325 ) = 0.34 %\n",
      "\t - `` think_clearly `` has 3 NAs ( 2322 / 2325 ) = 0.13 %\n",
      "\t - `` tired_easily `` has 2 NAs ( 2323 / 2325 ) = 0.09 %\n",
      "\t - `` told_by_doctor `` has 9 NAs ( 2316 / 2325 ) = 0.39 %\n",
      "\t - `` told_by_doctor_specify `` has 1642 NAs ( 683 / 2325 ) = 70.62 %\n",
      "\t - `` told_to_doctor `` has 1 NAs ( 2324 / 2325 ) = 0.04 %\n",
      "\t - `` other_selected `` has 2249 NAs ( 76 / 2325 ) = 96.73 %\n",
      "\t - `` trouble_staying_awake `` has 3 NAs ( 2322 / 2325 ) = 0.13 %\n",
      "\t - `` timestamp `` has 0 NAs ( 2325 / 2325 ) = 0.00 %\n"
     ]
    }
   ],
   "source": [
    "col_stats(df)"
   ]
  },
  {
   "cell_type": "code",
   "execution_count": 8,
   "outputs": [
    {
     "name": "stdout",
     "output_type": "stream",
     "text": [
      "Shape after dropping duplicate participants: (2228,)\n"
     ]
    }
   ],
   "source": [
    "print(\"Shape after dropping duplicate participants:\", df[\"participantId\"].drop_duplicates().shape)"
   ],
   "metadata": {
    "collapsed": false,
    "pycharm": {
     "name": "#%%\n"
    }
   }
  },
  {
   "cell_type": "code",
   "execution_count": 25,
   "metadata": {
    "pycharm": {
     "name": "#%%\n"
    }
   },
   "outputs": [
    {
     "name": "stdout",
     "output_type": "stream",
     "text": [
      "Shape: (2123, 83)\n"
     ]
    },
    {
     "data": {
      "text/plain": "                             participantId     other_selected  \\\n2251  00a3be71-6b4c-46c5-9e50-acf2db62f27b                      \n1146  00a55fb5-da33-4e2e-ae61-28f589fcc174                      \n894   00c13261-dd38-4730-90c4-beb25ff35822                      \n1030  00dbfe89-8c89-4933-9e84-bb8624787026                      \n1707  00e076a6-c761-43f1-8bf3-22ca0e0cd1a9  Bi-polar disorder   \n\n                     timestamp  alcohol=2.0  alcohol=3.0  alcohol=4.0  \\\n2251 2019-02-01 15:14:34+00:00            0            1            0   \n1146 2016-05-13 11:11:28+00:00            0            0            0   \n894  2016-07-24 16:25:08+00:00            0            0            0   \n1030 2016-03-29 14:54:45+00:00            0            0            0   \n1707 2017-02-25 17:43:16+00:00            0            0            1   \n\n      alcohol=5.0  alcohol=6.0  concentrating_problem_one=2.0  \\\n2251            0            0                              0   \n1146            1            0                              0   \n894             1            0                              0   \n1030            1            0                              0   \n1707            0            0                              1   \n\n      concentrating_problem_one=3.0  ...  trouble_staying_awake=3.0  \\\n2251                              0  ...                          0   \n1146                              1  ...                          0   \n894                               0  ...                          0   \n1030                              1  ...                          0   \n1707                              0  ...                          0   \n\n      trouble_staying_awake=4.0  trouble_staying_awake=5.0  \\\n2251                          0                          0   \n1146                          0                          0   \n894                           0                          0   \n1030                          0                          0   \n1707                          0                          0   \n\n      told_by_doctor_specify=2  told_by_doctor_specify=3  \\\n2251                         1                         0   \n1146                         0                         0   \n894                          0                         0   \n1030                         0                         0   \n1707                         1                         0   \n\n      told_by_doctor_specify=4  told_by_doctor_specify=5  \\\n2251                         0                         1   \n1146                         0                         0   \n894                          0                         0   \n1030                         0                         0   \n1707                         0                         0   \n\n      told_by_doctor_specify=6  told_by_doctor_specify=7  \\\n2251                         0                         0   \n1146                         0                         0   \n894                          0                         0   \n1030                         0                         0   \n1707                         0                         1   \n\n      told_by_doctor_specify=8  \n2251                         0  \n1146                         1  \n894                          1  \n1030                         1  \n1707                         0  \n\n[5 rows x 83 columns]",
      "text/html": "<div>\n<style scoped>\n    .dataframe tbody tr th:only-of-type {\n        vertical-align: middle;\n    }\n\n    .dataframe tbody tr th {\n        vertical-align: top;\n    }\n\n    .dataframe thead th {\n        text-align: right;\n    }\n</style>\n<table border=\"1\" class=\"dataframe\">\n  <thead>\n    <tr style=\"text-align: right;\">\n      <th></th>\n      <th>participantId</th>\n      <th>other_selected</th>\n      <th>timestamp</th>\n      <th>alcohol=2.0</th>\n      <th>alcohol=3.0</th>\n      <th>alcohol=4.0</th>\n      <th>alcohol=5.0</th>\n      <th>alcohol=6.0</th>\n      <th>concentrating_problem_one=2.0</th>\n      <th>concentrating_problem_one=3.0</th>\n      <th>...</th>\n      <th>trouble_staying_awake=3.0</th>\n      <th>trouble_staying_awake=4.0</th>\n      <th>trouble_staying_awake=5.0</th>\n      <th>told_by_doctor_specify=2</th>\n      <th>told_by_doctor_specify=3</th>\n      <th>told_by_doctor_specify=4</th>\n      <th>told_by_doctor_specify=5</th>\n      <th>told_by_doctor_specify=6</th>\n      <th>told_by_doctor_specify=7</th>\n      <th>told_by_doctor_specify=8</th>\n    </tr>\n  </thead>\n  <tbody>\n    <tr>\n      <th>2251</th>\n      <td>00a3be71-6b4c-46c5-9e50-acf2db62f27b</td>\n      <td></td>\n      <td>2019-02-01 15:14:34+00:00</td>\n      <td>0</td>\n      <td>1</td>\n      <td>0</td>\n      <td>0</td>\n      <td>0</td>\n      <td>0</td>\n      <td>0</td>\n      <td>...</td>\n      <td>0</td>\n      <td>0</td>\n      <td>0</td>\n      <td>1</td>\n      <td>0</td>\n      <td>0</td>\n      <td>1</td>\n      <td>0</td>\n      <td>0</td>\n      <td>0</td>\n    </tr>\n    <tr>\n      <th>1146</th>\n      <td>00a55fb5-da33-4e2e-ae61-28f589fcc174</td>\n      <td></td>\n      <td>2016-05-13 11:11:28+00:00</td>\n      <td>0</td>\n      <td>0</td>\n      <td>0</td>\n      <td>1</td>\n      <td>0</td>\n      <td>0</td>\n      <td>1</td>\n      <td>...</td>\n      <td>0</td>\n      <td>0</td>\n      <td>0</td>\n      <td>0</td>\n      <td>0</td>\n      <td>0</td>\n      <td>0</td>\n      <td>0</td>\n      <td>0</td>\n      <td>1</td>\n    </tr>\n    <tr>\n      <th>894</th>\n      <td>00c13261-dd38-4730-90c4-beb25ff35822</td>\n      <td></td>\n      <td>2016-07-24 16:25:08+00:00</td>\n      <td>0</td>\n      <td>0</td>\n      <td>0</td>\n      <td>1</td>\n      <td>0</td>\n      <td>0</td>\n      <td>0</td>\n      <td>...</td>\n      <td>0</td>\n      <td>0</td>\n      <td>0</td>\n      <td>0</td>\n      <td>0</td>\n      <td>0</td>\n      <td>0</td>\n      <td>0</td>\n      <td>0</td>\n      <td>1</td>\n    </tr>\n    <tr>\n      <th>1030</th>\n      <td>00dbfe89-8c89-4933-9e84-bb8624787026</td>\n      <td></td>\n      <td>2016-03-29 14:54:45+00:00</td>\n      <td>0</td>\n      <td>0</td>\n      <td>0</td>\n      <td>1</td>\n      <td>0</td>\n      <td>0</td>\n      <td>1</td>\n      <td>...</td>\n      <td>0</td>\n      <td>0</td>\n      <td>0</td>\n      <td>0</td>\n      <td>0</td>\n      <td>0</td>\n      <td>0</td>\n      <td>0</td>\n      <td>0</td>\n      <td>1</td>\n    </tr>\n    <tr>\n      <th>1707</th>\n      <td>00e076a6-c761-43f1-8bf3-22ca0e0cd1a9</td>\n      <td>Bi-polar disorder</td>\n      <td>2017-02-25 17:43:16+00:00</td>\n      <td>0</td>\n      <td>0</td>\n      <td>1</td>\n      <td>0</td>\n      <td>0</td>\n      <td>1</td>\n      <td>0</td>\n      <td>...</td>\n      <td>0</td>\n      <td>0</td>\n      <td>0</td>\n      <td>1</td>\n      <td>0</td>\n      <td>0</td>\n      <td>0</td>\n      <td>0</td>\n      <td>1</td>\n      <td>0</td>\n    </tr>\n  </tbody>\n</table>\n<p>5 rows × 83 columns</p>\n</div>"
     },
     "execution_count": 25,
     "metadata": {},
     "output_type": "execute_result"
    }
   ],
   "source": [
    "# Default Pipeline\n",
    "pipeline = ProcessingPipeline([\n",
    "    ConvertToDatetimeOperator(feature_names=\"timestamp\", format=\"%Y-%m-%dT%H:%M:%S%z\", utc=True),\n",
    "    SortOperator(by=[\"participantId\", \"timestamp\"]),\n",
    "    DropDuplicatesOperator(subset=\"participantId\", keep=\"last\"),\n",
    "    ReplaceOperator(to_replace={\"alcohol\": {7: np.nan},\n",
    "                                \"medication_by_doctor\": {7: np.nan},\n",
    "                                \"sleep_aids\": {7: np.nan},\n",
    "                                \"told_by_doctor\": {3: np.nan},\n",
    "                                \"told_to_doctor\": {3: np.nan},\n",
    "                                \"told_by_doctor_specify\": {np.nan: '8'},\n",
    "                                \"other_selected\": {np.nan: ''},\n",
    "                                }),\n",
    "    DropNAOperator(subset=['alcohol', 'concentrating_problem_one', 'concentrating_problem_two',\n",
    "                           'discomfort_in_sleep', 'exercise', 'fatigue_limit', 'feel_tired_frequency',\n",
    "                           'felt_alert', 'had_problem', 'hard_times', 'medication_by_doctor',\n",
    "                           'poor_sleep_problems', 'sleep_aids', 'sleep_problem', 'think_clearly',\n",
    "                           'tired_easily', 'told_by_doctor',  'told_to_doctor', 'trouble_staying_awake']),\n",
    "    OneHotEncoderOperator(feature_names=['alcohol', 'concentrating_problem_one', 'concentrating_problem_two',\n",
    "                           'discomfort_in_sleep', 'exercise', 'fatigue_limit', 'feel_tired_frequency',\n",
    "                           'felt_alert', 'had_problem', 'hard_times', 'medication_by_doctor',\n",
    "                           'poor_sleep_problems', 'sleep_aids', 'sleep_problem', 'think_clearly',\n",
    "                           'tired_easily', 'told_by_doctor',  'told_to_doctor', 'trouble_staying_awake',\n",
    "                            'told_by_doctor_specify'],\n",
    "                            drop_first=True),\n",
    "    ])\n",
    "\n",
    "\n",
    "mypipe = SleepAssessmentDataset(shc_folder=\"../../data/sleephealth/\", pipeline=pipeline)\n",
    "df_piped = mypipe.processed_dataframe()\n",
    "print(\"Shape:\", df_piped.shape)\n",
    "df_piped.head()"
   ]
  },
  {
   "cell_type": "code",
   "execution_count": 26,
   "outputs": [
    {
     "data": {
      "text/plain": "array(['', 'Bi-polar disorder',\n       'Obstructive, Cental, & hypopnea Sleep apnea’s with a rating of 27 for moderate to severe. I also have Postural Orthostatic Tachycardia Syndrome & chronic hypotension ',\n       'Narcolepsy with Cataplexy  Periodic Limb Movement Disorder  Restless Leg Syndrome ',\n       'PLMD', 'OSA', '\"Unidentified Sleep Disorder\"',\n       \"Spent a night in a sleep lab. Was told that I don't go into REM sleep but have micro burst of activity that keep me from going into a deep sleep\",\n       'I think there’s a glitch in your system. I did not check other. I checked sleep apnea, insomnia, hypersomnia, and circadian rhythm disorder.',\n       'Bipolar Disorder',\n       \"Hypersomnia (from Lyme's Disease) that struggle with daily and periods of insomnia (prob from Hypersomnia medication Midafinil)\",\n       'Dysautonomia sometimes has sleep problems as a symptom',\n       'Recurrent hypersomnia ', 'Sleep paralysis/night terrors',\n       'Primary Central Sleep Apnea Shallow breathing while awake  Day time central apnea',\n       'I was diagnosed with Central Mixed Sleep Apnea .',\n       'Mood Disorder affects Sleep vey much. So does stress and anxiety. ',\n       'Hypopnea and possible narcolepsy',\n       \"Something in the brain that doesn't tell me to breath when I stop. \",\n       \"I was told that I have severe obstructive sleep apnea answer couldn't sleep disorder.\",\n       'REM sleep disorder ',\n       'Mild sleep apnea and circadian rythm disorder',\n       'I have insomnia and am recovering from depression that had usually come with hypersomnia in the past.',\n       'Persistent Insomnia ', 'Delayed Sleep Phase Syndrome',\n       'Sleep apnea Narcolepsy', 'Sleepwalking ',\n       'Sleep Apnea Hypersomulence ',\n       \"I was diagnosed with Narcolepsy without Cataplexy. Later, that was changed to Idiopathic Hypersomnia and Delayed Sleep Phase Disorder. I also have mild sleep apnea but CPAP didn't help.\",\n       'I do not sleep due to severe depression and anxiety.',\n       'Shift Worker Disorder', 'Severe insomnia ', 'Anxiety',\n       'I did not select \"other\".  All sleep disorders I selected were discovered through sleep studies, MSLT, and medical history.  This testing was done a second time by Mayo Clinc in Jacksonville, FL and confirmed diagnosis.',\n       'Just narcolepsy with cataplexy and restless leg syndrome ',\n       'Sleep paralysis ',\n       'Two sleep studies confirmed severe sleep apnea ',\n       'Sorry I didn\\'t mean to mark \"other\".', 'Hypopnea ',\n       \"I had bladder cancer. Now I have a Urostomy and can't sleep more than about 90 minutes at a time\",\n       'Na',\n       'Tardive dyskinesia that causes my body to rock and feet to curl until I fall asleep ',\n       'Idiopathic hypersomnia',\n       'I have the highest level of panic attack/generalized anxiety disorder (with agoraphobia) that I am on 6mg Xanax during day to function. Med doesn’t make me sleepy, helps me focus.',\n       'Dysautonomia ', 'fibromyalgia-related sleep disorder',\n       'Idiopathic hypersomnia with long sleep',\n       'Complex PTSD Complex Regional Pain Syndrome',\n       'Nightmare disorder, sleep walking ',\n       'DIMS - difficulty initiating and maintaining sleep  UARS - Upper Airway Respiratory Syndrome',\n       'Peripheral neuropathy- pinpricks on feet', 'Apnea and circadian',\n       \"ADHD. Mind won't shutdown \",\n       \"I can only sleep during the day. Never before 5/6 o'clock AM. The doctor said I have my days and nights mix up. Mentioned a sleep study but didn't order one. I council, she didn't care when I sleep as long as I sleep. However it's doesn't work, because it cuts into your social time with others. Isolating me to much. So I really want to sleep at night and be up earlier. \",\n       'I work open - close Friday Saturday Sunday... so I can’t take meds to help me sleep or I can’t function the next day',\n       'Sleep apnea Delayed phase sleep disorder',\n       'I have Post Herpetic Neuralgia on my face. ',\n       'Delayed sleep phase disorder, shift work sleep disorder, and insomnia. One doctor thought I may possibly have narcolepsy ',\n       'Adrenal insufficiency ',\n       'Drs are not entirely sure what to say I have, yet. Still monitoring.  Narcolepsy has been ruled out. I’ve had several sleep studies. I do sleep with a cpap. I’m still very tired. I have chronic pain and fibromyalgia so those could be contributing factors which make diagnoses difficult. I’m chronically fatigued during the day, often when with stimulants. But in the last several months I’ve learned I’m not resting at night either. At first I thought I was just fidgeting with the mask but even when I don’t bother with it I still don’t reach REM for several hrs. Sometimes as long as 5-6.  The first sleep aid I was given has helped but it reacted badly with other meds. And I still had hypersomina episodes during the day so the stimulants were still needed.  I will be seeing the sleep dr for updating meds in a few weeks. ',\n       'Depression ',\n       'I have had obstructive sleep apnea for most of my life. I was born with narrow airways. I was diagnosed with RLS in 2015. I also have neuropathy both from diabetes and back injury. Recently a pacemaker was placed because my I developed bradycardia and asystole due to the severity of the sleep apnea.',\n       'My brain wakes up about every 12 minutes for about a minute each time.',\n       'Fibro myalgia',\n       'I had sleep apnea until I received a septoplasty, which appears to have resolved that issue. I also have delayed sleep phase syndrome. ',\n       'Shift work sleep disorder ',\n       'Periodic Insomnia related to my travel job'], dtype=object)"
     },
     "execution_count": 26,
     "metadata": {},
     "output_type": "execute_result"
    }
   ],
   "source": [
    "df_piped[\"other_selected\"].unique()"
   ],
   "metadata": {
    "collapsed": false,
    "pycharm": {
     "name": "#%%\n"
    }
   }
  },
  {
   "cell_type": "code",
   "execution_count": null,
   "outputs": [],
   "source": [],
   "metadata": {
    "collapsed": false,
    "pycharm": {
     "name": "#%%\n"
    }
   }
  }
 ],
 "metadata": {
  "kernelspec": {
   "name": "pycharm-5bd30262",
   "language": "python",
   "display_name": "PyCharm (tasrif)"
  },
  "language_info": {
   "codemirror_mode": {
    "name": "ipython",
    "version": 3
   },
   "file_extension": ".py",
   "mimetype": "text/x-python",
   "name": "python",
   "nbconvert_exporter": "python",
   "pygments_lexer": "ipython3",
   "version": "3.8.3"
  }
 },
 "nbformat": 4,
 "nbformat_minor": 4
}