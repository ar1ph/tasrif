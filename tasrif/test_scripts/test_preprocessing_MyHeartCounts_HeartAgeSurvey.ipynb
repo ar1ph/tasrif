{
 "cells": [
  {
   "cell_type": "code",
   "execution_count": 1,
   "metadata": {
    "scrolled": false
   },
   "outputs": [
    {
     "name": "stdout",
     "output_type": "stream",
     "text": [
      "Some important stats:\n",
      "\t- This dataset contains unique data for  10772 participants.\n",
      "\t - ` recordId ` has 0 NAs ( 10772 / 10772 ) = 0.00 %\n",
      "\t - ` healthCode ` has 0 NAs ( 10772 / 10772 ) = 0.00 %\n",
      "\t - ` createdOn ` has 0 NAs ( 10772 / 10772 ) = 0.00 %\n",
      "\t - ` appVersion ` has 0 NAs ( 10772 / 10772 ) = 0.00 %\n",
      "\t - ` phoneInfo ` has 0 NAs ( 10772 / 10772 ) = 0.00 %\n",
      "\t - ` bloodPressureInstruction ` has 0 NAs ( 10772 / 10772 ) = 0.00 %\n",
      "\t - ` bloodPressureInstruction_unit ` has 0 NAs ( 10772 / 10772 ) = 0.00 %\n",
      "\t - ` heartAgeDataBloodGlucose ` has 1 NAs ( 10771 / 10772 ) = 0.01 %\n",
      "\t - ` heartAgeDataBloodGlucose_unit ` has 0 NAs ( 10772 / 10772 ) = 0.00 %\n",
      "\t - ` heartAgeDataDiabetes ` has 2 NAs ( 10770 / 10772 ) = 0.02 %\n",
      "\t - ` heartAgeDataGender ` has 66 NAs ( 10706 / 10772 ) = 0.61 %\n",
      "\t - ` heartAgeDataEthnicity ` has 1 NAs ( 10771 / 10772 ) = 0.01 %\n",
      "\t - ` heartAgeDataHdl ` has 0 NAs ( 10772 / 10772 ) = 0.00 %\n",
      "\t - ` heartAgeDataHdl_unit ` has 0 NAs ( 10772 / 10772 ) = 0.00 %\n",
      "\t - ` heartAgeDataHypertension ` has 2 NAs ( 10770 / 10772 ) = 0.02 %\n",
      "\t - ` heartAgeDataLdl ` has 1 NAs ( 10771 / 10772 ) = 0.01 %\n",
      "\t - ` heartAgeDataLdl_unit ` has 0 NAs ( 10772 / 10772 ) = 0.00 %\n",
      "\t - ` smokingHistory ` has 39 NAs ( 10733 / 10772 ) = 0.36 %\n",
      "\t - ` heartAgeDataSystolicBloodPressure ` has 1 NAs ( 10771 / 10772 ) = 0.01 %\n",
      "\t - ` heartAgeDataSystolicBloodPressure_unit ` has 0 NAs ( 10772 / 10772 ) = 0.00 %\n",
      "\t - ` heartAgeDataTotalCholesterol ` has 0 NAs ( 10772 / 10772 ) = 0.00 %\n",
      "\t - ` heartAgeDataTotalCholesterol_unit ` has 0 NAs ( 10772 / 10772 ) = 0.00 %\n",
      "\t - ` heartAgeDataAge ` has 91 NAs ( 10681 / 10772 ) = 0.84 %\n"
     ]
    }
   ],
   "source": [
    "import pandas as pd\n",
    "\n",
    "df = pd.read_csv('E:\\\\Development\\\\siha\\\\Heart Age Survey.csv')\n",
    "\n",
    "\n",
    "def col_stats(df):\n",
    "    print('Some important stats:')\n",
    "    print('\\t- This dataset contains unique data for ', len(df) ,'participants.')\n",
    "    for col in df.columns:\n",
    "        null_percentage = \"{:.2f}\".format(df[col].isnull().sum()/len(df)*100)\n",
    "        print('\\t - `', col, '` has', df[col].isnull().sum(), 'NAs (', df[col].count().sum(), '/', len(df), ') =', \n",
    "              null_percentage, '%')\n",
    "        \n",
    "col_stats(df)\n",
    "\n",
    "from tasrif.data_readers.my_heart_counts import HeartAgeSurveyDataset\n",
    "\n",
    "has = HeartAgeSurveyDataset(mhc_folder='E:\\\\Development\\\\siha\\\\')"
   ]
  },
  {
   "cell_type": "code",
   "execution_count": null,
   "metadata": {},
   "outputs": [],
   "source": [
    "has.raw_dataframe()"
   ]
  },
  {
   "cell_type": "code",
   "execution_count": null,
   "metadata": {},
   "outputs": [],
   "source": [
    "has.processed_dataframe()"
   ]
  },
  {
   "cell_type": "code",
   "execution_count": null,
   "metadata": {},
   "outputs": [],
   "source": [
    "has.participant_count()"
   ]
  }
 ],
 "metadata": {
  "kernelspec": {
   "display_name": "Python 3",
   "language": "python",
   "name": "python3"
  },
  "language_info": {
   "codemirror_mode": {
    "name": "ipython",
    "version": 3
   },
   "file_extension": ".py",
   "mimetype": "text/x-python",
   "name": "python",
   "nbconvert_exporter": "python",
   "pygments_lexer": "ipython3",
   "version": "3.8.8"
  }
 },
 "nbformat": 4,
 "nbformat_minor": 4
}
