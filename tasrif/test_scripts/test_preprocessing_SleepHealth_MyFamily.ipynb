{
 "cells": [
  {
   "cell_type": "code",
   "execution_count": 1,
   "metadata": {
    "ExecuteTime": {
     "end_time": "2021-02-28T12:09:56.778445Z",
     "start_time": "2021-02-28T12:09:56.760220Z"
    }
   },
   "outputs": [],
   "source": [
    "%load_ext autoreload\n",
    "%autoreload 2\n",
    "\n",
    "import numpy as np\n",
    "\n",
    "from tasrif.processing_pipeline import ProcessingPipeline\n",
    "from tasrif.processing_pipeline.pandas import ConvertToDatetimeOperator, SortOperator, ReplaceOperator\n",
    "from tasrif.processing_pipeline.pandas import DropDuplicatesOperator, DropNAOperator, DropFeaturesOperator\n",
    "from tasrif.processing_pipeline.custom import OneHotEncoderOperator\n",
    "\n",
    "from tasrif.data_readers.sleep_health import MyFamilyDataset\n"
   ]
  },
  {
   "cell_type": "code",
   "execution_count": 2,
   "metadata": {
    "ExecuteTime": {
     "end_time": "2021-02-28T12:09:58.015948Z",
     "start_time": "2021-02-28T12:09:57.965665Z"
    }
   },
   "outputs": [],
   "source": [
    "def col_stats(df):\n",
    "    print('Some important stats:')\n",
    "    print('\\t- This dataset contains', len(df) ,' rows.')\n",
    "    for col in df.columns:\n",
    "        null_percentage = \"{:.2f}\".format(df[col].isnull().sum()/len(df)*100)\n",
    "        print('\\t - ``', col, '`` has', df[col].isnull().sum(), 'NAs (', df[col].count().sum(), '/', len(df), ') =',\n",
    "              null_percentage, '%')"
   ]
  },
  {
   "cell_type": "code",
   "execution_count": 3,
   "metadata": {
    "pycharm": {
     "name": "#%%\n"
    }
   },
   "outputs": [
    {
     "name": "stdout",
     "output_type": "stream",
     "text": [
      "Shape: (3003, 6)\n"
     ]
    },
    {
     "data": {
      "text/plain": "                          participantId fam_history  family_size  language  \\\n0  6da7e848-daaa-410c-a83f-35b63498595c       0,1,5          3.0       1.0   \n1  8fbc2a05-b7d2-41b6-a111-7b38006c86f5       1,2,5          2.0       1.0   \n2  5f4851c0-149d-45ca-8c30-fafbfe2684dc         100          2.0       1.0   \n3  bff5f14d-51b4-4162-9031-6132a7ffdf68         100          5.0       1.0   \n4  58817d18-21a9-4f39-bd42-85af388b8eef         100          5.0       1.0   \n\n   underage_family                  timestamp  \n0              2.0  2016-03-02T00:08:56-05:00  \n1              1.0  2016-04-30T00:09:26-04:00  \n2              1.0  2016-03-04T08:56:13-06:00  \n3              2.0  2016-03-04T07:01:05-08:00  \n4              4.0  2016-03-06T19:40:43-05:00  ",
      "text/html": "<div>\n<style scoped>\n    .dataframe tbody tr th:only-of-type {\n        vertical-align: middle;\n    }\n\n    .dataframe tbody tr th {\n        vertical-align: top;\n    }\n\n    .dataframe thead th {\n        text-align: right;\n    }\n</style>\n<table border=\"1\" class=\"dataframe\">\n  <thead>\n    <tr style=\"text-align: right;\">\n      <th></th>\n      <th>participantId</th>\n      <th>fam_history</th>\n      <th>family_size</th>\n      <th>language</th>\n      <th>underage_family</th>\n      <th>timestamp</th>\n    </tr>\n  </thead>\n  <tbody>\n    <tr>\n      <th>0</th>\n      <td>6da7e848-daaa-410c-a83f-35b63498595c</td>\n      <td>0,1,5</td>\n      <td>3.0</td>\n      <td>1.0</td>\n      <td>2.0</td>\n      <td>2016-03-02T00:08:56-05:00</td>\n    </tr>\n    <tr>\n      <th>1</th>\n      <td>8fbc2a05-b7d2-41b6-a111-7b38006c86f5</td>\n      <td>1,2,5</td>\n      <td>2.0</td>\n      <td>1.0</td>\n      <td>1.0</td>\n      <td>2016-04-30T00:09:26-04:00</td>\n    </tr>\n    <tr>\n      <th>2</th>\n      <td>5f4851c0-149d-45ca-8c30-fafbfe2684dc</td>\n      <td>100</td>\n      <td>2.0</td>\n      <td>1.0</td>\n      <td>1.0</td>\n      <td>2016-03-04T08:56:13-06:00</td>\n    </tr>\n    <tr>\n      <th>3</th>\n      <td>bff5f14d-51b4-4162-9031-6132a7ffdf68</td>\n      <td>100</td>\n      <td>5.0</td>\n      <td>1.0</td>\n      <td>2.0</td>\n      <td>2016-03-04T07:01:05-08:00</td>\n    </tr>\n    <tr>\n      <th>4</th>\n      <td>58817d18-21a9-4f39-bd42-85af388b8eef</td>\n      <td>100</td>\n      <td>5.0</td>\n      <td>1.0</td>\n      <td>4.0</td>\n      <td>2016-03-06T19:40:43-05:00</td>\n    </tr>\n  </tbody>\n</table>\n</div>"
     },
     "execution_count": 3,
     "metadata": {},
     "output_type": "execute_result"
    }
   ],
   "source": [
    "# Full MyFamilyDataset\n",
    "mf = MyFamilyDataset(shc_folder=\"../../data/sleephealth/\", pipeline=None)\n",
    "df = mf.raw_df.copy()\n",
    "print(\"Shape:\", df.shape)\n",
    "df.head()"
   ]
  },
  {
   "cell_type": "code",
   "execution_count": 4,
   "metadata": {
    "pycharm": {
     "name": "#%%\n"
    }
   },
   "outputs": [
    {
     "name": "stdout",
     "output_type": "stream",
     "text": [
      "Some important stats:\n",
      "\t- This dataset contains 3003  rows.\n",
      "\t - `` participantId `` has 0 NAs ( 3003 / 3003 ) = 0.00 %\n",
      "\t - `` fam_history `` has 15 NAs ( 2988 / 3003 ) = 0.50 %\n",
      "\t - `` family_size `` has 7 NAs ( 2996 / 3003 ) = 0.23 %\n",
      "\t - `` language `` has 4 NAs ( 2999 / 3003 ) = 0.13 %\n",
      "\t - `` underage_family `` has 9 NAs ( 2994 / 3003 ) = 0.30 %\n",
      "\t - `` timestamp `` has 0 NAs ( 3003 / 3003 ) = 0.00 %\n"
     ]
    }
   ],
   "source": [
    "col_stats(df)"
   ]
  },
  {
   "cell_type": "code",
   "execution_count": 5,
   "metadata": {
    "pycharm": {
     "name": "#%%\n"
    }
   },
   "outputs": [
    {
     "name": "stdout",
     "output_type": "stream",
     "text": [
      "Shape: (2695, 21)\n"
     ]
    },
    {
     "data": {
      "text/plain": "                             participantId                 timestamp  \\\n2341  0018174a-1f74-49f5-ba81-9cba70401b1f 2017-05-16 13:02:58+00:00   \n2927  00a3be71-6b4c-46c5-9e50-acf2db62f27b 2019-02-01 15:11:11+00:00   \n509   00a55fb5-da33-4e2e-ae61-28f589fcc174 2016-05-13 11:08:09+00:00   \n794   00c13261-dd38-4730-90c4-beb25ff35822 2016-07-24 16:20:08+00:00   \n1446  00dbfe89-8c89-4933-9e84-bb8624787026 2016-03-29 13:55:35+00:00   \n\n      fam_history=0  fam_history=1  fam_history=100  fam_history=2  \\\n2341              1              1                0              0   \n2927              1              1                0              0   \n509               1              1                0              0   \n794               0              1                0              0   \n1446              0              0                1              0   \n\n      fam_history=5  family_size=1.0  family_size=2.0  family_size=3.0  ...  \\\n2341              0                0                1                0  ...   \n2927              1                0                0                0  ...   \n509               0                0                1                0  ...   \n794               0                0                0                1  ...   \n1446              0                0                0                0  ...   \n\n      family_size=5.0  language=1.0  language=2.0  language=3.0  language=4.0  \\\n2341                0             1             0             0             0   \n2927                0             1             0             0             0   \n509                 0             1             0             0             0   \n794                 0             1             0             0             0   \n1446                0             1             0             0             0   \n\n      underage_family=1.0  underage_family=2.0  underage_family=3.0  \\\n2341                    1                    0                    0   \n2927                    0                    1                    0   \n509                     1                    0                    0   \n794                     1                    0                    0   \n1446                    1                    0                    0   \n\n      underage_family=4.0  underage_family=5.0  \n2341                    0                    0  \n2927                    0                    0  \n509                     0                    0  \n794                     0                    0  \n1446                    0                    0  \n\n[5 rows x 21 columns]",
      "text/html": "<div>\n<style scoped>\n    .dataframe tbody tr th:only-of-type {\n        vertical-align: middle;\n    }\n\n    .dataframe tbody tr th {\n        vertical-align: top;\n    }\n\n    .dataframe thead th {\n        text-align: right;\n    }\n</style>\n<table border=\"1\" class=\"dataframe\">\n  <thead>\n    <tr style=\"text-align: right;\">\n      <th></th>\n      <th>participantId</th>\n      <th>timestamp</th>\n      <th>fam_history=0</th>\n      <th>fam_history=1</th>\n      <th>fam_history=100</th>\n      <th>fam_history=2</th>\n      <th>fam_history=5</th>\n      <th>family_size=1.0</th>\n      <th>family_size=2.0</th>\n      <th>family_size=3.0</th>\n      <th>...</th>\n      <th>family_size=5.0</th>\n      <th>language=1.0</th>\n      <th>language=2.0</th>\n      <th>language=3.0</th>\n      <th>language=4.0</th>\n      <th>underage_family=1.0</th>\n      <th>underage_family=2.0</th>\n      <th>underage_family=3.0</th>\n      <th>underage_family=4.0</th>\n      <th>underage_family=5.0</th>\n    </tr>\n  </thead>\n  <tbody>\n    <tr>\n      <th>2341</th>\n      <td>0018174a-1f74-49f5-ba81-9cba70401b1f</td>\n      <td>2017-05-16 13:02:58+00:00</td>\n      <td>1</td>\n      <td>1</td>\n      <td>0</td>\n      <td>0</td>\n      <td>0</td>\n      <td>0</td>\n      <td>1</td>\n      <td>0</td>\n      <td>...</td>\n      <td>0</td>\n      <td>1</td>\n      <td>0</td>\n      <td>0</td>\n      <td>0</td>\n      <td>1</td>\n      <td>0</td>\n      <td>0</td>\n      <td>0</td>\n      <td>0</td>\n    </tr>\n    <tr>\n      <th>2927</th>\n      <td>00a3be71-6b4c-46c5-9e50-acf2db62f27b</td>\n      <td>2019-02-01 15:11:11+00:00</td>\n      <td>1</td>\n      <td>1</td>\n      <td>0</td>\n      <td>0</td>\n      <td>1</td>\n      <td>0</td>\n      <td>0</td>\n      <td>0</td>\n      <td>...</td>\n      <td>0</td>\n      <td>1</td>\n      <td>0</td>\n      <td>0</td>\n      <td>0</td>\n      <td>0</td>\n      <td>1</td>\n      <td>0</td>\n      <td>0</td>\n      <td>0</td>\n    </tr>\n    <tr>\n      <th>509</th>\n      <td>00a55fb5-da33-4e2e-ae61-28f589fcc174</td>\n      <td>2016-05-13 11:08:09+00:00</td>\n      <td>1</td>\n      <td>1</td>\n      <td>0</td>\n      <td>0</td>\n      <td>0</td>\n      <td>0</td>\n      <td>1</td>\n      <td>0</td>\n      <td>...</td>\n      <td>0</td>\n      <td>1</td>\n      <td>0</td>\n      <td>0</td>\n      <td>0</td>\n      <td>1</td>\n      <td>0</td>\n      <td>0</td>\n      <td>0</td>\n      <td>0</td>\n    </tr>\n    <tr>\n      <th>794</th>\n      <td>00c13261-dd38-4730-90c4-beb25ff35822</td>\n      <td>2016-07-24 16:20:08+00:00</td>\n      <td>0</td>\n      <td>1</td>\n      <td>0</td>\n      <td>0</td>\n      <td>0</td>\n      <td>0</td>\n      <td>0</td>\n      <td>1</td>\n      <td>...</td>\n      <td>0</td>\n      <td>1</td>\n      <td>0</td>\n      <td>0</td>\n      <td>0</td>\n      <td>1</td>\n      <td>0</td>\n      <td>0</td>\n      <td>0</td>\n      <td>0</td>\n    </tr>\n    <tr>\n      <th>1446</th>\n      <td>00dbfe89-8c89-4933-9e84-bb8624787026</td>\n      <td>2016-03-29 13:55:35+00:00</td>\n      <td>0</td>\n      <td>0</td>\n      <td>1</td>\n      <td>0</td>\n      <td>0</td>\n      <td>0</td>\n      <td>0</td>\n      <td>0</td>\n      <td>...</td>\n      <td>0</td>\n      <td>1</td>\n      <td>0</td>\n      <td>0</td>\n      <td>0</td>\n      <td>1</td>\n      <td>0</td>\n      <td>0</td>\n      <td>0</td>\n      <td>0</td>\n    </tr>\n  </tbody>\n</table>\n<p>5 rows × 21 columns</p>\n</div>"
     },
     "execution_count": 5,
     "metadata": {},
     "output_type": "execute_result"
    }
   ],
   "source": [
    "# Default Pipeline SleepQualityCheckerDataset\n",
    "pipeline = ProcessingPipeline([\n",
    "    ConvertToDatetimeOperator(feature_names=\"timestamp\", format=\"%Y-%m-%dT%H:%M:%S%z\", utc=True),\n",
    "    SortOperator(by=[\"participantId\", \"timestamp\"]),\n",
    "    DropDuplicatesOperator(subset=\"participantId\", keep=\"last\"),\n",
    "    ReplaceOperator(to_replace={\"fam_history\": {\"200\": np.nan},\n",
    "                                \"family_size\": {6: np.nan},\n",
    "                                \"language\": {5: np.nan},\n",
    "                                \"underage_family\": {6: np.nan}}),\n",
    "    DropNAOperator(subset=[\"fam_history\", \"family_size\", \"language\", \"underage_family\"]),\n",
    "    OneHotEncoderOperator(feature_names=[\"fam_history\", \"family_size\", \"language\", \"underage_family\"], drop_first=False),\n",
    "    DropFeaturesOperator([\"fam_history=200\"])\n",
    "    ])\n",
    "\n",
    "mypipe = MyFamilyDataset(shc_folder=\"../../data/sleephealth/\", pipeline=pipeline)\n",
    "df_piped = mypipe.processed_dataframe()\n",
    "print(\"Shape:\", df_piped.shape)\n",
    "df_piped.head()"
   ]
  }
 ],
 "metadata": {
  "kernelspec": {
   "name": "pycharm-5bd30262",
   "language": "python",
   "display_name": "PyCharm (tasrif)"
  },
  "language_info": {
   "codemirror_mode": {
    "name": "ipython",
    "version": 3
   },
   "file_extension": ".py",
   "mimetype": "text/x-python",
   "name": "python",
   "nbconvert_exporter": "python",
   "pygments_lexer": "ipython3",
   "version": "3.8.3"
  }
 },
 "nbformat": 4,
 "nbformat_minor": 4
}