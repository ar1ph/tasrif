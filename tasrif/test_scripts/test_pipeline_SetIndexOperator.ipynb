{
 "cells": [
  {
   "cell_type": "code",
   "execution_count": 6,
   "metadata": {},
   "outputs": [
    {
     "data": {
      "text/html": [
       "<div>\n",
       "<style scoped>\n",
       "    .dataframe tbody tr th:only-of-type {\n",
       "        vertical-align: middle;\n",
       "    }\n",
       "\n",
       "    .dataframe tbody tr th {\n",
       "        vertical-align: top;\n",
       "    }\n",
       "\n",
       "    .dataframe thead th {\n",
       "        text-align: right;\n",
       "    }\n",
       "</style>\n",
       "<table border=\"1\" class=\"dataframe\">\n",
       "  <thead>\n",
       "    <tr style=\"text-align: right;\">\n",
       "      <th></th>\n",
       "      <th>logId</th>\n",
       "      <th>timestamp</th>\n",
       "      <th>sleep_level</th>\n",
       "    </tr>\n",
       "  </thead>\n",
       "  <tbody>\n",
       "    <tr>\n",
       "      <th>0</th>\n",
       "      <td>1</td>\n",
       "      <td>2020-05-01 00:00:00</td>\n",
       "      <td>1</td>\n",
       "    </tr>\n",
       "    <tr>\n",
       "      <th>1</th>\n",
       "      <td>1</td>\n",
       "      <td>2020-05-01 01:00:00</td>\n",
       "      <td>1</td>\n",
       "    </tr>\n",
       "    <tr>\n",
       "      <th>2</th>\n",
       "      <td>1</td>\n",
       "      <td>2020-05-01 03:00:00</td>\n",
       "      <td>2</td>\n",
       "    </tr>\n",
       "    <tr>\n",
       "      <th>3</th>\n",
       "      <td>2</td>\n",
       "      <td>2020-05-02 00:00:00</td>\n",
       "      <td>1</td>\n",
       "    </tr>\n",
       "    <tr>\n",
       "      <th>4</th>\n",
       "      <td>2</td>\n",
       "      <td>2020-05-02 01:00:00</td>\n",
       "      <td>1</td>\n",
       "    </tr>\n",
       "  </tbody>\n",
       "</table>\n",
       "</div>"
      ],
      "text/plain": [
       "   logId            timestamp  sleep_level\n",
       "0      1  2020-05-01 00:00:00            1\n",
       "1      1  2020-05-01 01:00:00            1\n",
       "2      1  2020-05-01 03:00:00            2\n",
       "3      2  2020-05-02 00:00:00            1\n",
       "4      2  2020-05-02 01:00:00            1"
      ]
     },
     "execution_count": 6,
     "metadata": {},
     "output_type": "execute_result"
    }
   ],
   "source": [
    "import pandas as pd\n",
    "from tasrif.processing_pipeline.pandas import SetIndexOperator\n",
    "df = pd.DataFrame([\n",
    "    [1, \"2020-05-01 00:00:00\", 1],\n",
    "    [1, \"2020-05-01 01:00:00\", 1], \n",
    "    [1, \"2020-05-01 03:00:00\", 2], \n",
    "    [2, \"2020-05-02 00:00:00\", 1],\n",
    "    [2, \"2020-05-02 01:00:00\", 1]],\n",
    "    columns=['logId', 'timestamp', 'sleep_level'])\n",
    "\n",
    "df"
   ]
  },
  {
   "cell_type": "code",
   "execution_count": 5,
   "metadata": {},
   "outputs": [
    {
     "data": {
      "text/plain": [
       "[                     logId  sleep_level\n",
       " timestamp                              \n",
       " 2020-05-01 00:00:00      1            1\n",
       " 2020-05-01 01:00:00      1            1\n",
       " 2020-05-01 03:00:00      1            2\n",
       " 2020-05-02 00:00:00      2            1\n",
       " 2020-05-02 01:00:00      2            1]"
      ]
     },
     "execution_count": 5,
     "metadata": {},
     "output_type": "execute_result"
    }
   ],
   "source": [
    "op = SetIndexOperator('timestamp')\n",
    "\n",
    "op.process(df)"
   ]
  },
  {
   "cell_type": "code",
   "execution_count": null,
   "metadata": {},
   "outputs": [],
   "source": []
  }
 ],
 "metadata": {
  "kernelspec": {
   "display_name": "Python 3",
   "language": "python",
   "name": "python3"
  },
  "language_info": {
   "codemirror_mode": {
    "name": "ipython",
    "version": 3
   },
   "file_extension": ".py",
   "mimetype": "text/x-python",
   "name": "python",
   "nbconvert_exporter": "python",
   "pygments_lexer": "ipython3",
   "version": "3.9.2"
  }
 },
 "nbformat": 4,
 "nbformat_minor": 4
}
