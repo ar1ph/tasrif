{
 "cells": [
  {
   "cell_type": "code",
   "execution_count": 1,
   "metadata": {},
   "outputs": [
    {
     "name": "stdout",
     "output_type": "stream",
     "text": [
      "Some important stats:\n",
      "\t- This dataset contains unique data for  24966 participants.\n",
      "\t - ` recordId ` has 0 NAs ( 24966 / 24966 ) = 0.00 %\n",
      "\t - ` appVersion ` has 0 NAs ( 24966 / 24966 ) = 0.00 %\n",
      "\t - ` phoneInfo ` has 0 NAs ( 24966 / 24966 ) = 0.00 %\n",
      "\t - ` healthCode ` has 0 NAs ( 24966 / 24966 ) = 0.00 %\n",
      "\t - ` createdOn ` has 0 NAs ( 24966 / 24966 ) = 0.00 %\n",
      "\t - ` atwork ` has 4029 NAs ( 20937 / 24966 ) = 16.14 %\n",
      "\t - ` moderate_act ` has 1077 NAs ( 23889 / 24966 ) = 4.31 %\n",
      "\t - ` phys_activity ` has 105 NAs ( 24861 / 24966 ) = 0.42 %\n",
      "\t - ` sleep_diagnosis1 ` has 73 NAs ( 24893 / 24966 ) = 0.29 %\n",
      "\t - ` sleep_time ` has 118 NAs ( 24848 / 24966 ) = 0.47 %\n",
      "\t - ` sleep_time1 ` has 118 NAs ( 24848 / 24966 ) = 0.47 %\n",
      "\t - ` vigorous_act ` has 1065 NAs ( 23901 / 24966 ) = 4.27 %\n",
      "\t - ` work ` has 121 NAs ( 24845 / 24966 ) = 0.48 %\n"
     ]
    }
   ],
   "source": [
    "import pandas as pd\n",
    "\n",
    "df = pd.read_csv('E:\\\\Development\\\\siha\\\\Activity Sleep Survey.csv')\n",
    "\n",
    "\n",
    "def col_stats(df):\n",
    "    print('Some important stats:')\n",
    "    print('\\t- This dataset contains unique data for ', len(df) ,'participants.')\n",
    "    for col in df.columns:\n",
    "        null_percentage = \"{:.2f}\".format(df[col].isnull().sum()/len(df)*100)\n",
    "        print('\\t - `', col, '` has', df[col].isnull().sum(), 'NAs (', df[col].count().sum(), '/', len(df), ') =', \n",
    "              null_percentage, '%')\n",
    "        \n",
    "col_stats(df)\n",
    "\n",
    "from tasrif.data_readers.my_heart_counts import ActivitySleepSurveyDataset\n",
    "\n",
    "processed = ActivitySleepSurveyDataset(mhc_folder='E:\\\\Development\\\\siha\\\\')"
   ]
  },
  {
   "cell_type": "code",
   "execution_count": null,
   "metadata": {},
   "outputs": [],
   "source": [
    "processed.raw_dataframe()"
   ]
  },
  {
   "cell_type": "code",
   "execution_count": null,
   "metadata": {},
   "outputs": [],
   "source": [
    "processed.processed_dataframe()"
   ]
  },
  {
   "cell_type": "code",
   "execution_count": null,
   "metadata": {},
   "outputs": [],
   "source": [
    "processed.participant_count()"
   ]
  }
 ],
 "metadata": {
  "kernelspec": {
   "display_name": "Python 3",
   "language": "python",
   "name": "python3"
  },
  "language_info": {
   "codemirror_mode": {
    "name": "ipython",
    "version": 3
   },
   "file_extension": ".py",
   "mimetype": "text/x-python",
   "name": "python",
   "nbconvert_exporter": "python",
   "pygments_lexer": "ipython3",
   "version": "3.8.7"
  }
 },
 "nbformat": 4,
 "nbformat_minor": 4
}
