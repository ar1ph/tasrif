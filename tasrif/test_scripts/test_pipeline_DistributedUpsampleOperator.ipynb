{
 "cells": [
  {
   "cell_type": "code",
   "execution_count": 7,
   "metadata": {},
   "outputs": [],
   "source": [
    "import pandas as pd\n",
    "from tasrif.processing_pipeline.custom import DistributedUpsampleOperator\n",
    "df = pd.DataFrame([\n",
    "    [\"2020-05-01\", 16.5],\n",
    "    [\"2020-05-02\", 19.1],\n",
    "    ['2020-05-03', 0]],\n",
    "    columns=['timestamp', 'sedentary_hours'])\n",
    "\n",
    "df['timestamp'] = pd.to_datetime(df['timestamp'])\n",
    "df = df.set_index('timestamp')\n",
    "op = DistributedUpsampleOperator('6h')\n",
    "df = op.process(df)"
   ]
  },
  {
   "cell_type": "code",
   "execution_count": 8,
   "metadata": {},
   "outputs": [
    {
     "data": {
      "text/plain": [
       "[                     sedentary_hours\n",
       " timestamp                           \n",
       " 2020-05-01 00:00:00            4.125\n",
       " 2020-05-01 06:00:00            4.125\n",
       " 2020-05-01 12:00:00            4.125\n",
       " 2020-05-01 18:00:00            4.125\n",
       " 2020-05-02 00:00:00            4.775\n",
       " 2020-05-02 06:00:00            4.775\n",
       " 2020-05-02 12:00:00            4.775\n",
       " 2020-05-02 18:00:00            4.775\n",
       " 2020-05-03 00:00:00            0.000]"
      ]
     },
     "execution_count": 8,
     "metadata": {},
     "output_type": "execute_result"
    }
   ],
   "source": [
    "df"
   ]
  },
  {
   "cell_type": "code",
   "execution_count": null,
   "metadata": {},
   "outputs": [],
   "source": []
  }
 ],
 "metadata": {
  "kernelspec": {
   "display_name": "Python 3",
   "language": "python",
   "name": "python3"
  },
  "language_info": {
   "codemirror_mode": {
    "name": "ipython",
    "version": 3
   },
   "file_extension": ".py",
   "mimetype": "text/x-python",
   "name": "python",
   "nbconvert_exporter": "python",
   "pygments_lexer": "ipython3",
   "version": "3.9.2"
  }
 },
 "nbformat": 4,
 "nbformat_minor": 4
}
